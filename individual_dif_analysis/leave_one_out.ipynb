{
 "cells": [
  {
   "cell_type": "code",
   "execution_count": 1,
   "metadata": {
    "collapsed": true
   },
   "outputs": [],
   "source": [
    "import pandas as pd"
   ]
  },
  {
   "cell_type": "code",
   "execution_count": 4,
   "metadata": {},
   "outputs": [
    {
     "data": {
      "text/plain": [
       "True"
      ]
     },
     "execution_count": 4,
     "metadata": {},
     "output_type": "execute_result"
    }
   ],
   "source": [
    "psy_sheet_name = '/Users/amanda/Dropbox/Full Attribute Scores/psychology attributes/psychology-attributes.xlsx'\n",
    "\n",
    "# check if file path is correct. \n",
    "import os.path\n",
    "os.path.isfile(psy_sheet_name) "
   ]
  },
  {
   "cell_type": "code",
   "execution_count": 6,
   "metadata": {},
   "outputs": [
    {
     "name": "stderr",
     "output_type": "stream",
     "text": [
      "/Users/amanda/Library/Python/2.7/lib/python/site-packages/pandas/util/_decorators.py:118: FutureWarning: The `sheetname` keyword is deprecated, use `sheet_name` instead\n",
      "  return func(*args, **kwargs)\n"
     ]
    }
   ],
   "source": [
    "df = pd.read_excel(open(psy_sheet_name,'rb'), sheet_name='All Data')"
   ]
  },
  {
   "cell_type": "code",
   "execution_count": 7,
   "metadata": {},
   "outputs": [
    {
     "data": {
      "text/plain": [
       "(33430, 54)"
      ]
     },
     "execution_count": 7,
     "metadata": {},
     "output_type": "execute_result"
    }
   ],
   "source": [
    "df.shape"
   ]
  },
  {
   "cell_type": "code",
   "execution_count": 8,
   "metadata": {},
   "outputs": [
    {
     "data": {
      "text/plain": [
       "[u'Filename',\n",
       " u'Image #',\n",
       " u'atypical',\n",
       " u'boring',\n",
       " u'calm',\n",
       " u'catch',\n",
       " u'catchAns',\n",
       " u'cold',\n",
       " u'common',\n",
       " u'confident',\n",
       " u'egotistic',\n",
       " u'emotUnstable',\n",
       " u'forgettable',\n",
       " u'intelligent',\n",
       " u'introverted',\n",
       " u'kind',\n",
       " u'responsible',\n",
       " u'subID',\n",
       " u'subage',\n",
       " u'submale',\n",
       " u'subrace',\n",
       " u'trustworthy',\n",
       " u'unattractive',\n",
       " u'unemotional',\n",
       " u'unfamiliar',\n",
       " u'unfriendly',\n",
       " u'unhappy',\n",
       " u'weird',\n",
       " u'aggressive',\n",
       " u'attractive',\n",
       " u'caring',\n",
       " u'catch.1',\n",
       " u'catchAns.1',\n",
       " u'emotStable',\n",
       " u'emotional',\n",
       " u'familiar',\n",
       " u'friendly',\n",
       " u'happy',\n",
       " u'humble',\n",
       " u'interesting',\n",
       " u'irresponsible',\n",
       " u'mean',\n",
       " u'memorable',\n",
       " u'normal',\n",
       " u'sociable',\n",
       " u'subID.1',\n",
       " u'subage.1',\n",
       " u'submale.1',\n",
       " u'subrace.1',\n",
       " u'typical',\n",
       " u'uncertain',\n",
       " u'uncommon',\n",
       " u'unintelligent',\n",
       " u'untrustworthy']"
      ]
     },
     "execution_count": 8,
     "metadata": {},
     "output_type": "execute_result"
    }
   ],
   "source": [
    "list(df)"
   ]
  },
  {
   "cell_type": "code",
   "execution_count": 15,
   "metadata": {
    "collapsed": true
   },
   "outputs": [],
   "source": [
    "question_set1 = ['atypical','boring','calm', 'catch', 'catchAns', 'cold', \n",
    "                 'common','confident','egotistic','emotUnstable', 'forgettable',\n",
    "                 'intelligent','introverted','kind','responsible',\n",
    "                 'subID','subage','submale','subrace',\n",
    "                 'trustworthy', 'unattractive', 'unemotional', 'unfamiliar', 'unfriendly',\n",
    "                 'unhappy', 'weird',]"
   ]
  },
  {
   "cell_type": "code",
   "execution_count": 16,
   "metadata": {},
   "outputs": [
    {
     "data": {
      "text/plain": [
       "26"
      ]
     },
     "execution_count": 16,
     "metadata": {},
     "output_type": "execute_result"
    }
   ],
   "source": [
    "len(question_set1)"
   ]
  },
  {
   "cell_type": "code",
   "execution_count": 13,
   "metadata": {
    "collapsed": true
   },
   "outputs": [],
   "source": [
    "question_set2 = ['aggressive', 'attractive', 'caring', 'catch.1', 'catchAns.1',\n",
    "                 'emotStable', 'emotional', 'familiar', 'friendly', 'happy',\n",
    "                 'humble', 'interesting', 'irresponsible', 'mean', 'memorable',\n",
    "                 'normal', 'sociable', 'subID.1', 'subage.1', 'submale.1', 'subrace.1',\n",
    "                 'typical', 'uncertain', 'uncommon', 'unintelligent','untrustworthy']"
   ]
  },
  {
   "cell_type": "code",
   "execution_count": 14,
   "metadata": {},
   "outputs": [
    {
     "data": {
      "text/plain": [
       "26"
      ]
     },
     "execution_count": 14,
     "metadata": {},
     "output_type": "execute_result"
    }
   ],
   "source": [
    "len(question_set2)"
   ]
  },
  {
   "cell_type": "code",
   "execution_count": 19,
   "metadata": {
    "collapsed": true
   },
   "outputs": [],
   "source": [
    "common_lst = ['Filename', 'Image #']\n",
    "subset1 = common_lst + question_set1\n",
    "subset2 = common_lst + question_set2"
   ]
  },
  {
   "cell_type": "code",
   "execution_count": 20,
   "metadata": {
    "collapsed": true
   },
   "outputs": [],
   "source": [
    "df1 = df[subset1]  # 33,430 * 28"
   ]
  },
  {
   "cell_type": "code",
   "execution_count": 21,
   "metadata": {
    "collapsed": true
   },
   "outputs": [],
   "source": [
    "df2 = df[subset2]  # 33,430 * 28"
   ]
  },
  {
   "cell_type": "code",
   "execution_count": 24,
   "metadata": {},
   "outputs": [
    {
     "data": {
      "text/html": [
       "<div>\n",
       "<style scoped>\n",
       "    .dataframe tbody tr th:only-of-type {\n",
       "        vertical-align: middle;\n",
       "    }\n",
       "\n",
       "    .dataframe tbody tr th {\n",
       "        vertical-align: top;\n",
       "    }\n",
       "\n",
       "    .dataframe thead th {\n",
       "        text-align: right;\n",
       "    }\n",
       "</style>\n",
       "<table border=\"1\" class=\"dataframe\">\n",
       "  <thead>\n",
       "    <tr style=\"text-align: right;\">\n",
       "      <th></th>\n",
       "      <th>Filename</th>\n",
       "      <th>Image #</th>\n",
       "      <th>atypical</th>\n",
       "      <th>boring</th>\n",
       "      <th>calm</th>\n",
       "      <th>catch</th>\n",
       "      <th>catchAns</th>\n",
       "      <th>cold</th>\n",
       "      <th>common</th>\n",
       "      <th>confident</th>\n",
       "      <th>...</th>\n",
       "      <th>subage</th>\n",
       "      <th>submale</th>\n",
       "      <th>subrace</th>\n",
       "      <th>trustworthy</th>\n",
       "      <th>unattractive</th>\n",
       "      <th>unemotional</th>\n",
       "      <th>unfamiliar</th>\n",
       "      <th>unfriendly</th>\n",
       "      <th>unhappy</th>\n",
       "      <th>weird</th>\n",
       "    </tr>\n",
       "  </thead>\n",
       "  <tbody>\n",
       "    <tr>\n",
       "      <th>0</th>\n",
       "      <td>Google_1_Danielle Goble_5_oval.jpg</td>\n",
       "      <td>1</td>\n",
       "      <td>4.0</td>\n",
       "      <td>6.0</td>\n",
       "      <td>6.0</td>\n",
       "      <td>7.0</td>\n",
       "      <td>7.0</td>\n",
       "      <td>6.0</td>\n",
       "      <td>5.0</td>\n",
       "      <td>7.0</td>\n",
       "      <td>...</td>\n",
       "      <td>4.0</td>\n",
       "      <td>0.0</td>\n",
       "      <td>4.0</td>\n",
       "      <td>4.0</td>\n",
       "      <td>3.0</td>\n",
       "      <td>3.0</td>\n",
       "      <td>6.0</td>\n",
       "      <td>6.0</td>\n",
       "      <td>5.0</td>\n",
       "      <td>6.0</td>\n",
       "    </tr>\n",
       "    <tr>\n",
       "      <th>1</th>\n",
       "      <td>Google_1_Danielle Goble_5_oval.jpg</td>\n",
       "      <td>1</td>\n",
       "      <td>3.0</td>\n",
       "      <td>9.0</td>\n",
       "      <td>6.0</td>\n",
       "      <td>9.0</td>\n",
       "      <td>9.0</td>\n",
       "      <td>1.0</td>\n",
       "      <td>8.0</td>\n",
       "      <td>4.0</td>\n",
       "      <td>...</td>\n",
       "      <td>3.0</td>\n",
       "      <td>0.0</td>\n",
       "      <td>1.0</td>\n",
       "      <td>4.0</td>\n",
       "      <td>9.0</td>\n",
       "      <td>7.0</td>\n",
       "      <td>1.0</td>\n",
       "      <td>4.0</td>\n",
       "      <td>3.0</td>\n",
       "      <td>1.0</td>\n",
       "    </tr>\n",
       "    <tr>\n",
       "      <th>2</th>\n",
       "      <td>Google_1_Danielle Goble_5_oval.jpg</td>\n",
       "      <td>1</td>\n",
       "      <td>5.0</td>\n",
       "      <td>5.0</td>\n",
       "      <td>6.0</td>\n",
       "      <td>8.0</td>\n",
       "      <td>8.0</td>\n",
       "      <td>5.0</td>\n",
       "      <td>5.0</td>\n",
       "      <td>7.0</td>\n",
       "      <td>...</td>\n",
       "      <td>4.0</td>\n",
       "      <td>0.0</td>\n",
       "      <td>1.0</td>\n",
       "      <td>5.0</td>\n",
       "      <td>7.0</td>\n",
       "      <td>5.0</td>\n",
       "      <td>8.0</td>\n",
       "      <td>5.0</td>\n",
       "      <td>4.0</td>\n",
       "      <td>5.0</td>\n",
       "    </tr>\n",
       "    <tr>\n",
       "      <th>3</th>\n",
       "      <td>Google_1_Danielle Goble_5_oval.jpg</td>\n",
       "      <td>1</td>\n",
       "      <td>4.0</td>\n",
       "      <td>7.0</td>\n",
       "      <td>4.0</td>\n",
       "      <td>5.0</td>\n",
       "      <td>5.0</td>\n",
       "      <td>5.0</td>\n",
       "      <td>5.0</td>\n",
       "      <td>5.0</td>\n",
       "      <td>...</td>\n",
       "      <td>4.0</td>\n",
       "      <td>0.0</td>\n",
       "      <td>1.0</td>\n",
       "      <td>4.0</td>\n",
       "      <td>4.0</td>\n",
       "      <td>2.0</td>\n",
       "      <td>4.0</td>\n",
       "      <td>5.0</td>\n",
       "      <td>5.0</td>\n",
       "      <td>6.0</td>\n",
       "    </tr>\n",
       "    <tr>\n",
       "      <th>4</th>\n",
       "      <td>Google_1_Danielle Goble_5_oval.jpg</td>\n",
       "      <td>1</td>\n",
       "      <td>3.0</td>\n",
       "      <td>5.0</td>\n",
       "      <td>5.0</td>\n",
       "      <td>7.0</td>\n",
       "      <td>7.0</td>\n",
       "      <td>5.0</td>\n",
       "      <td>5.0</td>\n",
       "      <td>6.0</td>\n",
       "      <td>...</td>\n",
       "      <td>3.0</td>\n",
       "      <td>1.0</td>\n",
       "      <td>1.0</td>\n",
       "      <td>5.0</td>\n",
       "      <td>4.0</td>\n",
       "      <td>6.0</td>\n",
       "      <td>3.0</td>\n",
       "      <td>3.0</td>\n",
       "      <td>2.0</td>\n",
       "      <td>2.0</td>\n",
       "    </tr>\n",
       "  </tbody>\n",
       "</table>\n",
       "<p>5 rows × 28 columns</p>\n",
       "</div>"
      ],
      "text/plain": [
       "                             Filename  Image #  atypical  boring  calm  catch  \\\n",
       "0  Google_1_Danielle Goble_5_oval.jpg        1       4.0     6.0   6.0    7.0   \n",
       "1  Google_1_Danielle Goble_5_oval.jpg        1       3.0     9.0   6.0    9.0   \n",
       "2  Google_1_Danielle Goble_5_oval.jpg        1       5.0     5.0   6.0    8.0   \n",
       "3  Google_1_Danielle Goble_5_oval.jpg        1       4.0     7.0   4.0    5.0   \n",
       "4  Google_1_Danielle Goble_5_oval.jpg        1       3.0     5.0   5.0    7.0   \n",
       "\n",
       "   catchAns  cold  common  confident  ...    subage  submale  subrace  \\\n",
       "0       7.0   6.0     5.0        7.0  ...       4.0      0.0      4.0   \n",
       "1       9.0   1.0     8.0        4.0  ...       3.0      0.0      1.0   \n",
       "2       8.0   5.0     5.0        7.0  ...       4.0      0.0      1.0   \n",
       "3       5.0   5.0     5.0        5.0  ...       4.0      0.0      1.0   \n",
       "4       7.0   5.0     5.0        6.0  ...       3.0      1.0      1.0   \n",
       "\n",
       "   trustworthy  unattractive  unemotional  unfamiliar  unfriendly  unhappy  \\\n",
       "0          4.0           3.0          3.0         6.0         6.0      5.0   \n",
       "1          4.0           9.0          7.0         1.0         4.0      3.0   \n",
       "2          5.0           7.0          5.0         8.0         5.0      4.0   \n",
       "3          4.0           4.0          2.0         4.0         5.0      5.0   \n",
       "4          5.0           4.0          6.0         3.0         3.0      2.0   \n",
       "\n",
       "   weird  \n",
       "0    6.0  \n",
       "1    1.0  \n",
       "2    5.0  \n",
       "3    6.0  \n",
       "4    2.0  \n",
       "\n",
       "[5 rows x 28 columns]"
      ]
     },
     "execution_count": 24,
     "metadata": {},
     "output_type": "execute_result"
    }
   ],
   "source": [
    "df1.head()"
   ]
  },
  {
   "cell_type": "code",
   "execution_count": 25,
   "metadata": {},
   "outputs": [
    {
     "data": {
      "text/plain": [
       "1154"
      ]
     },
     "execution_count": 25,
     "metadata": {},
     "output_type": "execute_result"
    }
   ],
   "source": [
    "# We want to compute an average person's correlation with the rest of the group by every attribute\n",
    "\n",
    "# count how many different subID there are for each subset.  \n",
    "df1['subID'].nunique()"
   ]
  },
  {
   "cell_type": "code",
   "execution_count": 26,
   "metadata": {},
   "outputs": [
    {
     "data": {
      "text/plain": [
       "1148"
      ]
     },
     "execution_count": 26,
     "metadata": {},
     "output_type": "execute_result"
    }
   ],
   "source": [
    "df2['subID.1'].nunique()"
   ]
  },
  {
   "cell_type": "code",
   "execution_count": 29,
   "metadata": {},
   "outputs": [],
   "source": [
    "fre_count = df1['subID'].value_counts()"
   ]
  },
  {
   "cell_type": "code",
   "execution_count": 28,
   "metadata": {
    "collapsed": true
   },
   "outputs": [],
   "source": [
    "%matplotlib inline\n",
    "\n",
    "import matplotlib\n",
    "import numpy as np\n",
    "import matplotlib.pyplot as plt"
   ]
  },
  {
   "cell_type": "code",
   "execution_count": 32,
   "metadata": {},
   "outputs": [
    {
     "data": {
      "text/plain": [
       "(1154,)"
      ]
     },
     "execution_count": 32,
     "metadata": {},
     "output_type": "execute_result"
    }
   ],
   "source": [
    "fre_count.shape\n",
    "# axs[0].hist(x, bins=n_bins)"
   ]
  },
  {
   "cell_type": "code",
   "execution_count": 34,
   "metadata": {},
   "outputs": [
    {
     "data": {
      "text/plain": [
       "pandas.core.series.Series"
      ]
     },
     "execution_count": 34,
     "metadata": {},
     "output_type": "execute_result"
    }
   ],
   "source": [
    "type(fre_count)"
   ]
  },
  {
   "cell_type": "code",
   "execution_count": 35,
   "metadata": {},
   "outputs": [
    {
     "data": {
      "text/plain": [
       "<BarContainer object of 1154 artists>"
      ]
     },
     "execution_count": 35,
     "metadata": {},
     "output_type": "execute_result"
    },
    {
     "data": {
      "image/png": "[encoded data removed]",
      "text/plain": [
       "<Figure size 432x288 with 1 Axes>"
      ]
     },
     "metadata": {},
     "output_type": "display_data"
    }
   ],
   "source": [
    "x = np.arange(len(fre_count))\n",
    "\n",
    "# fig, ax = plt.subplots()\n",
    "# ax.yaxis.set_major_formatter(formatter)\n",
    "plt.bar(x, fre_count)"
   ]
  },
  {
   "cell_type": "code",
   "execution_count": 47,
   "metadata": {},
   "outputs": [
    {
     "data": {
      "text/plain": [
       "1236.0    741\n",
       "417.0     710\n",
       "866.0     708\n",
       "1073.0    640\n",
       "132.0     531\n",
       "79.0      487\n",
       "944.0     470\n",
       "1093.0    460\n",
       "1213.0    450\n",
       "1122.0    441\n",
       "656.0     386\n",
       "113.0     381\n",
       "922.0     378\n",
       "673.0     354\n",
       "1116.0    352\n",
       "790.0     339\n",
       "1150.0    339\n",
       "526.0     338\n",
       "749.0     330\n",
       "901.0     329\n",
       "1202.0    311\n",
       "1112.0    269\n",
       "678.0     264\n",
       "974.0     263\n",
       "165.0     259\n",
       "508.0     234\n",
       "355.0     232\n",
       "443.0     231\n",
       "853.0     222\n",
       "432.0     221\n",
       "         ... \n",
       "855.0       1\n",
       "35.0        1\n",
       "1134.0      1\n",
       "461.0       1\n",
       "396.0       1\n",
       "131.0       1\n",
       "1060.0      1\n",
       "477.0       1\n",
       "824.0       1\n",
       "1071.0      1\n",
       "1187.0      1\n",
       "305.0       1\n",
       "960.0       1\n",
       "1267.0      1\n",
       "13.0        1\n",
       "1159.0      1\n",
       "525.0       1\n",
       "756.0       1\n",
       "609.0       1\n",
       "1063.0      1\n",
       "1018.0      1\n",
       "322.0       1\n",
       "240.0       1\n",
       "877.0       1\n",
       "697.0       1\n",
       "1036.0      1\n",
       "1028.0      1\n",
       "520.0       1\n",
       "873.0       1\n",
       "45.0        1\n",
       "Name: subID, Length: 1154, dtype: int64"
      ]
     },
     "execution_count": 47,
     "metadata": {},
     "output_type": "execute_result"
    }
   ],
   "source": [
    "fre_count"
   ]
  },
  {
   "cell_type": "code",
   "execution_count": 48,
   "metadata": {},
   "outputs": [
    {
     "data": {
      "text/plain": [
       "27909"
      ]
     },
     "execution_count": 48,
     "metadata": {},
     "output_type": "execute_result"
    }
   ],
   "source": [
    "sum(fre_count[:10])"
   ]
  },
  {
   "cell_type": "code",
   "execution_count": 63,
   "metadata": {
    "scrolled": true
   },
   "outputs": [
    {
     "data": {
      "text/plain": [
       "0.5989290415220773"
      ]
     },
     "execution_count": 63,
     "metadata": {},
     "output_type": "execute_result"
    }
   ],
   "source": [
    "sum(fre_count[:11])/ float(sum(fre_count[:]))"
   ]
  },
  {
   "cell_type": "code",
   "execution_count": 64,
   "metadata": {},
   "outputs": [
    {
     "data": {
      "text/plain": [
       "20021"
      ]
     },
     "execution_count": 64,
     "metadata": {},
     "output_type": "execute_result"
    }
   ],
   "source": [
    "sum(fre_count[:11])"
   ]
  },
  {
   "cell_type": "code",
   "execution_count": 65,
   "metadata": {},
   "outputs": [
    {
     "data": {
      "text/plain": [
       "27909"
      ]
     },
     "execution_count": 65,
     "metadata": {},
     "output_type": "execute_result"
    }
   ],
   "source": [
    "sum(fre_count[:10])"
   ]
  },
  {
   "cell_type": "code",
   "execution_count": 66,
   "metadata": {},
   "outputs": [
    {
     "data": {
      "text/plain": [
       "381"
      ]
     },
     "execution_count": 66,
     "metadata": {},
     "output_type": "execute_result"
    }
   ],
   "source": [
    "fre_count.iloc[11]"
   ]
  },
  {
   "cell_type": "code",
   "execution_count": null,
   "metadata": {
    "collapsed": true
   },
   "outputs": [],
   "source": []
  }
 ],
 "metadata": {
  "kernelspec": {
   "display_name": "Python 2",
   "language": "python",
   "name": "python2"
  },
  "language_info": {
   "codemirror_mode": {
    "name": "ipython",
    "version": 2
   },
   "file_extension": ".py",
   "mimetype": "text/x-python",
   "name": "python",
   "nbconvert_exporter": "python",
   "pygments_lexer": "ipython2",
   "version": "2.7.13"
  }
 },
 "nbformat": 4,
 "nbformat_minor": 2
}
