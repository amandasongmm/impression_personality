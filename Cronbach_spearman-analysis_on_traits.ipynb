{
 "cells": [
  {
   "cell_type": "code",
   "execution_count": 1,
   "metadata": {},
   "outputs": [],
   "source": [
    "import numpy as np\n",
    "import shutil \n",
    "import os\n",
    "import os.path\n",
    "import random\n",
    "from scipy.stats import spearmanr"
   ]
  },
  {
   "cell_type": "markdown",
   "metadata": {},
   "source": [
    "taking 10 raters per image"
   ]
  },
  {
   "cell_type": "code",
   "execution_count": 2,
   "metadata": {},
   "outputs": [
    {
     "name": "stderr",
     "output_type": "stream",
     "text": [
      "/Users/asmitharathis/anaconda3/lib/python3.6/site-packages/numpy/core/fromnumeric.py:3194: RuntimeWarning: Degrees of freedom <= 0 for slice\n",
      "  **kwargs)\n",
      "/Users/asmitharathis/anaconda3/lib/python3.6/site-packages/numpy/core/_methods.py:105: RuntimeWarning: invalid value encountered in true_divide\n",
      "  arrmean, rcount, out=arrmean, casting='unsafe', subok=False)\n",
      "/Users/asmitharathis/anaconda3/lib/python3.6/site-packages/numpy/core/_methods.py:127: RuntimeWarning: invalid value encountered in double_scalars\n",
      "  ret = ret.dtype.type(ret / rcount)\n"
     ]
    }
   ],
   "source": [
    "filepath = 'psychology-attributes.csv'  \n",
    "new={}\n",
    "fp = open(filepath,\"r\")\n",
    "\n",
    "lines = fp.readlines()\n",
    "cat=lines[0]\n",
    "traits = cat.strip('\\n').split(\",\")\n",
    "trait=traits[2:52]\n",
    "for att in range(2,52):\n",
    "    d={}\n",
    "    for line in lines[1:]:\n",
    "\n",
    "        words = line.strip('\\n').split(\",\")\n",
    "\n",
    "        img=int(words[1])\n",
    "        if(img not in d):\n",
    "            c=0\n",
    "            d[img]=[]\n",
    "            if(words[att]!=\"NaN\"):\n",
    "\n",
    "                d[img].append(int(words[att]))\n",
    "        else:\n",
    "            \n",
    "            if(words[att]!=\"NaN\" and c<10):\n",
    "                c=c+1\n",
    "                d[img].append(int(words[att]))\n",
    "\n",
    "    sum_var=0\n",
    "    l=[]\n",
    "    for i in range(10):\n",
    "\n",
    "        l.append(0)\n",
    "\n",
    "\n",
    "    for x in d:\n",
    "        l=[f + s for f, s in zip(l, d[x])]\n",
    "        v=np.var(d[x])\n",
    "        sum_var+=v\n",
    "\n",
    "    k=len(d)\n",
    "    x_var=np.var(l)\n",
    "    alpha=k/(k-1) * (1-(sum_var/x_var))\n",
    "    new[trait[att-2]]=alpha"
   ]
  },
  {
   "cell_type": "code",
   "execution_count": 3,
   "metadata": {},
   "outputs": [
    {
     "data": {
      "text/plain": [
       "{'aggressive': -2.067425650911478,\n",
       " 'attractive': 0.3853587455842597,\n",
       " 'atypical': 0.4126376519477744,\n",
       " 'boring': -0.2673375947243281,\n",
       " 'calm': -0.8043596804036509,\n",
       " 'caring': 0.1189499088144121,\n",
       " 'catch': -0.23394374061383547,\n",
       " 'catchAns': -0.2602734050056607,\n",
       " 'cold': 0.4031323432646415,\n",
       " 'common': -1.8991441816928671,\n",
       " 'confident': 0.1239845877908183,\n",
       " 'egotistic': -0.7019629824578503,\n",
       " 'emotStable': -0.4267432581781442,\n",
       " 'emotUnstable': -0.29523274936521543,\n",
       " 'emotional': 0.06211130119935759,\n",
       " 'familiar': 0.3963501642853359,\n",
       " 'forgettable': -1.6975972971590858,\n",
       " 'friendly': 0.35052181195209176,\n",
       " 'happy': 0.3312598624964386,\n",
       " 'humble': 0.33125462765680014,\n",
       " 'intelligent': -0.3252586704468139,\n",
       " 'interesting': 0.5630395902766856,\n",
       " 'introverted': 0.529864419500599,\n",
       " 'irresponsible': -1.5342047110978017,\n",
       " 'kind': -0.037174180617903556,\n",
       " 'mean': -1.222271895282056,\n",
       " 'memorable': 0.37799310133729863,\n",
       " 'normal': -0.7100296142591903,\n",
       " 'responsible': -0.9935221466484363,\n",
       " 'sociable': 0.23501821628538372,\n",
       " 'subage': nan,\n",
       " 'submale': nan,\n",
       " 'subrace': nan,\n",
       " 'trustworthy': -0.6058614041682298,\n",
       " 'typical': 0.3667195129691551,\n",
       " 'unattractive': 0.13871229520596115,\n",
       " 'uncertain': -0.08283306024109054,\n",
       " 'uncommon': -2.2672653739328497,\n",
       " 'unemotional': 0.5396947743313975,\n",
       " 'unfamiliar': 0.40925391744316064,\n",
       " 'unfriendly': 0.1982286943573061,\n",
       " 'unhappy': 0.18661498285589562,\n",
       " 'unintelligent': -2.330086936685824,\n",
       " 'untrustworthy': -0.775425794261497,\n",
       " 'weird': 0.3201273080442255}"
      ]
     },
     "execution_count": 3,
     "metadata": {},
     "output_type": "execute_result"
    }
   ],
   "source": [
    "new"
   ]
  },
  {
   "cell_type": "markdown",
   "metadata": {},
   "source": [
    "TASK 2: "
   ]
  },
  {
   "cell_type": "code",
   "execution_count": 20,
   "metadata": {},
   "outputs": [],
   "source": [
    "new_spear={}\n",
    "for att in range(2,52):\n",
    "    d={}\n",
    "    if att ==17 or att ==18 or att==19 or att ==45 or att ==46 or att==44:\n",
    "        continue\n",
    "    for line in lines[1:]:\n",
    "\n",
    "        words = line.strip('\\n').split(\",\")\n",
    "\n",
    "        img=int(words[1])\n",
    "        if(img not in d):\n",
    "            c=0\n",
    "            d[img]=[]\n",
    "            if(words[att]!=\"NaN\"):\n",
    "\n",
    "                d[img].append(int(words[att]))\n",
    "        else:\n",
    "            \n",
    "            if(words[att]!=\"NaN\" and c<10):\n",
    "                c=c+1\n",
    "                d[img].append(int(words[att]))\n",
    "    for itera in range(50):\n",
    "#         p=random.sample(range(0,10),10)\n",
    "#         grp1=p[:5]\n",
    "#         grp2=p[5:]\n",
    "\n",
    "#         face_g1=[]\n",
    "#         face_g2=[]\n",
    "#         s1=0\n",
    "#         s2=0\n",
    "#         for each in d:\n",
    "#             for g1 in grp1:\n",
    "\n",
    "#                 s1+=d[each][g1]\n",
    "\n",
    "#             for g2 in grp2:\n",
    "\n",
    "#                 s2+=d[each][g2]\n",
    "\n",
    "#                 s1=s1/5\n",
    "#                 s2=s2/5\n",
    "\n",
    "#             face_g1.append(s1)\n",
    "#             face_g2.append(s2)\n",
    "\n",
    "#         corr, p_value = spearmanr(face_g1, face_g2)\n",
    "#         if(trait[att-2] not in new_spear):\n",
    "#             new_spear[trait[att-2]]=[]\n",
    "#         new_spear[trait[att-2]].append(corr)\n",
    "        face_g1=[]\n",
    "        face_g2=[]\n",
    "        for each in d:\n",
    "            p=random.sample(range(0,len(d[each])),len(d[each]))\n",
    "            \n",
    "            grp1=p[:int(len(p)/2)]\n",
    "            grp2=p[int(len(p)/2+1):]\n",
    "\n",
    "            \n",
    "            s1=0\n",
    "            s2=0\n",
    "            for g1 in grp1:\n",
    "\n",
    "                s1+=d[each][g1]\n",
    "\n",
    "            for g2 in grp2:\n",
    "\n",
    "                s2+=d[each][g2]\n",
    "\n",
    "                s1=s1/5\n",
    "                s2=s2/5\n",
    "\n",
    "            face_g1.append(s1)\n",
    "            face_g2.append(s2)\n",
    "\n",
    "        corr, p_value = spearmanr(face_g1, face_g2)\n",
    "        if(trait[att-2] not in new_spear):\n",
    "            new_spear[trait[att-2]]=[]\n",
    "        new_spear[trait[att-2]].append(corr)"
   ]
  },
  {
   "cell_type": "code",
   "execution_count": 21,
   "metadata": {},
   "outputs": [],
   "source": [
    "for i in new_spear:\n",
    "    new_spear[i]=np.mean(new_spear[i])"
   ]
  },
  {
   "cell_type": "code",
   "execution_count": 22,
   "metadata": {},
   "outputs": [
    {
     "data": {
      "text/plain": [
       "{'aggressive': 0.350406874316822,\n",
       " 'attractive': 0.457203016911543,\n",
       " 'atypical': 0.08650152317995577,\n",
       " 'boring': 0.18722233694572663,\n",
       " 'calm': 0.1696155996133166,\n",
       " 'caring': 0.42504572257516365,\n",
       " 'catch': 0.002276904438347824,\n",
       " 'catchAns': 0.0030607518481166026,\n",
       " 'cold': 0.4185254769582999,\n",
       " 'common': 0.10938161197401057,\n",
       " 'confident': 0.27476438052919305,\n",
       " 'egotistic': 0.26652902706343273,\n",
       " 'emotStable': 0.2562431697611406,\n",
       " 'emotUnstable': 0.22678382844195194,\n",
       " 'emotional': 0.1593242256454218,\n",
       " 'familiar': 0.10111275861326396,\n",
       " 'forgettable': 0.12081382279951512,\n",
       " 'friendly': 0.48804474358575534,\n",
       " 'happy': 0.5641203473701523,\n",
       " 'humble': 0.28521663092310523,\n",
       " 'intelligent': 0.2328980660918536,\n",
       " 'interesting': 0.1923085964587566,\n",
       " 'introverted': 0.25738748498614883,\n",
       " 'irresponsible': 0.25656789127557045,\n",
       " 'kind': 0.4281410100015969,\n",
       " 'mean': 0.3705542818085545,\n",
       " 'memorable': 0.13254109321455085,\n",
       " 'normal': 0.23134951938621306,\n",
       " 'responsible': 0.2967027527862941,\n",
       " 'sociable': 0.43027615372704453,\n",
       " 'trustworthy': 0.3319555264390055,\n",
       " 'typical': 0.10762549024754846,\n",
       " 'unattractive': 0.36544951197332837,\n",
       " 'uncertain': 0.20836757493559258,\n",
       " 'uncommon': 0.09498748201068884,\n",
       " 'unemotional': 0.2912399859883653,\n",
       " 'unfamiliar': 0.06964753678818891,\n",
       " 'unfriendly': 0.42235772295918744,\n",
       " 'unhappy': 0.4499758973181154,\n",
       " 'unintelligent': 0.18306244684094608,\n",
       " 'untrustworthy': 0.30774816741308086,\n",
       " 'weird': 0.25262851316067225}"
      ]
     },
     "execution_count": 22,
     "metadata": {},
     "output_type": "execute_result"
    }
   ],
   "source": [
    "new_spear"
   ]
  },
  {
   "cell_type": "code",
   "execution_count": 7,
   "metadata": {},
   "outputs": [
    {
     "data": {
      "text/plain": [
       "{'aggressive': -2.067425650911478,\n",
       " 'attractive': 0.3853587455842597,\n",
       " 'atypical': 0.4126376519477744,\n",
       " 'boring': -0.2673375947243281,\n",
       " 'calm': -0.8043596804036509,\n",
       " 'caring': 0.1189499088144121,\n",
       " 'catch': -0.23394374061383547,\n",
       " 'catchAns': -0.2602734050056607,\n",
       " 'cold': 0.4031323432646415,\n",
       " 'common': -1.8991441816928671,\n",
       " 'confident': 0.1239845877908183,\n",
       " 'egotistic': -0.7019629824578503,\n",
       " 'emotStable': -0.4267432581781442,\n",
       " 'emotUnstable': -0.29523274936521543,\n",
       " 'emotional': 0.06211130119935759,\n",
       " 'familiar': 0.3963501642853359,\n",
       " 'forgettable': -1.6975972971590858,\n",
       " 'friendly': 0.35052181195209176,\n",
       " 'happy': 0.3312598624964386,\n",
       " 'humble': 0.33125462765680014,\n",
       " 'intelligent': -0.3252586704468139,\n",
       " 'interesting': 0.5630395902766856,\n",
       " 'introverted': 0.529864419500599,\n",
       " 'irresponsible': -1.5342047110978017,\n",
       " 'kind': -0.037174180617903556,\n",
       " 'mean': -1.222271895282056,\n",
       " 'memorable': 0.37799310133729863,\n",
       " 'normal': -0.7100296142591903,\n",
       " 'responsible': -0.9935221466484363,\n",
       " 'sociable': 0.23501821628538372,\n",
       " 'subage': nan,\n",
       " 'submale': nan,\n",
       " 'subrace': nan,\n",
       " 'trustworthy': -0.6058614041682298,\n",
       " 'typical': 0.3667195129691551,\n",
       " 'unattractive': 0.13871229520596115,\n",
       " 'uncertain': -0.08283306024109054,\n",
       " 'uncommon': -2.2672653739328497,\n",
       " 'unemotional': 0.5396947743313975,\n",
       " 'unfamiliar': 0.40925391744316064,\n",
       " 'unfriendly': 0.1982286943573061,\n",
       " 'unhappy': 0.18661498285589562,\n",
       " 'unintelligent': -2.330086936685824,\n",
       " 'untrustworthy': -0.775425794261497,\n",
       " 'weird': 0.3201273080442255}"
      ]
     },
     "execution_count": 7,
     "metadata": {},
     "output_type": "execute_result"
    }
   ],
   "source": [
    "new"
   ]
  },
  {
   "cell_type": "code",
   "execution_count": 196,
   "metadata": {},
   "outputs": [],
   "source": [
    "combin={}\n",
    "for each in new_spear:\n",
    "    combin[each]=[new[each],new_spear[each]]\n",
    "    "
   ]
  },
  {
   "cell_type": "code",
   "execution_count": 197,
   "metadata": {},
   "outputs": [
    {
     "data": {
      "text/plain": [
       "{'aggressive': [-2.067425650911478, 0.35283760920833723],\n",
       " 'attractive': [0.3853587455842597, 0.46142219870564416],\n",
       " 'atypical': [0.4126376519477744, 0.08721807353600469],\n",
       " 'boring': [-0.2673375947243281, 0.19316134542749097],\n",
       " 'calm': [-0.8043596804036509, 0.16464154577639392],\n",
       " 'caring': [0.1189499088144121, 0.42456829762999765],\n",
       " 'catch': [-0.23394374061383547, -0.0013503976260340307],\n",
       " 'catchAns': [-0.2602734050056607, 0.0018836173263657619],\n",
       " 'cold': [0.4031323432646415, 0.42062313335625623],\n",
       " 'common': [-1.8991441816928671, 0.10599610459761846],\n",
       " 'confident': [0.1239845877908183, 0.2696510454344592],\n",
       " 'egotistic': [-0.7019629824578503, 0.2683967448019752],\n",
       " 'emotStable': [-0.4267432581781442, 0.2596846482022107],\n",
       " 'emotUnstable': [-0.29523274936521543, 0.23157841350497144],\n",
       " 'emotional': [0.06211130119935759, 0.15273743585735494],\n",
       " 'familiar': [0.3963501642853359, 0.10024046790881852],\n",
       " 'forgettable': [-1.6975972971590858, 0.11607952379192038],\n",
       " 'friendly': [0.35052181195209176, 0.48675212234251025],\n",
       " 'happy': [0.3312598624964386, 0.5637879622660374],\n",
       " 'humble': [0.33125462765680014, 0.29401229601490286],\n",
       " 'intelligent': [-0.3252586704468139, 0.2264433593422504],\n",
       " 'interesting': [0.5630395902766856, 0.19858121443186946],\n",
       " 'introverted': [0.529864419500599, 0.2577746651431702],\n",
       " 'irresponsible': [-1.5342047110978017, 0.2618833322555523],\n",
       " 'kind': [-0.037174180617903556, 0.42918120157945516],\n",
       " 'mean': [-1.222271895282056, 0.36673988485413533],\n",
       " 'memorable': [0.37799310133729863, 0.1471847645703885],\n",
       " 'normal': [-0.7100296142591903, 0.23254965002412745],\n",
       " 'responsible': [-0.9935221466484363, 0.2979682553794646],\n",
       " 'sociable': [0.23501821628538372, 0.4385572526233566],\n",
       " 'trustworthy': [-0.6058614041682298, 0.33176532620317717],\n",
       " 'typical': [0.3667195129691551, 0.10773161982311748],\n",
       " 'unattractive': [0.13871229520596115, 0.3654471465120784],\n",
       " 'uncertain': [-0.08283306024109054, 0.200201994484943],\n",
       " 'uncommon': [-2.2672653739328497, 0.09538862188113596],\n",
       " 'unemotional': [0.5396947743313975, 0.28841439211808045],\n",
       " 'unfamiliar': [0.40925391744316064, 0.07302281147702284],\n",
       " 'unfriendly': [0.1982286943573061, 0.4207658552351108],\n",
       " 'unhappy': [0.18661498285589562, 0.45314049910147575],\n",
       " 'unintelligent': [-2.330086936685824, 0.18141510806834624],\n",
       " 'untrustworthy': [-0.775425794261497, 0.3107618970145422],\n",
       " 'weird': [0.3201273080442255, 0.24772931034033255]}"
      ]
     },
     "execution_count": 197,
     "metadata": {},
     "output_type": "execute_result"
    }
   ],
   "source": [
    "scatter()"
   ]
  },
  {
   "cell_type": "code",
   "execution_count": null,
   "metadata": {},
   "outputs": [],
   "source": []
  }
 ],
 "metadata": {
  "kernelspec": {
   "display_name": "Python 3",
   "language": "python",
   "name": "python3"
  },
  "language_info": {
   "codemirror_mode": {
    "name": "ipython",
    "version": 3
   },
   "file_extension": ".py",
   "mimetype": "text/x-python",
   "name": "python",
   "nbconvert_exporter": "python",
   "pygments_lexer": "ipython3",
   "version": "3.6.2"
  }
 },
 "nbformat": 4,
 "nbformat_minor": 2
}
