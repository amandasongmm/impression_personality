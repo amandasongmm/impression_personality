{
 "cells": [
  {
   "cell_type": "code",
   "execution_count": 1,
   "metadata": {},
   "outputs": [],
   "source": [
    "import numpy as np\n",
    "import shutil \n",
    "import os\n",
    "import os.path\n",
    "import random\n",
    "from scipy.stats import spearmanr"
   ]
  },
  {
   "cell_type": "markdown",
   "metadata": {},
   "source": [
    "taking 10 raters per image"
   ]
  },
  {
   "cell_type": "code",
   "execution_count": 2,
   "metadata": {},
   "outputs": [
    {
     "name": "stderr",
     "output_type": "stream",
     "text": [
      "/Users/asmitharathis/anaconda3/lib/python3.6/site-packages/numpy/core/fromnumeric.py:3194: RuntimeWarning: Degrees of freedom <= 0 for slice\n",
      "  **kwargs)\n",
      "/Users/asmitharathis/anaconda3/lib/python3.6/site-packages/numpy/core/_methods.py:105: RuntimeWarning: invalid value encountered in true_divide\n",
      "  arrmean, rcount, out=arrmean, casting='unsafe', subok=False)\n",
      "/Users/asmitharathis/anaconda3/lib/python3.6/site-packages/numpy/core/_methods.py:127: RuntimeWarning: invalid value encountered in double_scalars\n",
      "  ret = ret.dtype.type(ret / rcount)\n"
     ]
    }
   ],
   "source": [
    "filepath = 'psychology-attributes.csv'  \n",
    "new={}\n",
    "fp = open(filepath,\"r\")\n",
    "\n",
    "lines = fp.readlines()\n",
    "cat=lines[0]\n",
    "traits = cat.strip('\\n').split(\",\")\n",
    "trait=traits[2:52]\n",
    "for att in range(2,52):\n",
    "    d={}\n",
    "    for line in lines[1:]:\n",
    "\n",
    "        words = line.strip('\\n').split(\",\")\n",
    "\n",
    "        img=int(words[1])\n",
    "        if(img not in d):\n",
    "            c=0\n",
    "            d[img]=[]\n",
    "            if(words[att]!=\"NaN\"):\n",
    "\n",
    "                d[img].append(int(words[att]))\n",
    "        else:\n",
    "            \n",
    "            if(words[att]!=\"NaN\" and c<10):\n",
    "                c=c+1\n",
    "                d[img].append(int(words[att]))\n",
    "\n",
    "    sum_var=0\n",
    "    l=[]\n",
    "    for i in range(10):\n",
    "\n",
    "        l.append(0)\n",
    "\n",
    "\n",
    "    for x in d:\n",
    "        l=[f + s for f, s in zip(l, d[x])]\n",
    "        v=np.var(d[x])\n",
    "        sum_var+=v\n",
    "\n",
    "    k=len(d)\n",
    "    x_var=np.var(l)\n",
    "    alpha=k/(k-1) * (1-(sum_var/x_var))\n",
    "    new[trait[att-2]]=alpha"
   ]
  },
  {
   "cell_type": "code",
   "execution_count": 3,
   "metadata": {},
   "outputs": [
    {
     "data": {
      "text/plain": [
       "{'aggressive': -2.067425650911478,\n",
       " 'attractive': 0.3853587455842597,\n",
       " 'atypical': 0.4126376519477744,\n",
       " 'boring': -0.2673375947243281,\n",
       " 'calm': -0.8043596804036509,\n",
       " 'caring': 0.1189499088144121,\n",
       " 'catch': -0.23394374061383547,\n",
       " 'catchAns': -0.2602734050056607,\n",
       " 'cold': 0.4031323432646415,\n",
       " 'common': -1.8991441816928671,\n",
       " 'confident': 0.1239845877908183,\n",
       " 'egotistic': -0.7019629824578503,\n",
       " 'emotStable': -0.4267432581781442,\n",
       " 'emotUnstable': -0.29523274936521543,\n",
       " 'emotional': 0.06211130119935759,\n",
       " 'familiar': 0.3963501642853359,\n",
       " 'forgettable': -1.6975972971590858,\n",
       " 'friendly': 0.35052181195209176,\n",
       " 'happy': 0.3312598624964386,\n",
       " 'humble': 0.33125462765680014,\n",
       " 'intelligent': -0.3252586704468139,\n",
       " 'interesting': 0.5630395902766856,\n",
       " 'introverted': 0.529864419500599,\n",
       " 'irresponsible': -1.5342047110978017,\n",
       " 'kind': -0.037174180617903556,\n",
       " 'mean': -1.222271895282056,\n",
       " 'memorable': 0.37799310133729863,\n",
       " 'normal': -0.7100296142591903,\n",
       " 'responsible': -0.9935221466484363,\n",
       " 'sociable': 0.23501821628538372,\n",
       " 'subage': nan,\n",
       " 'submale': nan,\n",
       " 'subrace': nan,\n",
       " 'trustworthy': -0.6058614041682298,\n",
       " 'typical': 0.3667195129691551,\n",
       " 'unattractive': 0.13871229520596115,\n",
       " 'uncertain': -0.08283306024109054,\n",
       " 'uncommon': -2.2672653739328497,\n",
       " 'unemotional': 0.5396947743313975,\n",
       " 'unfamiliar': 0.40925391744316064,\n",
       " 'unfriendly': 0.1982286943573061,\n",
       " 'unhappy': 0.18661498285589562,\n",
       " 'unintelligent': -2.330086936685824,\n",
       " 'untrustworthy': -0.775425794261497,\n",
       " 'weird': 0.3201273080442255}"
      ]
     },
     "execution_count": 3,
     "metadata": {},
     "output_type": "execute_result"
    }
   ],
   "source": [
    "new"
   ]
  },
  {
   "cell_type": "markdown",
   "metadata": {},
   "source": [
    "TASK 2: "
   ]
  },
  {
   "cell_type": "code",
   "execution_count": 26,
   "metadata": {},
   "outputs": [],
   "source": [
    "new_spear={}\n",
    "for att in range(2,52):\n",
    "    d={}\n",
    "    if att ==17 or att ==18 or att==19 or att ==45 or att ==46 or att==44:\n",
    "        continue\n",
    "    for line in lines[1:]:\n",
    "\n",
    "        words = line.strip('\\n').split(\",\")\n",
    "\n",
    "        img=int(words[1])\n",
    "        if(img not in d):\n",
    "            c=0\n",
    "            d[img]=[]\n",
    "            if(words[att]!=\"NaN\"):\n",
    "\n",
    "                d[img].append(int(words[att]))\n",
    "        else:\n",
    "            \n",
    "            if(words[att]!=\"NaN\" and c<10):\n",
    "                c=c+1\n",
    "                d[img].append(int(words[att]))\n",
    "    for itera in range(50):\n",
    "#         p=random.sample(range(0,10),10)\n",
    "#         grp1=p[:5]\n",
    "#         grp2=p[5:]\n",
    "\n",
    "#         face_g1=[]\n",
    "#         face_g2=[]\n",
    "#         s1=0\n",
    "#         s2=0\n",
    "#         for each in d:\n",
    "#             for g1 in grp1:\n",
    "\n",
    "#                 s1+=d[each][g1]\n",
    "\n",
    "#             for g2 in grp2:\n",
    "\n",
    "#                 s2+=d[each][g2]\n",
    "\n",
    "#                 s1=s1/5\n",
    "#                 s2=s2/5\n",
    "\n",
    "#             face_g1.append(s1)\n",
    "#             face_g2.append(s2)\n",
    "\n",
    "#         corr, p_value = spearmanr(face_g1, face_g2)\n",
    "#         if(trait[att-2] not in new_spear):\n",
    "#             new_spear[trait[att-2]]=[]\n",
    "#         new_spear[trait[att-2]].append(corr)\n",
    "        face_g1=[]\n",
    "        face_g2=[]\n",
    "        for each in d:\n",
    "            p=random.sample(range(0,len(d[each])),len(d[each]))\n",
    "            \n",
    "            grp1=p[:int(len(p)/2)]\n",
    "            grp2=p[int(len(p)/2+1):]\n",
    "\n",
    "            \n",
    "            s1=0\n",
    "            s2=0\n",
    "            for g1 in grp1:\n",
    "\n",
    "                s1+=d[each][g1]\n",
    "\n",
    "            for g2 in grp2:\n",
    "\n",
    "                s2+=d[each][g2]\n",
    "\n",
    "                s1=s1/len(grp1)\n",
    "                s2=s2/len(grp2)\n",
    "\n",
    "            face_g1.append(s1)\n",
    "            face_g2.append(s2)\n",
    "\n",
    "        corr, p_value = spearmanr(face_g1, face_g2)\n",
    "        if(trait[att-2] not in new_spear):\n",
    "            new_spear[trait[att-2]]=[]\n",
    "        new_spear[trait[att-2]].append(corr)"
   ]
  },
  {
   "cell_type": "code",
   "execution_count": 27,
   "metadata": {},
   "outputs": [],
   "source": [
    "for i in new_spear:\n",
    "    new_spear[i]=np.mean(new_spear[i])"
   ]
  },
  {
   "cell_type": "code",
   "execution_count": 28,
   "metadata": {},
   "outputs": [
    {
     "data": {
      "text/plain": [
       "{'aggressive': 0.3515209779887436,\n",
       " 'attractive': 0.459052876502424,\n",
       " 'atypical': 0.09176973874510405,\n",
       " 'boring': 0.1940213074031726,\n",
       " 'calm': 0.17547518506206042,\n",
       " 'caring': 0.4288212287822209,\n",
       " 'catch': 0.004366263349487132,\n",
       " 'catchAns': 0.0019665689513369256,\n",
       " 'cold': 0.4190122537463384,\n",
       " 'common': 0.10764970053115232,\n",
       " 'confident': 0.27958714038955323,\n",
       " 'egotistic': 0.26980081201633754,\n",
       " 'emotStable': 0.2590448506305118,\n",
       " 'emotUnstable': 0.22767312541160617,\n",
       " 'emotional': 0.1639810789525927,\n",
       " 'familiar': 0.09860081160646379,\n",
       " 'forgettable': 0.11769710758450964,\n",
       " 'friendly': 0.4894271135534233,\n",
       " 'happy': 0.5669199049019912,\n",
       " 'humble': 0.2847932755376014,\n",
       " 'intelligent': 0.23625835063594683,\n",
       " 'interesting': 0.1901854677471458,\n",
       " 'introverted': 0.26033377915509576,\n",
       " 'irresponsible': 0.25690584195882665,\n",
       " 'kind': 0.434225381213883,\n",
       " 'mean': 0.3743681431723104,\n",
       " 'memorable': 0.13713654278745413,\n",
       " 'normal': 0.2300665608845061,\n",
       " 'responsible': 0.3039692970043043,\n",
       " 'sociable': 0.4368298370808518,\n",
       " 'trustworthy': 0.33862879913867916,\n",
       " 'typical': 0.11082340479814981,\n",
       " 'unattractive': 0.3713095017111051,\n",
       " 'uncertain': 0.20458698366081304,\n",
       " 'uncommon': 0.09596119279151226,\n",
       " 'unemotional': 0.2879614958695917,\n",
       " 'unfamiliar': 0.07632119703013386,\n",
       " 'unfriendly': 0.4236829379598659,\n",
       " 'unhappy': 0.4497134185100125,\n",
       " 'unintelligent': 0.18766990229407068,\n",
       " 'untrustworthy': 0.3080450713407448,\n",
       " 'weird': 0.2562220403693733}"
      ]
     },
     "execution_count": 28,
     "metadata": {},
     "output_type": "execute_result"
    }
   ],
   "source": [
    "new_spear"
   ]
  },
  {
   "cell_type": "code",
   "execution_count": 23,
   "metadata": {},
   "outputs": [
    {
     "data": {
      "text/plain": [
       "{'aggressive': -2.067425650911478,\n",
       " 'attractive': 0.3853587455842597,\n",
       " 'atypical': 0.4126376519477744,\n",
       " 'boring': -0.2673375947243281,\n",
       " 'calm': -0.8043596804036509,\n",
       " 'caring': 0.1189499088144121,\n",
       " 'catch': -0.23394374061383547,\n",
       " 'catchAns': -0.2602734050056607,\n",
       " 'cold': 0.4031323432646415,\n",
       " 'common': -1.8991441816928671,\n",
       " 'confident': 0.1239845877908183,\n",
       " 'egotistic': -0.7019629824578503,\n",
       " 'emotStable': -0.4267432581781442,\n",
       " 'emotUnstable': -0.29523274936521543,\n",
       " 'emotional': 0.06211130119935759,\n",
       " 'familiar': 0.3963501642853359,\n",
       " 'forgettable': -1.6975972971590858,\n",
       " 'friendly': 0.35052181195209176,\n",
       " 'happy': 0.3312598624964386,\n",
       " 'humble': 0.33125462765680014,\n",
       " 'intelligent': -0.3252586704468139,\n",
       " 'interesting': 0.5630395902766856,\n",
       " 'introverted': 0.529864419500599,\n",
       " 'irresponsible': -1.5342047110978017,\n",
       " 'kind': -0.037174180617903556,\n",
       " 'mean': -1.222271895282056,\n",
       " 'memorable': 0.37799310133729863,\n",
       " 'normal': -0.7100296142591903,\n",
       " 'responsible': -0.9935221466484363,\n",
       " 'sociable': 0.23501821628538372,\n",
       " 'subage': nan,\n",
       " 'submale': nan,\n",
       " 'subrace': nan,\n",
       " 'trustworthy': -0.6058614041682298,\n",
       " 'typical': 0.3667195129691551,\n",
       " 'unattractive': 0.13871229520596115,\n",
       " 'uncertain': -0.08283306024109054,\n",
       " 'uncommon': -2.2672653739328497,\n",
       " 'unemotional': 0.5396947743313975,\n",
       " 'unfamiliar': 0.40925391744316064,\n",
       " 'unfriendly': 0.1982286943573061,\n",
       " 'unhappy': 0.18661498285589562,\n",
       " 'unintelligent': -2.330086936685824,\n",
       " 'untrustworthy': -0.775425794261497,\n",
       " 'weird': 0.3201273080442255}"
      ]
     },
     "execution_count": 23,
     "metadata": {},
     "output_type": "execute_result"
    }
   ],
   "source": [
    "new"
   ]
  },
  {
   "cell_type": "code",
   "execution_count": 24,
   "metadata": {},
   "outputs": [],
   "source": [
    "combin={}\n",
    "for each in new_spear:\n",
    "    combin[each]=[new[each],new_spear[each]]\n",
    "    "
   ]
  },
  {
   "cell_type": "code",
   "execution_count": null,
   "metadata": {},
   "outputs": [],
   "source": []
  }
 ],
 "metadata": {
  "kernelspec": {
   "display_name": "Python 3",
   "language": "python",
   "name": "python3"
  },
  "language_info": {
   "codemirror_mode": {
    "name": "ipython",
    "version": 3
   },
   "file_extension": ".py",
   "mimetype": "text/x-python",
   "name": "python",
   "nbconvert_exporter": "python",
   "pygments_lexer": "ipython3",
   "version": "3.6.2"
  }
 },
 "nbformat": 4,
 "nbformat_minor": 2
}
