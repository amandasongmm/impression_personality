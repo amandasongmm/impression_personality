{
 "cells": [
  {
   "cell_type": "code",
   "execution_count": 1,
   "metadata": {
    "collapsed": true
   },
   "outputs": [],
   "source": [
    "import pandas as pd\n",
    "import random\n",
    "pd.options.mode.chained_assignment = None  # default='warn'"
   ]
  },
  {
   "cell_type": "code",
   "execution_count": 8,
   "metadata": {},
   "outputs": [
    {
     "name": "stdout",
     "output_type": "stream",
     "text": [
      "True\n"
     ]
    }
   ],
   "source": [
    "gen_img_lst = '../static/csv/trustworthy_gen.csv'\n",
    "real_img_lst = '../static/csv/trustworthy_ground_truth.csv'\n",
    "\n",
    "gen_im_df = pd.read_csv(gen_img_lst)\n",
    "real_im_df = pd.read_csv(real_img_lst)"
   ]
  },
  {
   "cell_type": "code",
   "execution_count": 13,
   "metadata": {},
   "outputs": [],
   "source": [
    "ordered_df = pd.read_csv('../for_amt/ordered_im.csv')"
   ]
  },
  {
   "cell_type": "code",
   "execution_count": 14,
   "metadata": {},
   "outputs": [
    {
     "data": {
      "text/html": [
       "<div>\n",
       "<style scoped>\n",
       "    .dataframe tbody tr th:only-of-type {\n",
       "        vertical-align: middle;\n",
       "    }\n",
       "\n",
       "    .dataframe tbody tr th {\n",
       "        vertical-align: top;\n",
       "    }\n",
       "\n",
       "    .dataframe thead th {\n",
       "        text-align: right;\n",
       "    }\n",
       "</style>\n",
       "<table border=\"1\" class=\"dataframe\">\n",
       "  <thead>\n",
       "    <tr style=\"text-align: right;\">\n",
       "      <th></th>\n",
       "      <th>Unnamed: 0</th>\n",
       "      <th>level 1</th>\n",
       "      <th>level 2</th>\n",
       "      <th>level 3</th>\n",
       "      <th>level 4</th>\n",
       "    </tr>\n",
       "  </thead>\n",
       "  <tbody>\n",
       "    <tr>\n",
       "      <th>0</th>\n",
       "      <td>136220</td>\n",
       "      <td>136220_-0.75.png</td>\n",
       "      <td>136220_-0.25.png</td>\n",
       "      <td>136220_0.25.png</td>\n",
       "      <td>136220_0.75.png</td>\n",
       "    </tr>\n",
       "    <tr>\n",
       "      <th>1</th>\n",
       "      <td>136184</td>\n",
       "      <td>136184_-0.75.png</td>\n",
       "      <td>136184_-0.25.png</td>\n",
       "      <td>136184_0.25.png</td>\n",
       "      <td>136184_0.75.png</td>\n",
       "    </tr>\n",
       "    <tr>\n",
       "      <th>2</th>\n",
       "      <td>136187</td>\n",
       "      <td>136187_-0.75.png</td>\n",
       "      <td>136187_-0.25.png</td>\n",
       "      <td>136187_0.25.png</td>\n",
       "      <td>136187_0.75.png</td>\n",
       "    </tr>\n",
       "    <tr>\n",
       "      <th>3</th>\n",
       "      <td>136186</td>\n",
       "      <td>136186_-0.75.png</td>\n",
       "      <td>136186_-0.25.png</td>\n",
       "      <td>136186_0.25.png</td>\n",
       "      <td>136186_0.75.png</td>\n",
       "    </tr>\n",
       "    <tr>\n",
       "      <th>4</th>\n",
       "      <td>136224</td>\n",
       "      <td>136224_-0.75.png</td>\n",
       "      <td>136224_-0.25.png</td>\n",
       "      <td>136224_0.25.png</td>\n",
       "      <td>136224_0.75.png</td>\n",
       "    </tr>\n",
       "  </tbody>\n",
       "</table>\n",
       "</div>"
      ],
      "text/plain": [
       "   Unnamed: 0           level 1           level 2          level 3  \\\n",
       "0      136220  136220_-0.75.png  136220_-0.25.png  136220_0.25.png   \n",
       "1      136184  136184_-0.75.png  136184_-0.25.png  136184_0.25.png   \n",
       "2      136187  136187_-0.75.png  136187_-0.25.png  136187_0.25.png   \n",
       "3      136186  136186_-0.75.png  136186_-0.25.png  136186_0.25.png   \n",
       "4      136224  136224_-0.75.png  136224_-0.25.png  136224_0.25.png   \n",
       "\n",
       "           level 4  \n",
       "0  136220_0.75.png  \n",
       "1  136184_0.75.png  \n",
       "2  136187_0.75.png  \n",
       "3  136186_0.75.png  \n",
       "4  136224_0.75.png  "
      ]
     },
     "execution_count": 14,
     "metadata": {},
     "output_type": "execute_result"
    }
   ],
   "source": [
    "ordered_df.head()"
   ]
  },
  {
   "cell_type": "code",
   "execution_count": 15,
   "metadata": {
    "collapsed": true
   },
   "outputs": [],
   "source": [
    "trait = 'aggressive'\n",
    "level13_df = pd.read_csv('../for_amt/temp_img_lst/gt/'+trait+'-'+'level-1-3.csv')\n",
    "level24_df = pd.read_csv('../for_amt/temp_img_lst/gt/'+trait+'-'+'level-2-4.csv')"
   ]
  },
  {
   "cell_type": "code",
   "execution_count": 16,
   "metadata": {},
   "outputs": [
    {
     "data": {
      "text/html": [
       "<div>\n",
       "<style scoped>\n",
       "    .dataframe tbody tr th:only-of-type {\n",
       "        vertical-align: middle;\n",
       "    }\n",
       "\n",
       "    .dataframe tbody tr th {\n",
       "        vertical-align: top;\n",
       "    }\n",
       "\n",
       "    .dataframe thead th {\n",
       "        text-align: right;\n",
       "    }\n",
       "</style>\n",
       "<table border=\"1\" class=\"dataframe\">\n",
       "  <thead>\n",
       "    <tr style=\"text-align: right;\">\n",
       "      <th></th>\n",
       "      <th>Filename</th>\n",
       "      <th>aggressive</th>\n",
       "      <th>high name</th>\n",
       "      <th>high value</th>\n",
       "      <th>low name</th>\n",
       "      <th>low value</th>\n",
       "      <th>dif</th>\n",
       "    </tr>\n",
       "  </thead>\n",
       "  <tbody>\n",
       "    <tr>\n",
       "      <th>0</th>\n",
       "      <td>086142.jpg</td>\n",
       "      <td>1.872926</td>\n",
       "      <td>076129.jpg</td>\n",
       "      <td>5.872824</td>\n",
       "      <td>086142.jpg</td>\n",
       "      <td>1.872926</td>\n",
       "      <td>3.999898</td>\n",
       "    </tr>\n",
       "    <tr>\n",
       "      <th>1</th>\n",
       "      <td>046077.jpg</td>\n",
       "      <td>1.935779</td>\n",
       "      <td>173729.jpg</td>\n",
       "      <td>5.935419</td>\n",
       "      <td>046077.jpg</td>\n",
       "      <td>1.935779</td>\n",
       "      <td>3.999641</td>\n",
       "    </tr>\n",
       "    <tr>\n",
       "      <th>2</th>\n",
       "      <td>101907.jpg</td>\n",
       "      <td>1.948233</td>\n",
       "      <td>049572.jpg</td>\n",
       "      <td>5.948047</td>\n",
       "      <td>101907.jpg</td>\n",
       "      <td>1.948233</td>\n",
       "      <td>3.999814</td>\n",
       "    </tr>\n",
       "    <tr>\n",
       "      <th>3</th>\n",
       "      <td>066743.jpg</td>\n",
       "      <td>1.972019</td>\n",
       "      <td>146623.jpg</td>\n",
       "      <td>5.972115</td>\n",
       "      <td>066743.jpg</td>\n",
       "      <td>1.972019</td>\n",
       "      <td>4.000096</td>\n",
       "    </tr>\n",
       "    <tr>\n",
       "      <th>4</th>\n",
       "      <td>087124.jpg</td>\n",
       "      <td>1.977691</td>\n",
       "      <td>134015.jpg</td>\n",
       "      <td>5.977614</td>\n",
       "      <td>087124.jpg</td>\n",
       "      <td>1.977691</td>\n",
       "      <td>3.999923</td>\n",
       "    </tr>\n",
       "  </tbody>\n",
       "</table>\n",
       "</div>"
      ],
      "text/plain": [
       "     Filename  aggressive   high name  high value    low name  low value  \\\n",
       "0  086142.jpg    1.872926  076129.jpg    5.872824  086142.jpg   1.872926   \n",
       "1  046077.jpg    1.935779  173729.jpg    5.935419  046077.jpg   1.935779   \n",
       "2  101907.jpg    1.948233  049572.jpg    5.948047  101907.jpg   1.948233   \n",
       "3  066743.jpg    1.972019  146623.jpg    5.972115  066743.jpg   1.972019   \n",
       "4  087124.jpg    1.977691  134015.jpg    5.977614  087124.jpg   1.977691   \n",
       "\n",
       "        dif  \n",
       "0  3.999898  \n",
       "1  3.999641  \n",
       "2  3.999814  \n",
       "3  4.000096  \n",
       "4  3.999923  "
      ]
     },
     "execution_count": 16,
     "metadata": {},
     "output_type": "execute_result"
    }
   ],
   "source": [
    "level13_df.head()"
   ]
  },
  {
   "cell_type": "code",
   "execution_count": 19,
   "metadata": {
    "collapsed": true
   },
   "outputs": [],
   "source": [
    "stim_df = pd.DataFrame(columns=[['im1_name', 'im2_name', 'pair_type', 'pair_distance_type']])"
   ]
  },
  {
   "cell_type": "code",
   "execution_count": 37,
   "metadata": {},
   "outputs": [],
   "source": [
    "im1_names = level13_df['low name'][:50]\n",
    "im2_names = level13_df['high name'][:50]\n",
    "stim_df['im1_name'] = im1_names\n",
    "stim_df['im2_name'] = im2_names\n",
    "# stim_df['pair_type'] = ['gt'] *50\n",
    "# stim_df['pair_distance_type'] = ['score 2-6']*50"
   ]
  },
  {
   "cell_type": "code",
   "execution_count": 38,
   "metadata": {
    "collapsed": true
   },
   "outputs": [],
   "source": [
    "stim_df['pair_type'] = 'gt'\n",
    "stim_df['pair_distance_type'] = 'score 2-6'"
   ]
  },
  {
   "cell_type": "code",
   "execution_count": 40,
   "metadata": {},
   "outputs": [],
   "source": [
    "            stim_second_half = pd.DataFrame(columns=[['im1_name', 'im2_name', 'pair_type', 'pair_distance_type']])\n",
    "            stim_second_half['im1_name'] = level24_df['low name'][:50]\n",
    "            stim_second_half['im2_name'] = level24_df['high name'][:50]\n",
    "            stim_second_half['pair_type'] = 'gt'\n",
    "            stim_second_half['pair_distance_type'] = 'score 4-8'"
   ]
  },
  {
   "cell_type": "code",
   "execution_count": 41,
   "metadata": {
    "collapsed": true
   },
   "outputs": [],
   "source": [
    "test_df = pd.concat([stim_df, stim_second_half])"
   ]
  },
  {
   "cell_type": "code",
   "execution_count": 46,
   "metadata": {},
   "outputs": [
    {
     "data": {
      "text/plain": [
       "(100, 6)"
      ]
     },
     "execution_count": 46,
     "metadata": {},
     "output_type": "execute_result"
    }
   ],
   "source": [
    "trait = 'attractive'\n",
    "df = pd.read_csv('../for_amt/temp_img_lst/gt_stim_lst/'+trait+'_stim_raw.csv')\n",
    "df.shape"
   ]
  },
  {
   "cell_type": "code",
   "execution_count": 47,
   "metadata": {
    "collapsed": true
   },
   "outputs": [],
   "source": [
    "# Randomly sample 7 elements from your dataframe\n",
    "df_elements = df.sample(n=10)"
   ]
  },
  {
   "cell_type": "code",
   "execution_count": 49,
   "metadata": {
    "collapsed": true
   },
   "outputs": [],
   "source": [
    "df_elements['repeat'] = 1"
   ]
  },
  {
   "cell_type": "code",
   "execution_count": 54,
   "metadata": {
    "collapsed": true
   },
   "outputs": [],
   "source": [
    "merged_df = pd.concat([df, df_elements], ignore_index=True)"
   ]
  },
  {
   "cell_type": "code",
   "execution_count": 56,
   "metadata": {},
   "outputs": [
    {
     "data": {
      "text/html": [
       "<div>\n",
       "<style scoped>\n",
       "    .dataframe tbody tr th:only-of-type {\n",
       "        vertical-align: middle;\n",
       "    }\n",
       "\n",
       "    .dataframe tbody tr th {\n",
       "        vertical-align: top;\n",
       "    }\n",
       "\n",
       "    .dataframe thead th {\n",
       "        text-align: right;\n",
       "    }\n",
       "</style>\n",
       "<table border=\"1\" class=\"dataframe\">\n",
       "  <thead>\n",
       "    <tr style=\"text-align: right;\">\n",
       "      <th></th>\n",
       "      <th>im1_name</th>\n",
       "      <th>im2_name</th>\n",
       "      <th>pair_type</th>\n",
       "      <th>pair_distance_type</th>\n",
       "      <th>pair_order</th>\n",
       "      <th>repeat</th>\n",
       "    </tr>\n",
       "  </thead>\n",
       "  <tbody>\n",
       "    <tr>\n",
       "      <th>0</th>\n",
       "      <td>057518.jpg</td>\n",
       "      <td>070831.jpg</td>\n",
       "      <td>gt</td>\n",
       "      <td>score 2-6</td>\n",
       "      <td>low-high</td>\n",
       "      <td>0</td>\n",
       "    </tr>\n",
       "    <tr>\n",
       "      <th>1</th>\n",
       "      <td>163226.jpg</td>\n",
       "      <td>027404.jpg</td>\n",
       "      <td>gt</td>\n",
       "      <td>score 2-6</td>\n",
       "      <td>low-high</td>\n",
       "      <td>0</td>\n",
       "    </tr>\n",
       "    <tr>\n",
       "      <th>2</th>\n",
       "      <td>159705.jpg</td>\n",
       "      <td>098607.jpg</td>\n",
       "      <td>gt</td>\n",
       "      <td>score 2-6</td>\n",
       "      <td>low-high</td>\n",
       "      <td>0</td>\n",
       "    </tr>\n",
       "    <tr>\n",
       "      <th>3</th>\n",
       "      <td>102224.jpg</td>\n",
       "      <td>125841.jpg</td>\n",
       "      <td>gt</td>\n",
       "      <td>score 2-6</td>\n",
       "      <td>low-high</td>\n",
       "      <td>0</td>\n",
       "    </tr>\n",
       "    <tr>\n",
       "      <th>4</th>\n",
       "      <td>088703.jpg</td>\n",
       "      <td>060969.jpg</td>\n",
       "      <td>gt</td>\n",
       "      <td>score 2-6</td>\n",
       "      <td>low-high</td>\n",
       "      <td>0</td>\n",
       "    </tr>\n",
       "  </tbody>\n",
       "</table>\n",
       "</div>"
      ],
      "text/plain": [
       "     im1_name    im2_name pair_type pair_distance_type pair_order  repeat\n",
       "0  057518.jpg  070831.jpg        gt          score 2-6   low-high       0\n",
       "1  163226.jpg  027404.jpg        gt          score 2-6   low-high       0\n",
       "2  159705.jpg  098607.jpg        gt          score 2-6   low-high       0\n",
       "3  102224.jpg  125841.jpg        gt          score 2-6   low-high       0\n",
       "4  088703.jpg  060969.jpg        gt          score 2-6   low-high       0"
      ]
     },
     "execution_count": 56,
     "metadata": {},
     "output_type": "execute_result"
    }
   ],
   "source": [
    "merged_df.head()"
   ]
  },
  {
   "cell_type": "code",
   "execution_count": 59,
   "metadata": {},
   "outputs": [],
   "source": [
    "# rating_df = pd.read_csv('./static/csvs/celeb_ratings.csv')\n",
    "unique_pair_num = 50\n",
    "trait = 'attractive'\n",
    "stim_df = pd.DataFrame(columns=['im1_name', 'im2_name'])\n",
    "low_df = rating_df[['Filename', trait]].sort_values(by=[trait])[:unique_pair_num]\n",
    "high_df = rating_df[['Filename', trait]].sort_values(by=[trait])[-unique_pair_num:]"
   ]
  },
  {
   "cell_type": "code",
   "execution_count": 64,
   "metadata": {},
   "outputs": [
    {
     "data": {
      "text/plain": [
       "array(['057518.jpg', '163226.jpg', '159705.jpg', '102224.jpg',\n",
       "       '088703.jpg', '179200.jpg', '089364.jpg', '116932.jpg',\n",
       "       '022208.jpg', '053963.jpg', '092543.jpg', '041019.jpg',\n",
       "       '032897.jpg', '148453.jpg', '123534.jpg', '184595.jpg',\n",
       "       '023563.jpg', '187219.jpg', '119846.jpg', '007576.jpg',\n",
       "       '079101.jpg', '028968.jpg', '038621.jpg', '092300.jpg',\n",
       "       '093588.jpg', '079362.jpg', '028036.jpg', '086859.jpg',\n",
       "       '003044.jpg', '008481.jpg', '083021.jpg', '142860.jpg',\n",
       "       '051933.jpg', '099869.jpg', '038389.jpg', '116705.jpg',\n",
       "       '078003.jpg', '124225.jpg', '020119.jpg', '121771.jpg',\n",
       "       '196721.jpg', '089108.jpg', '022421.jpg', '178055.jpg',\n",
       "       '097300.jpg', '167156.jpg', '124319.jpg', '200278.jpg',\n",
       "       '058303.jpg', '142945.jpg'], dtype=object)"
      ]
     },
     "execution_count": 64,
     "metadata": {},
     "output_type": "execute_result"
    }
   ],
   "source": [
    "rating_df.sort_values(by=[trait])[:unique_pair_num]['Filename'].values"
   ]
  },
  {
   "cell_type": "code",
   "execution_count": 65,
   "metadata": {},
   "outputs": [
    {
     "data": {
      "text/plain": [
       "174541    057518.jpg\n",
       "60333     163226.jpg\n",
       "70385     159705.jpg\n",
       "186773    102224.jpg\n",
       "12887     088703.jpg\n",
       "11137     179200.jpg\n",
       "34163     089364.jpg\n",
       "182034    116932.jpg\n",
       "130615    022208.jpg\n",
       "164723    053963.jpg\n",
       "Name: Filename, dtype: object"
      ]
     },
     "execution_count": 65,
     "metadata": {},
     "output_type": "execute_result"
    }
   ],
   "source": [
    "rating_df.sort_values(by=[trait])['Filename'][:10]"
   ]
  },
  {
   "cell_type": "code",
   "execution_count": null,
   "metadata": {
    "collapsed": true
   },
   "outputs": [],
   "source": []
  }
 ],
 "metadata": {
  "kernelspec": {
   "display_name": "Python 2",
   "language": "python",
   "name": "python2"
  },
  "language_info": {
   "codemirror_mode": {
    "name": "ipython",
    "version": 2
   },
   "file_extension": ".py",
   "mimetype": "text/x-python",
   "name": "python",
   "nbconvert_exporter": "python",
   "pygments_lexer": "ipython2",
   "version": "2.7.13"
  }
 },
 "nbformat": 4,
 "nbformat_minor": 2
}
