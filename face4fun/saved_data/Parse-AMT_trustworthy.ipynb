{
 "cells": [
  {
   "cell_type": "code",
   "execution_count": 44,
   "metadata": {},
   "outputs": [],
   "source": [
    "import csv\n",
    "import json\n",
    "response=[]\n",
    "with open('trialdata.csv') as f:\n",
    "    rows = csv.reader(f)\n",
    "    for row in rows:\n",
    "        response.append(row[0]+row[3])\n",
    "        \n",
    "        "
   ]
  },
  {
   "cell_type": "code",
   "execution_count": 95,
   "metadata": {},
   "outputs": [],
   "source": [
    "l=[]\n",
    "dict_list=[]\n",
    "high=0\n",
    "low=0\n",
    "\n",
    "l.append([\"worker_id\",\"assignmend id\",\"img1\",\"img2\",\"response\",\"task_type\",\"im1\",\"im2\",\"rt\",\"rep\",\"pair_ind\"])\n",
    "\n",
    "\n",
    "for r in response:\n",
    "    row=[]\n",
    "    d = {}\n",
    "    worker_id=r[0:r.find(\":\")]\n",
    "    assign_id=r[r.find(\":\")+1:r.find(\"{\")]\n",
    "    r=r[r.find(\"{\"):]\n",
    "    parsed=json.loads(r)\n",
    "    if(parsed[\"phase\"]==\"TEST\"):\n",
    "        row.append(worker_id)\n",
    "        row.append(assign_id)\n",
    "        row.append(parsed[\"im1\"])\n",
    "        row.append(parsed[\"im2\"])\n",
    "        row.append(parsed[\"hit\"])\n",
    "        row.append(parsed[\"tasktype\"])\n",
    "        row.append(parsed[\"im1relation\"])\n",
    "        row.append(parsed[\"im2relation\"])\n",
    "        row.append(parsed[\"rt\"])\n",
    "        row.append(parsed[\"rep\"])\n",
    "        row.append(parsed[\"pair_ind\"])\n",
    "        \n",
    "        \n",
    "        d[\"assign_id\"]=assign_id\n",
    "        d[\"worker_id\"]=worker_id\n",
    "        d[\"im1\"]=parsed[\"im1\"]\n",
    "        d[\"im2\"]=parsed[\"im2\"]\n",
    "        d[\"hit\"]=parsed[\"hit\"]\n",
    "        d[\"tasktype\"]=parsed[\"tasktype\"]\n",
    "        d[\"im1relation\"]=parsed[\"im1relation\"]\n",
    "        d[\"im2relation\"]=parsed[\"im2relation\"]\n",
    "        d[\"rt\"]=parsed[\"rt\"]\n",
    "        d[\"rep\"]=parsed[\"rep\"]\n",
    "        d[\"pair_ind\"]=parsed[\"pair_ind\"]\n",
    "\n",
    "        \n",
    "        if(parsed[\"hit\"]==True):\n",
    "            high=high+1\n",
    "        else:\n",
    "            low=low+1\n",
    "            \n",
    "    total=high+low\n",
    "        \n",
    "        \n",
    "    l.append(row)\n",
    "    if d:\n",
    "        dict_list.append(d)\n",
    "    "
   ]
  },
  {
   "cell_type": "code",
   "execution_count": 96,
   "metadata": {},
   "outputs": [],
   "source": [
    "csvfile=\"n.csv\"\n",
    "with open(csvfile, \"w\") as output:\n",
    "    writer = csv.writer(output, lineterminator='\\n')\n",
    "    writer.writerows(l)"
   ]
  },
  {
   "cell_type": "code",
   "execution_count": 97,
   "metadata": {},
   "outputs": [
    {
     "name": "stdout",
     "output_type": "stream",
     "text": [
      "Likelihood of a high rated image 0.7062453715132067\n"
     ]
    }
   ],
   "source": [
    "print(\"Likelihood of a high rated image\",high/total)"
   ]
  },
  {
   "cell_type": "code",
   "execution_count": 98,
   "metadata": {},
   "outputs": [
    {
     "name": "stdout",
     "output_type": "stream",
     "text": [
      "Likelihood of a low rated image 0.2937546284867934\n"
     ]
    }
   ],
   "source": [
    "print(\"Likelihood of a low rated image\",low/total)"
   ]
  },
  {
   "cell_type": "code",
   "execution_count": 99,
   "metadata": {},
   "outputs": [
    {
     "name": "stdout",
     "output_type": "stream",
     "text": [
      "total responses 4051\n"
     ]
    }
   ],
   "source": [
    "print(\"total responses\", total)"
   ]
  },
  {
   "cell_type": "code",
   "execution_count": 100,
   "metadata": {},
   "outputs": [],
   "source": [
    "rep=[]\n",
    "for i in dict_list:\n",
    "    if i[\"rep\"]==1:\n",
    "        rep.append(i) "
   ]
  },
  {
   "cell_type": "code",
   "execution_count": 101,
   "metadata": {},
   "outputs": [],
   "source": [
    "user={}\n",
    "\n",
    "for r in rep:\n",
    "    user[r[\"worker_id\"]]=0\n",
    "\n",
    "\n",
    "for r in rep:\n",
    "    for x in rep:\n",
    "        if r[\"im1\"]==x[\"im1\"] and r[\"im2\"]==x[\"im2\"] and r[\"worker_id\"]==x[\"worker_id\"]:\n",
    "            if r[\"hit\"]==x[\"hit\"]:\n",
    "                user[x[\"worker_id\"]]=user[x[\"worker_id\"]]+1\n",
    "                "
   ]
  },
  {
   "cell_type": "code",
   "execution_count": 102,
   "metadata": {},
   "outputs": [
    {
     "name": "stdout",
     "output_type": "stream",
     "text": [
      "Average consistency for 37 users :  18.324324324324323\n"
     ]
    }
   ],
   "source": [
    "print(\"Average consistency for\",len(user), \"users : \", sum(user.values())/len(user))"
   ]
  },
  {
   "cell_type": "code",
   "execution_count": 103,
   "metadata": {},
   "outputs": [],
   "source": [
    "pair={}\n",
    "for i in range(0,100):\n",
    "    t=0\n",
    "    f=0\n",
    "    for d in dict_list:\n",
    "        if d[\"pair_ind\"]==i:\n",
    "            if d[\"hit\"]==True:\n",
    "                t=t+1\n",
    "            else:\n",
    "                f=f+1\n",
    "            pair[d[\"pair_ind\"]]=t/(t+f)\n",
    "    "
   ]
  },
  {
   "cell_type": "markdown",
   "metadata": {},
   "source": [
    "Consistency of each pair across users"
   ]
  },
  {
   "cell_type": "code",
   "execution_count": 104,
   "metadata": {},
   "outputs": [
    {
     "data": {
      "text/plain": [
       "{0: 0.8823529411764706,\n",
       " 1: 0.8529411764705882,\n",
       " 2: 0.9411764705882353,\n",
       " 3: 0.7058823529411765,\n",
       " 4: 0.6176470588235294,\n",
       " 5: 0.8714285714285714,\n",
       " 6: 0.7941176470588235,\n",
       " 7: 0.7941176470588235,\n",
       " 8: 0.7352941176470589,\n",
       " 9: 0.6363636363636364,\n",
       " 10: 0.8285714285714286,\n",
       " 11: 0.8235294117647058,\n",
       " 12: 0.7352941176470589,\n",
       " 13: 0.9253731343283582,\n",
       " 14: 0.34285714285714286,\n",
       " 15: 0.8787878787878788,\n",
       " 16: 0.6764705882352942,\n",
       " 17: 0.9090909090909091,\n",
       " 18: 0.6764705882352942,\n",
       " 19: 0.8529411764705882,\n",
       " 20: 0.9411764705882353,\n",
       " 21: 0.8676470588235294,\n",
       " 22: 0.7941176470588235,\n",
       " 23: 0.7941176470588235,\n",
       " 24: 0.6764705882352942,\n",
       " 25: 0.6176470588235294,\n",
       " 26: 0.7428571428571429,\n",
       " 27: 0.8970588235294118,\n",
       " 28: 0.6060606060606061,\n",
       " 29: 0.696969696969697,\n",
       " 30: 0.7878787878787878,\n",
       " 31: 0.8235294117647058,\n",
       " 32: 0.8484848484848485,\n",
       " 33: 0.927536231884058,\n",
       " 34: 0.9714285714285714,\n",
       " 35: 0.8529411764705882,\n",
       " 36: 0.6470588235294118,\n",
       " 37: 0.8484848484848485,\n",
       " 38: 0.8787878787878788,\n",
       " 39: 0.7714285714285715,\n",
       " 40: 0.8181818181818182,\n",
       " 41: 0.8484848484848485,\n",
       " 42: 0.7014925373134329,\n",
       " 43: 0.9117647058823529,\n",
       " 44: 0.6060606060606061,\n",
       " 45: 0.8787878787878788,\n",
       " 46: 0.8235294117647058,\n",
       " 47: 0.07575757575757576,\n",
       " 48: 0.1044776119402985,\n",
       " 49: 0.7272727272727273,\n",
       " 50: 0.11764705882352941,\n",
       " 51: 0.5757575757575758,\n",
       " 52: 0.8181818181818182,\n",
       " 53: 0.7794117647058824,\n",
       " 54: 0.208955223880597,\n",
       " 55: 0.8235294117647058,\n",
       " 56: 0.9402985074626866,\n",
       " 57: 0.5294117647058824,\n",
       " 58: 0.22857142857142856,\n",
       " 59: 0.7878787878787878,\n",
       " 60: 0.8823529411764706,\n",
       " 61: 0.7647058823529411,\n",
       " 62: 0.8787878787878788,\n",
       " 63: 0.8529411764705882,\n",
       " 64: 0.5588235294117647,\n",
       " 65: 0.8787878787878788,\n",
       " 66: 0.3582089552238806,\n",
       " 67: 0.8285714285714286,\n",
       " 68: 0.7352941176470589,\n",
       " 69: 0.8787878787878788,\n",
       " 70: 0.8823529411764706,\n",
       " 71: 0.8823529411764706,\n",
       " 72: 0.36363636363636365,\n",
       " 73: 0.7352941176470589,\n",
       " 74: 0.7941176470588235,\n",
       " 75: 0.7272727272727273,\n",
       " 76: 0.17647058823529413,\n",
       " 77: 0.8,\n",
       " 78: 0.746268656716418,\n",
       " 79: 0.7058823529411765,\n",
       " 80: 0.35294117647058826,\n",
       " 81: 0.7878787878787878,\n",
       " 82: 0.48484848484848486,\n",
       " 83: 0.22857142857142856,\n",
       " 84: 0.7878787878787878,\n",
       " 85: 0.5882352941176471,\n",
       " 86: 0.17647058823529413,\n",
       " 87: 0.8823529411764706,\n",
       " 88: 0.18181818181818182,\n",
       " 89: 0.26865671641791045,\n",
       " 90: 0.8823529411764706,\n",
       " 91: 0.7647058823529411,\n",
       " 92: 0.8787878787878788,\n",
       " 93: 0.9393939393939394,\n",
       " 94: 0.8181818181818182,\n",
       " 95: 0.8235294117647058,\n",
       " 96: 0.8484848484848485,\n",
       " 97: 0.7941176470588235,\n",
       " 98: 0.9117647058823529,\n",
       " 99: 0.9117647058823529}"
      ]
     },
     "execution_count": 104,
     "metadata": {},
     "output_type": "execute_result"
    }
   ],
   "source": [
    "pair"
   ]
  },
  {
   "cell_type": "code",
   "execution_count": 110,
   "metadata": {},
   "outputs": [],
   "source": [
    "user=set()\n",
    "for d in dict_list:\n",
    "    user.add(d[\"worker_id\"])\n"
   ]
  },
  {
   "cell_type": "code",
   "execution_count": 112,
   "metadata": {},
   "outputs": [],
   "source": [
    "dict_user={}\n",
    "for u in user:\n",
    "    t=0\n",
    "    f=0\n",
    "    for d in dict_list:\n",
    "        if d[\"worker_id\"]==u:\n",
    "            if d[\"hit\"]==True:\n",
    "                t=t+1\n",
    "            else:\n",
    "                f=f+1\n",
    "    dict_user[u]=t/(t+f)\n",
    "        "
   ]
  },
  {
   "cell_type": "markdown",
   "metadata": {},
   "source": [
    "Consistency of each users for all pairs"
   ]
  },
  {
   "cell_type": "code",
   "execution_count": 113,
   "metadata": {},
   "outputs": [
    {
     "data": {
      "text/plain": [
       "{'A14YBHS8YBLDAG': 0.8333333333333334,\n",
       " 'A15X0MSBZ74TFT': 0.6833333333333333,\n",
       " 'A18QU0YQB6Q8DF': 0.7916666666666666,\n",
       " 'A19L8SNH73AX1Z': 0.725,\n",
       " 'A1B9H14AV44C0G': 0.825,\n",
       " 'A1HIQZEC2ER7GS': 0.475,\n",
       " 'A1KLAGM9CCOFBN': 0.6166666666666667,\n",
       " 'A1PTH9KTRO06EG': 0.7416666666666667,\n",
       " 'A22481M8ACHBUN': 0.7333333333333333,\n",
       " 'A230GPTWWF3SE7': 0.675,\n",
       " 'A248TO3PTV0K5P': 0.7583333333333333,\n",
       " 'A25XXQPMBBDAV3': 0.7416666666666667,\n",
       " 'A27TKWMGFUCDMY': 0.675,\n",
       " 'A29I0O9V6N1CY': 0.8333333333333334,\n",
       " 'A2A6FH0F7LD9ND': 0.6916666666666667,\n",
       " 'A2NYP2UJTXTWQ': 0.6666666666666666,\n",
       " 'A2QMHQXR8K4VJ2': 0.5333333333333333,\n",
       " 'A30VLAIIJIG5IS': 0.855072463768116,\n",
       " 'A320QA9HJFUOZO': 0.8888888888888888,\n",
       " 'A348VZXJU4J66N': 0.7333333333333333,\n",
       " 'A36E1O48KQ6OP0': 0.6583333333333333,\n",
       " 'A36ZLJPURT0ILP': 0.7583333333333333,\n",
       " 'A3774HPOUKYTX7': 0.575,\n",
       " 'A39A8K2UX0U05W': 0.7916666666666666,\n",
       " 'A3EJ44J2ZNRMDA': 0.75,\n",
       " 'A3JLE2LJ5I17E2': 0.4666666666666667,\n",
       " 'A3LECJA9RVQQKZ': 0.8416666666666667,\n",
       " 'A89R5XGMHOTJE': 0.3333333333333333,\n",
       " 'A9ZCY6FLUCIU1': 0.7666666666666667,\n",
       " 'AAJ1ZQECDZBEE': 0.6583333333333333,\n",
       " 'AB1X97ASE626Q': 0.825,\n",
       " 'ABEJPX8HRQFAW': 0.6333333333333333,\n",
       " 'ABL3H3O3BI8ZD': 0.4666666666666667,\n",
       " 'AHIJACUG7ZL9B': 0.8333333333333334,\n",
       " 'AKZ8SFOAI4RZN': 0.8583333333333333,\n",
       " 'AT3NXJDTM1579': 0.5916666666666667,\n",
       " 'AYO5YJNJHMKJO': 0.6833333333333333,\n",
       " 'AZODF0GYSNWRS': 0.5}"
      ]
     },
     "execution_count": 113,
     "metadata": {},
     "output_type": "execute_result"
    }
   ],
   "source": [
    "dict_user"
   ]
  },
  {
   "cell_type": "code",
   "execution_count": 116,
   "metadata": {},
   "outputs": [],
   "source": [
    "gt=[]\n",
    "same=[]\n",
    "dif=[]\n",
    "for i in dict_list:\n",
    "    if i[\"tasktype\"]==\"ground_truth\":\n",
    "        gt.append(i[\"pair_ind\"])\n",
    "    elif i[\"tasktype\"]==\"Same\":\n",
    "        same.append(i[\"pair_ind\"])\n",
    "    elif i[\"tasktype\"]==\"Different\":\n",
    "        dif.append(i[\"pair_ind\"])"
   ]
  },
  {
   "cell_type": "code",
   "execution_count": 118,
   "metadata": {},
   "outputs": [],
   "source": [
    "gt=0\n",
    "sa=0\n",
    "dif=0\n",
    "gt_t=0\n",
    "sa_t=0\n",
    "dif_t=0\n",
    "\n",
    "for i in dict_list:\n",
    "    if i[\"tasktype\"]==\"ground_truth\":\n",
    "        gt=gt+1\n",
    "        if i[\"hit\"]==True:\n",
    "            gt_t=gt_t+1\n",
    "    elif i[\"tasktype\"]==\"Same\":\n",
    "        dif=dif+1\n",
    "        if i[\"hit\"]==True:\n",
    "            dif_t=dif_t+1\n",
    "    elif i[\"tasktype\"]==\"Different\":\n",
    "        sa=sa+1\n",
    "        if i[\"hit\"]==True:\n",
    "            sa_t=sa_t+1\n",
    "    "
   ]
  },
  {
   "cell_type": "code",
   "execution_count": 122,
   "metadata": {},
   "outputs": [
    {
     "name": "stdout",
     "output_type": "stream",
     "text": [
      "Same true ratio: 0.5956227201667535 \n",
      "Ground Truth true ratio: 0.8571428571428571 \n",
      "Dif true ratio: 0.7962138084632516\n"
     ]
    }
   ],
   "source": [
    "print(\"Same true ratio:\", sa_t/sa, \"\\nGround Truth true ratio:\", gt_t/gt,\"\\nDif true ratio:\", dif_t/dif)"
   ]
  },
  {
   "cell_type": "code",
   "execution_count": null,
   "metadata": {},
   "outputs": [],
   "source": []
  }
 ],
 "metadata": {
  "kernelspec": {
   "display_name": "Python 3",
   "language": "python",
   "name": "python3"
  },
  "language_info": {
   "codemirror_mode": {
    "name": "ipython",
    "version": 3
   },
   "file_extension": ".py",
   "mimetype": "text/x-python",
   "name": "python",
   "nbconvert_exporter": "python",
   "pygments_lexer": "ipython3",
   "version": "3.6.2"
  }
 },
 "nbformat": 4,
 "nbformat_minor": 2
}
