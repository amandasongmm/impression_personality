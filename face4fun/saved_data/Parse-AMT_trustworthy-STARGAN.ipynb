{
 "cells": [
  {
   "cell_type": "code",
   "execution_count": 1,
   "metadata": {},
   "outputs": [],
   "source": [
    "import csv\n",
    "import json\n",
    "response=[]\n",
    "with open('trust_stargan.csv') as f:\n",
    "    rows = csv.reader(f)\n",
    "    for row in rows:\n",
    "        response.append(row[0]+row[3])\n",
    "        \n",
    "        "
   ]
  },
  {
   "cell_type": "code",
   "execution_count": 2,
   "metadata": {},
   "outputs": [],
   "source": [
    "l=[]\n",
    "dict_list=[]\n",
    "high=0\n",
    "low=0\n",
    "\n",
    "l.append([\"worker_id\",\"assignmend id\",\"img1\",\"img2\",\"response\",\"task_type\",\"im1\",\"im2\",\"rt\",\"rep\",\"pair_ind\"])\n",
    "\n",
    "\n",
    "for r in response:\n",
    "    row=[]\n",
    "    d = {}\n",
    "    worker_id=r[0:r.find(\":\")]\n",
    "    assign_id=r[r.find(\":\")+1:r.find(\"{\")]\n",
    "    r=r[r.find(\"{\"):]\n",
    "    parsed=json.loads(r)\n",
    "    if(parsed[\"phase\"]==\"TEST\"):\n",
    "        row.append(worker_id)\n",
    "        row.append(assign_id)\n",
    "        row.append(parsed[\"im1\"])\n",
    "        row.append(parsed[\"im2\"])\n",
    "        row.append(parsed[\"hit\"])\n",
    "        row.append(parsed[\"tasktype\"])\n",
    "        row.append(parsed[\"im1relation\"])\n",
    "        row.append(parsed[\"im2relation\"])\n",
    "        row.append(parsed[\"rt\"])\n",
    "        row.append(parsed[\"rep\"])\n",
    "        row.append(parsed[\"pair_ind\"])\n",
    "        \n",
    "        \n",
    "        d[\"assign_id\"]=assign_id\n",
    "        d[\"worker_id\"]=worker_id\n",
    "        d[\"im1\"]=parsed[\"im1\"]\n",
    "        d[\"im2\"]=parsed[\"im2\"]\n",
    "        d[\"hit\"]=parsed[\"hit\"]\n",
    "        d[\"tasktype\"]=parsed[\"tasktype\"]\n",
    "        d[\"im1relation\"]=parsed[\"im1relation\"]\n",
    "        d[\"im2relation\"]=parsed[\"im2relation\"]\n",
    "        d[\"rt\"]=parsed[\"rt\"]\n",
    "        d[\"rep\"]=parsed[\"rep\"]\n",
    "        d[\"pair_ind\"]=parsed[\"pair_ind\"]\n",
    "\n",
    "        \n",
    "        if(parsed[\"hit\"]==True):\n",
    "            high=high+1\n",
    "        else:\n",
    "            low=low+1\n",
    "            \n",
    "    total=high+low\n",
    "        \n",
    "        \n",
    "    l.append(row)\n",
    "    if d:\n",
    "        dict_list.append(d)\n",
    "    "
   ]
  },
  {
   "cell_type": "code",
   "execution_count": 3,
   "metadata": {},
   "outputs": [],
   "source": [
    "csvfile=\"n.csv\"\n",
    "with open(csvfile, \"w\") as output:\n",
    "    writer = csv.writer(output, lineterminator='\\n')\n",
    "    writer.writerows(l)"
   ]
  },
  {
   "cell_type": "code",
   "execution_count": 4,
   "metadata": {},
   "outputs": [
    {
     "name": "stdout",
     "output_type": "stream",
     "text": [
      "Likelihood of a high rated image 0.578167115902965\n"
     ]
    }
   ],
   "source": [
    "print(\"Likelihood of a high rated image\",high/total)"
   ]
  },
  {
   "cell_type": "code",
   "execution_count": 5,
   "metadata": {},
   "outputs": [
    {
     "name": "stdout",
     "output_type": "stream",
     "text": [
      "Likelihood of a low rated image 0.42183288409703507\n"
     ]
    }
   ],
   "source": [
    "print(\"Likelihood of a low rated image\",low/total)"
   ]
  },
  {
   "cell_type": "code",
   "execution_count": 6,
   "metadata": {},
   "outputs": [
    {
     "name": "stdout",
     "output_type": "stream",
     "text": [
      "total responses 4452\n"
     ]
    }
   ],
   "source": [
    "print(\"total responses\", total)"
   ]
  },
  {
   "cell_type": "code",
   "execution_count": 7,
   "metadata": {},
   "outputs": [],
   "source": [
    "rep=[]\n",
    "for i in dict_list:\n",
    "    if i[\"rep\"]==1:\n",
    "        rep.append(i) "
   ]
  },
  {
   "cell_type": "code",
   "execution_count": 8,
   "metadata": {},
   "outputs": [],
   "source": [
    "user={}\n",
    "\n",
    "for r in rep:\n",
    "    user[r[\"worker_id\"]]=0\n",
    "\n",
    "\n",
    "for r in rep:\n",
    "    for x in rep:\n",
    "        if r[\"im1\"]==x[\"im1\"] and r[\"im2\"]==x[\"im2\"] and r[\"worker_id\"]==x[\"worker_id\"]:\n",
    "            if r[\"hit\"]==x[\"hit\"]:\n",
    "                user[x[\"worker_id\"]]=user[x[\"worker_id\"]]+1\n",
    "                "
   ]
  },
  {
   "cell_type": "code",
   "execution_count": 9,
   "metadata": {},
   "outputs": [
    {
     "name": "stdout",
     "output_type": "stream",
     "text": [
      "Average consistency for 34 users :  9.441176470588236\n"
     ]
    }
   ],
   "source": [
    "print(\"Average consistency for\",len(user), \"users : \", sum(user.values())/len(user))"
   ]
  },
  {
   "cell_type": "code",
   "execution_count": 10,
   "metadata": {},
   "outputs": [],
   "source": [
    "pair={}\n",
    "for i in range(0,100):\n",
    "    t=0\n",
    "    f=0\n",
    "    for d in dict_list:\n",
    "        if d[\"pair_ind\"]==i:\n",
    "            if d[\"hit\"]==True:\n",
    "                t=t+1\n",
    "            else:\n",
    "                f=f+1\n",
    "            pair[d[\"pair_ind\"]]=t/(t+f)\n",
    "    "
   ]
  },
  {
   "cell_type": "markdown",
   "metadata": {},
   "source": [
    "Consistency of each pair across users"
   ]
  },
  {
   "cell_type": "code",
   "execution_count": 11,
   "metadata": {},
   "outputs": [
    {
     "data": {
      "text/plain": [
       "{0: 0.28125,\n",
       " 1: 0.2698412698412698,\n",
       " 2: 0.6875,\n",
       " 3: 0.5483870967741935,\n",
       " 4: 0.375,\n",
       " 5: 0.203125,\n",
       " 6: 0.125,\n",
       " 7: 0.0967741935483871,\n",
       " 8: 0.25,\n",
       " 9: 0.12903225806451613,\n",
       " 10: 0.3333333333333333,\n",
       " 11: 0.34375,\n",
       " 12: 0.65625,\n",
       " 13: 0.5625,\n",
       " 14: 0.5,\n",
       " 15: 0.06451612903225806,\n",
       " 16: 0.375,\n",
       " 17: 0.5806451612903226,\n",
       " 18: 0.15625,\n",
       " 19: 0.12903225806451613,\n",
       " 20: 0.4375,\n",
       " 21: 0.12698412698412698,\n",
       " 22: 0.5757575757575758,\n",
       " 23: 0.2222222222222222,\n",
       " 24: 0.375,\n",
       " 25: 0.7878787878787878,\n",
       " 26: 0.06451612903225806,\n",
       " 27: 0.21875,\n",
       " 28: 0.12903225806451613,\n",
       " 29: 0.78125,\n",
       " 30: 0.53125,\n",
       " 31: 0.3548387096774194,\n",
       " 32: 0.875,\n",
       " 33: 0.4126984126984127,\n",
       " 34: 0.34375,\n",
       " 35: 0.6875,\n",
       " 36: 0.25806451612903225,\n",
       " 37: 0.78125,\n",
       " 38: 0.6666666666666666,\n",
       " 39: 0.1935483870967742,\n",
       " 40: 0.90625,\n",
       " 41: 0.4375,\n",
       " 42: 0.34375,\n",
       " 43: 0.34375,\n",
       " 44: 0.6451612903225806,\n",
       " 45: 0.375,\n",
       " 46: 0.09375,\n",
       " 47: 0.625,\n",
       " 48: 0.265625,\n",
       " 49: 0.8181818181818182,\n",
       " 50: 0.3870967741935484,\n",
       " 51: 0.90625,\n",
       " 52: 0.5151515151515151,\n",
       " 53: 0.7272727272727273,\n",
       " 54: 0.65625,\n",
       " 55: 0.25,\n",
       " 56: 0.7538461538461538,\n",
       " 57: 0.8064516129032258,\n",
       " 58: 0.875,\n",
       " 59: 0.06451612903225806,\n",
       " 60: 0.8125,\n",
       " 61: 0.22580645161290322,\n",
       " 62: 0.375,\n",
       " 63: 0.40625,\n",
       " 64: 0.22580645161290322,\n",
       " 65: 0.3333333333333333,\n",
       " 66: 0.9393939393939394,\n",
       " 67: 0.8125,\n",
       " 68: 0.46875,\n",
       " 69: 0.8125,\n",
       " 70: 0.4838709677419355,\n",
       " 71: 0.6129032258064516,\n",
       " 72: 0.0967741935483871,\n",
       " 73: 0.41935483870967744,\n",
       " 74: 0.78125,\n",
       " 75: 0.2857142857142857,\n",
       " 76: 0.30303030303030304,\n",
       " 77: 0.8064516129032258,\n",
       " 78: 0.15625,\n",
       " 79: 0.21875,\n",
       " 80: 0.12903225806451613,\n",
       " 81: 0.5806451612903226,\n",
       " 82: 0.90625,\n",
       " 83: 0.1875,\n",
       " 84: 0.84375,\n",
       " 85: 0.6060606060606061,\n",
       " 86: 0.7741935483870968,\n",
       " 87: 0.59375,\n",
       " 88: 0.53125,\n",
       " 89: 0.6307692307692307,\n",
       " 90: 0.9354838709677419,\n",
       " 91: 0.9375,\n",
       " 92: 0.7741935483870968,\n",
       " 93: 0.9090909090909091,\n",
       " 94: 0.8787878787878788,\n",
       " 95: 0.90625,\n",
       " 96: 0.90625,\n",
       " 97: 0.7419354838709677,\n",
       " 98: 0.9032258064516129,\n",
       " 99: 0.84375}"
      ]
     },
     "execution_count": 11,
     "metadata": {},
     "output_type": "execute_result"
    }
   ],
   "source": [
    "pair"
   ]
  },
  {
   "cell_type": "code",
   "execution_count": 12,
   "metadata": {},
   "outputs": [],
   "source": [
    "user=set()\n",
    "for d in dict_list:\n",
    "    user.add(d[\"worker_id\"])\n"
   ]
  },
  {
   "cell_type": "code",
   "execution_count": 13,
   "metadata": {},
   "outputs": [],
   "source": [
    "dict_user={}\n",
    "for u in user:\n",
    "    t=0\n",
    "    f=0\n",
    "    for d in dict_list:\n",
    "        if d[\"worker_id\"]==u:\n",
    "            if d[\"hit\"]==True:\n",
    "                t=t+1\n",
    "            else:\n",
    "                f=f+1\n",
    "    dict_user[u]=t/(t+f)\n",
    "        "
   ]
  },
  {
   "cell_type": "markdown",
   "metadata": {},
   "source": [
    "Consistency of each users for all pairs"
   ]
  },
  {
   "cell_type": "code",
   "execution_count": 14,
   "metadata": {},
   "outputs": [
    {
     "data": {
      "text/plain": [
       "{'A11AK3C8KB8G6X': 0.7214285714285714,\n",
       " 'A132MSWBBVTOES': 1.0,\n",
       " 'A15Y9VMQ1AZ90V': 0.4714285714285714,\n",
       " 'A1G34TESSXG1R8': 0.4785714285714286,\n",
       " 'A1K3EVN2Y9DKBZ': 0.6285714285714286,\n",
       " 'A1OYKM6362XY6': 0.4714285714285714,\n",
       " 'A1P7B9VPNNOUA6': 0.45,\n",
       " 'A1TL4P7LZRW6ZW': 0.6363636363636364,\n",
       " 'A1TSD3O3C3ZUT6': 0.6357142857142857,\n",
       " 'A1USR9JCAMDGM3': 0.5928571428571429,\n",
       " 'A1VL7AAOUPDN72': 0.5285714285714286,\n",
       " 'A27NBGO9FXJS8Q': 0.6428571428571429,\n",
       " 'A29NUEAGYXHNQA': 0.6214285714285714,\n",
       " 'A2I9PUZT19ZBO8': 0.6428571428571429,\n",
       " 'A2MCRVU8I9VNHG': 0.6214285714285714,\n",
       " 'A2MGQNCN6UTPOU': 0.5214285714285715,\n",
       " 'A2NY4882G47O1C': 0.75,\n",
       " 'A2PWE9TKEM99BA': 0.6142857142857143,\n",
       " 'A2QIZ31TMHU0GD': 0.4142857142857143,\n",
       " 'A2VGEE0ZIZ8CBQ': 0.75,\n",
       " 'A2WWYVKGZZXBOB': 0.5357142857142857,\n",
       " 'A321YWMP74ULKH': 0.4714285714285714,\n",
       " 'A346UAH34GVOZX': 0.7785714285714286,\n",
       " 'A3BHRFFG75X3GO': 0.6571428571428571,\n",
       " 'A3BP890CXV4UMN': 0.55,\n",
       " 'A3ECJAL8MQKP4G': 0.5857142857142857,\n",
       " 'A3FDF8E9L4X5KE': 0.45714285714285713,\n",
       " 'A3FHPIYGA20PBN': 1.0,\n",
       " 'A3KQFVKPIVCXK8': 0.5785714285714286,\n",
       " 'A3VLHYQMLNOUL7': 0.5928571428571429,\n",
       " 'A53S7J4JGWG38': 0.5071428571428571,\n",
       " 'A62LZWGKLMBT2': 0.6857142857142857,\n",
       " 'A6KOTWP7N7RLU': 0.5232558139534884,\n",
       " 'AEPX9J0KRQX9V': 0.6071428571428571,\n",
       " 'ALAOEYIYW0CW7': 0.8333333333333334,\n",
       " 'ANN162CY5IAGN': 0.6142857142857143,\n",
       " 'AZ9BU8QI4YKF3': 0.4928571428571429}"
      ]
     },
     "execution_count": 14,
     "metadata": {},
     "output_type": "execute_result"
    }
   ],
   "source": [
    "dict_user"
   ]
  },
  {
   "cell_type": "code",
   "execution_count": 15,
   "metadata": {},
   "outputs": [],
   "source": [
    "gt=[]\n",
    "same=[]\n",
    "dif=[]\n",
    "for i in dict_list:\n",
    "    if i[\"tasktype\"]==\"ground_truth\":\n",
    "        gt.append(i[\"pair_ind\"])\n",
    "    elif i[\"tasktype\"]==\"Same\":\n",
    "        same.append(i[\"pair_ind\"])\n",
    "    elif i[\"tasktype\"]==\"Different\":\n",
    "        dif.append(i[\"pair_ind\"])"
   ]
  },
  {
   "cell_type": "code",
   "execution_count": 16,
   "metadata": {},
   "outputs": [],
   "source": [
    "gt=0\n",
    "sa=0\n",
    "dif=0\n",
    "gt_t=0\n",
    "sa_t=0\n",
    "dif_t=0\n",
    "\n",
    "for i in dict_list:\n",
    "    if i[\"tasktype\"]==\"ground_truth\":\n",
    "        gt=gt+1\n",
    "        if i[\"hit\"]==True:\n",
    "            gt_t=gt_t+1\n",
    "    elif i[\"tasktype\"]==\"Same\":\n",
    "        dif=dif+1\n",
    "        if i[\"hit\"]==True:\n",
    "            dif_t=dif_t+1\n",
    "    elif i[\"tasktype\"]==\"Different\":\n",
    "        sa=sa+1\n",
    "        if i[\"hit\"]==True:\n",
    "            sa_t=sa_t+1\n",
    "    "
   ]
  },
  {
   "cell_type": "code",
   "execution_count": 17,
   "metadata": {},
   "outputs": [
    {
     "name": "stdout",
     "output_type": "stream",
     "text": [
      "Same true ratio: 0.5228840125391849 \n",
      "Ground Truth true ratio: 0.8833727344365643 \n",
      "Dif true ratio: 0.3897984886649874\n"
     ]
    }
   ],
   "source": [
    "print(\"Same true ratio:\", sa_t/sa, \"\\nGround Truth true ratio:\", gt_t/gt,\"\\nDif true ratio:\", dif_t/dif)"
   ]
  },
  {
   "cell_type": "code",
   "execution_count": null,
   "metadata": {},
   "outputs": [],
   "source": []
  }
 ],
 "metadata": {
  "kernelspec": {
   "display_name": "Python 3",
   "language": "python",
   "name": "python3"
  },
  "language_info": {
   "codemirror_mode": {
    "name": "ipython",
    "version": 3
   },
   "file_extension": ".py",
   "mimetype": "text/x-python",
   "name": "python",
   "nbconvert_exporter": "python",
   "pygments_lexer": "ipython3",
   "version": "3.6.2"
  }
 },
 "nbformat": 4,
 "nbformat_minor": 2
}
