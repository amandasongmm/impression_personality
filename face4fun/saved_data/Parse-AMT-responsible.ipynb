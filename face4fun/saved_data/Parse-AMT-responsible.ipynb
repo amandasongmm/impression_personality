{
 "cells": [
  {
   "cell_type": "code",
   "execution_count": 1,
   "metadata": {},
   "outputs": [],
   "source": [
    "import csv\n",
    "import json\n",
    "response=[]\n",
    "with open('trialdata-responsible.csv') as f:\n",
    "    rows = csv.reader(f)\n",
    "    for row in rows:\n",
    "        response.append(row[0]+row[3])\n",
    "        \n",
    "        "
   ]
  },
  {
   "cell_type": "code",
   "execution_count": 2,
   "metadata": {},
   "outputs": [],
   "source": [
    "l=[]\n",
    "dict_list=[]\n",
    "high=0\n",
    "low=0\n",
    "\n",
    "l.append([\"worker_id\",\"assignmend id\",\"img1\",\"img2\",\"response\",\"task_type\",\"im1\",\"im2\",\"rt\",\"rep\",\"pair_ind\"])\n",
    "\n",
    "\n",
    "for r in response:\n",
    "    row=[]\n",
    "    d = {}\n",
    "    worker_id=r[0:r.find(\":\")]\n",
    "    assign_id=r[r.find(\":\")+1:r.find(\"{\")]\n",
    "    r=r[r.find(\"{\"):]\n",
    "    parsed=json.loads(r)\n",
    "    if(parsed[\"phase\"]==\"TEST\"):\n",
    "        row.append(worker_id)\n",
    "        row.append(assign_id)\n",
    "        row.append(parsed[\"im1\"])\n",
    "        row.append(parsed[\"im2\"])\n",
    "        row.append(parsed[\"hit\"])\n",
    "        row.append(parsed[\"tasktype\"])\n",
    "        row.append(parsed[\"im1relation\"])\n",
    "        row.append(parsed[\"im2relation\"])\n",
    "        row.append(parsed[\"rt\"])\n",
    "        row.append(parsed[\"rep\"])\n",
    "        row.append(parsed[\"pair_ind\"])\n",
    "        \n",
    "        \n",
    "        d[\"assign_id\"]=assign_id\n",
    "        d[\"worker_id\"]=worker_id\n",
    "        d[\"im1\"]=parsed[\"im1\"]\n",
    "        d[\"im2\"]=parsed[\"im2\"]\n",
    "        d[\"hit\"]=parsed[\"hit\"]\n",
    "        d[\"tasktype\"]=parsed[\"tasktype\"]\n",
    "        d[\"im1relation\"]=parsed[\"im1relation\"]\n",
    "        d[\"im2relation\"]=parsed[\"im2relation\"]\n",
    "        d[\"rt\"]=parsed[\"rt\"]\n",
    "        d[\"rep\"]=parsed[\"rep\"]\n",
    "        d[\"pair_ind\"]=parsed[\"pair_ind\"]\n",
    "\n",
    "        \n",
    "        if(parsed[\"hit\"]==True):\n",
    "            high=high+1\n",
    "        else:\n",
    "            low=low+1\n",
    "            \n",
    "    total=high+low\n",
    "        \n",
    "        \n",
    "    l.append(row)\n",
    "    if d:\n",
    "        dict_list.append(d)\n",
    "    "
   ]
  },
  {
   "cell_type": "code",
   "execution_count": 3,
   "metadata": {},
   "outputs": [],
   "source": [
    "csvfile=\"n.csv\"\n",
    "with open(csvfile, \"w\") as output:\n",
    "    writer = csv.writer(output, lineterminator='\\n')\n",
    "    writer.writerows(l)"
   ]
  },
  {
   "cell_type": "code",
   "execution_count": 4,
   "metadata": {},
   "outputs": [
    {
     "name": "stdout",
     "output_type": "stream",
     "text": [
      "Likelihood of a high rated image 0.8833333333333333\n"
     ]
    }
   ],
   "source": [
    "print(\"Likelihood of a high rated image\",high/total)"
   ]
  },
  {
   "cell_type": "code",
   "execution_count": 5,
   "metadata": {},
   "outputs": [
    {
     "name": "stdout",
     "output_type": "stream",
     "text": [
      "Likelihood of a low rated image 0.11666666666666667\n"
     ]
    }
   ],
   "source": [
    "print(\"Likelihood of a low rated image\",low/total)"
   ]
  },
  {
   "cell_type": "code",
   "execution_count": 6,
   "metadata": {},
   "outputs": [
    {
     "name": "stdout",
     "output_type": "stream",
     "text": [
      "total responses 60\n"
     ]
    }
   ],
   "source": [
    "print(\"total responses\", total)"
   ]
  },
  {
   "cell_type": "code",
   "execution_count": 7,
   "metadata": {},
   "outputs": [],
   "source": [
    "rep=[]\n",
    "for i in dict_list:\n",
    "    if i[\"rep\"]==1:\n",
    "        rep.append(i) "
   ]
  },
  {
   "cell_type": "code",
   "execution_count": 8,
   "metadata": {},
   "outputs": [],
   "source": [
    "user={}\n",
    "\n",
    "for r in rep:\n",
    "    user[r[\"worker_id\"]]=0\n",
    "\n",
    "\n",
    "for r in rep:\n",
    "    for x in rep:\n",
    "        if r[\"im1\"]==x[\"im1\"] and r[\"im2\"]==x[\"im2\"] and r[\"worker_id\"]==x[\"worker_id\"]:\n",
    "            if r[\"hit\"]==x[\"hit\"]:\n",
    "                user[x[\"worker_id\"]]=user[x[\"worker_id\"]]+1\n",
    "                "
   ]
  },
  {
   "cell_type": "code",
   "execution_count": 9,
   "metadata": {},
   "outputs": [
    {
     "name": "stdout",
     "output_type": "stream",
     "text": [
      "Average consistency for 1 users :  20.0\n"
     ]
    }
   ],
   "source": [
    "print(\"Average consistency for\",len(user), \"users : \", sum(user.values())/len(user))"
   ]
  },
  {
   "cell_type": "code",
   "execution_count": 10,
   "metadata": {},
   "outputs": [],
   "source": [
    "pair={}\n",
    "for i in range(0,100):\n",
    "    t=0\n",
    "    f=0\n",
    "    for d in dict_list:\n",
    "        if d[\"pair_ind\"]==i:\n",
    "            if d[\"hit\"]==True:\n",
    "                t=t+1\n",
    "            else:\n",
    "                f=f+1\n",
    "            pair[d[\"pair_ind\"]]=t/(t+f)\n",
    "    "
   ]
  },
  {
   "cell_type": "markdown",
   "metadata": {},
   "source": [
    "Consistency of each pair across users"
   ]
  },
  {
   "cell_type": "code",
   "execution_count": 11,
   "metadata": {},
   "outputs": [
    {
     "data": {
      "text/plain": [
       "{0: 1.0,\n",
       " 1: 1.0,\n",
       " 2: 1.0,\n",
       " 3: 0.5,\n",
       " 4: 1.0,\n",
       " 5: 1.0,\n",
       " 6: 0.0,\n",
       " 7: 1.0,\n",
       " 8: 1.0,\n",
       " 9: 1.0,\n",
       " 10: 1.0,\n",
       " 11: 1.0,\n",
       " 12: 1.0,\n",
       " 13: 0.0,\n",
       " 14: 0.5,\n",
       " 15: 0.5,\n",
       " 16: 1.0,\n",
       " 17: 1.0,\n",
       " 18: 1.0,\n",
       " 19: 1.0,\n",
       " 20: 1.0,\n",
       " 21: 1.0,\n",
       " 22: 1.0,\n",
       " 23: 1.0,\n",
       " 24: 1.0,\n",
       " 25: 1.0,\n",
       " 26: 1.0,\n",
       " 27: 1.0,\n",
       " 28: 1.0,\n",
       " 29: 1.0,\n",
       " 30: 1.0,\n",
       " 31: 1.0,\n",
       " 32: 1.0,\n",
       " 33: 1.0,\n",
       " 34: 1.0,\n",
       " 35: 0.0,\n",
       " 36: 1.0,\n",
       " 37: 1.0,\n",
       " 38: 1.0,\n",
       " 39: 1.0}"
      ]
     },
     "execution_count": 11,
     "metadata": {},
     "output_type": "execute_result"
    }
   ],
   "source": [
    "pair"
   ]
  },
  {
   "cell_type": "code",
   "execution_count": 12,
   "metadata": {},
   "outputs": [],
   "source": [
    "user=set()\n",
    "for d in dict_list:\n",
    "    user.add(d[\"worker_id\"])\n"
   ]
  },
  {
   "cell_type": "code",
   "execution_count": 13,
   "metadata": {},
   "outputs": [],
   "source": [
    "dict_user={}\n",
    "for u in user:\n",
    "    t=0\n",
    "    f=0\n",
    "    for d in dict_list:\n",
    "        if d[\"worker_id\"]==u:\n",
    "            if d[\"hit\"]==True:\n",
    "                t=t+1\n",
    "            else:\n",
    "                f=f+1\n",
    "    dict_user[u]=t/(t+f)\n",
    "        "
   ]
  },
  {
   "cell_type": "markdown",
   "metadata": {},
   "source": [
    "Consistency of each users for all pairs"
   ]
  },
  {
   "cell_type": "code",
   "execution_count": 14,
   "metadata": {},
   "outputs": [
    {
     "data": {
      "text/plain": [
       "{'debugWOR3GX': 0.8833333333333333}"
      ]
     },
     "execution_count": 14,
     "metadata": {},
     "output_type": "execute_result"
    }
   ],
   "source": [
    "dict_user"
   ]
  },
  {
   "cell_type": "code",
   "execution_count": 15,
   "metadata": {},
   "outputs": [],
   "source": [
    "gt=[]\n",
    "same=[]\n",
    "dif=[]\n",
    "for i in dict_list:\n",
    "    if i[\"tasktype\"]==\"ground_truth\":\n",
    "        gt.append(i[\"pair_ind\"])\n",
    "    elif i[\"tasktype\"]==\"Same\":\n",
    "        same.append(i[\"pair_ind\"])\n",
    "    elif i[\"tasktype\"]==\"Different\":\n",
    "        dif.append(i[\"pair_ind\"])"
   ]
  },
  {
   "cell_type": "code",
   "execution_count": 16,
   "metadata": {},
   "outputs": [],
   "source": [
    "gt=0\n",
    "sa=0\n",
    "dif=0\n",
    "gt_t=0\n",
    "sa_t=0\n",
    "dif_t=0\n",
    "\n",
    "for i in dict_list:\n",
    "    if i[\"tasktype\"]==\"ground_truth\":\n",
    "        gt=gt+1\n",
    "        if i[\"hit\"]==True:\n",
    "            gt_t=gt_t+1\n",
    "    elif i[\"tasktype\"]==\"Same\":\n",
    "        dif=dif+1\n",
    "        if i[\"hit\"]==True:\n",
    "            dif_t=dif_t+1\n",
    "    elif i[\"tasktype\"]==\"Different\":\n",
    "        sa=sa+1\n",
    "        if i[\"hit\"]==True:\n",
    "            sa_t=sa_t+1\n",
    "    "
   ]
  },
  {
   "cell_type": "code",
   "execution_count": null,
   "metadata": {},
   "outputs": [],
   "source": [
    "print(\"\\nSame true ratio:\", sa_t/sa, \"\\nGT true ratio:\", gt_t/gt,\"\\nDiff true ratio:\", dif_t/dif)"
   ]
  },
  {
   "cell_type": "code",
   "execution_count": null,
   "metadata": {},
   "outputs": [],
   "source": []
  }
 ],
 "metadata": {
  "kernelspec": {
   "display_name": "Python 3",
   "language": "python",
   "name": "python3"
  },
  "language_info": {
   "codemirror_mode": {
    "name": "ipython",
    "version": 3
   },
   "file_extension": ".py",
   "mimetype": "text/x-python",
   "name": "python",
   "nbconvert_exporter": "python",
   "pygments_lexer": "ipython3",
   "version": "3.6.2"
  }
 },
 "nbformat": 4,
 "nbformat_minor": 2
}
