{
 "cells": [
  {
   "cell_type": "code",
   "execution_count": 1,
   "metadata": {
    "collapsed": true
   },
   "outputs": [],
   "source": [
    "import csv\n",
    "import json\n",
    "response=[]\n",
    "with open('trialdata_star_agg.csv') as f:\n",
    "    rows = csv.reader(f)\n",
    "    for row in rows:\n",
    "        response.append(row[0]+row[3])\n",
    "        \n",
    "        "
   ]
  },
  {
   "cell_type": "code",
   "execution_count": 2,
   "metadata": {
    "collapsed": true
   },
   "outputs": [],
   "source": [
    "l=[]\n",
    "dict_list=[]\n",
    "high=0\n",
    "low=0\n",
    "\n",
    "l.append([\"worker_id\",\"assignmend id\",\"img1\",\"img2\",\"response\",\"task_type\",\"im1\",\"im2\",\"rt\",\"rep\",\"pair_ind\"])\n",
    "\n",
    "\n",
    "for r in response:\n",
    "    row=[]\n",
    "    d = {}\n",
    "    worker_id=r[0:r.find(\":\")]\n",
    "    assign_id=r[r.find(\":\")+1:r.find(\"{\")]\n",
    "    r=r[r.find(\"{\"):]\n",
    "    parsed=json.loads(r)\n",
    "    if(parsed[\"phase\"]==\"TEST\"):\n",
    "        row.append(worker_id)\n",
    "        row.append(assign_id)\n",
    "        row.append(parsed[\"im1\"])\n",
    "        row.append(parsed[\"im2\"])\n",
    "        row.append(parsed[\"hit\"])\n",
    "        row.append(parsed[\"tasktype\"])\n",
    "        row.append(parsed[\"im1relation\"])\n",
    "        row.append(parsed[\"im2relation\"])\n",
    "        row.append(parsed[\"rt\"])\n",
    "        row.append(parsed[\"rep\"])\n",
    "        row.append(parsed[\"pair_ind\"])\n",
    "        \n",
    "        \n",
    "        d[\"assign_id\"]=assign_id\n",
    "        d[\"worker_id\"]=worker_id\n",
    "        d[\"im1\"]=parsed[\"im1\"]\n",
    "        d[\"im2\"]=parsed[\"im2\"]\n",
    "        d[\"hit\"]=parsed[\"hit\"]\n",
    "        d[\"tasktype\"]=parsed[\"tasktype\"]\n",
    "        d[\"im1relation\"]=parsed[\"im1relation\"]\n",
    "        d[\"im2relation\"]=parsed[\"im2relation\"]\n",
    "        d[\"rt\"]=parsed[\"rt\"]\n",
    "        d[\"rep\"]=parsed[\"rep\"]\n",
    "        d[\"pair_ind\"]=parsed[\"pair_ind\"]\n",
    "\n",
    "        \n",
    "        if(parsed[\"hit\"]==True):\n",
    "            high=high+1\n",
    "        else:\n",
    "            low=low+1\n",
    "            \n",
    "    total=high+low\n",
    "        \n",
    "        \n",
    "    l.append(row)\n",
    "    if d:\n",
    "        dict_list.append(d)\n",
    "    "
   ]
  },
  {
   "cell_type": "code",
   "execution_count": 3,
   "metadata": {
    "collapsed": true
   },
   "outputs": [],
   "source": [
    "csvfile=\"n.csv\"\n",
    "with open(csvfile, \"w\") as output:\n",
    "    writer = csv.writer(output, lineterminator='\\n')\n",
    "    writer.writerows(l)"
   ]
  },
  {
   "cell_type": "code",
   "execution_count": 4,
   "metadata": {},
   "outputs": [
    {
     "name": "stdout",
     "output_type": "stream",
     "text": [
      "Likelihood of a high rated image 0.7769028871391076\n"
     ]
    }
   ],
   "source": [
    "print(\"Likelihood of a high rated image\",high/total)"
   ]
  },
  {
   "cell_type": "code",
   "execution_count": 5,
   "metadata": {},
   "outputs": [
    {
     "name": "stdout",
     "output_type": "stream",
     "text": [
      "Likelihood of a low rated image 0.2230971128608924\n"
     ]
    }
   ],
   "source": [
    "print(\"Likelihood of a low rated image\",low/total)"
   ]
  },
  {
   "cell_type": "code",
   "execution_count": 6,
   "metadata": {},
   "outputs": [
    {
     "name": "stdout",
     "output_type": "stream",
     "text": [
      "total responses 5715\n"
     ]
    }
   ],
   "source": [
    "print(\"total responses\", total)"
   ]
  },
  {
   "cell_type": "code",
   "execution_count": 7,
   "metadata": {
    "collapsed": true
   },
   "outputs": [],
   "source": [
    "rep=[]\n",
    "for i in dict_list:\n",
    "    if i[\"rep\"]==1:\n",
    "        rep.append(i) "
   ]
  },
  {
   "cell_type": "code",
   "execution_count": 8,
   "metadata": {
    "collapsed": true
   },
   "outputs": [],
   "source": [
    "user={}\n",
    "\n",
    "for r in rep:\n",
    "    user[r[\"worker_id\"]]=0\n",
    "\n",
    "\n",
    "for r in rep:\n",
    "    for x in rep:\n",
    "        if r[\"im1\"]==x[\"im1\"] and r[\"im2\"]==x[\"im2\"] and r[\"worker_id\"]==x[\"worker_id\"]:\n",
    "            if r[\"hit\"]==x[\"hit\"]:\n",
    "                user[x[\"worker_id\"]]=user[x[\"worker_id\"]]+1\n",
    "                "
   ]
  },
  {
   "cell_type": "code",
   "execution_count": 9,
   "metadata": {},
   "outputs": [
    {
     "name": "stdout",
     "output_type": "stream",
     "text": [
      "Average consistency for 43 users :  9.465116279069768\n"
     ]
    }
   ],
   "source": [
    "print(\"Average consistency for\",len(user), \"users : \", sum(user.values())/len(user))"
   ]
  },
  {
   "cell_type": "code",
   "execution_count": 10,
   "metadata": {
    "collapsed": true
   },
   "outputs": [],
   "source": [
    "pair={}\n",
    "for i in range(0,100):\n",
    "    t=0\n",
    "    f=0\n",
    "    for d in dict_list:\n",
    "        if d[\"pair_ind\"]==i:\n",
    "            if d[\"hit\"]==True:\n",
    "                t=t+1\n",
    "            else:\n",
    "                f=f+1\n",
    "            pair[d[\"pair_ind\"]]=t/(t+f)\n",
    "    "
   ]
  },
  {
   "cell_type": "markdown",
   "metadata": {},
   "source": [
    "Consistency of each pair across users"
   ]
  },
  {
   "cell_type": "code",
   "execution_count": 11,
   "metadata": {},
   "outputs": [
    {
     "data": {
      "text/plain": [
       "{0: 0.4146341463414634,\n",
       " 1: 0.8192771084337349,\n",
       " 2: 0.9761904761904762,\n",
       " 3: 0.925,\n",
       " 4: 1.0,\n",
       " 5: 0.8902439024390244,\n",
       " 6: 0.6585365853658537,\n",
       " 7: 0.95,\n",
       " 8: 0.7380952380952381,\n",
       " 9: 0.85,\n",
       " 10: 0.926829268292683,\n",
       " 11: 0.5714285714285714,\n",
       " 12: 0.5365853658536586,\n",
       " 13: 0.9069767441860465,\n",
       " 14: 0.6,\n",
       " 15: 0.925,\n",
       " 16: 0.9512195121951219,\n",
       " 17: 0.8780487804878049,\n",
       " 18: 0.45,\n",
       " 19: 0.9,\n",
       " 20: 0.9512195121951219,\n",
       " 21: 0.9876543209876543,\n",
       " 22: 0.925,\n",
       " 23: 0.9518072289156626,\n",
       " 24: 0.8,\n",
       " 25: 0.4146341463414634,\n",
       " 26: 0.5853658536585366,\n",
       " 27: 0.925,\n",
       " 28: 0.926829268292683,\n",
       " 29: 0.8837209302325582,\n",
       " 30: 0.95,\n",
       " 31: 0.9024390243902439,\n",
       " 32: 0.4146341463414634,\n",
       " 33: 0.9506172839506173,\n",
       " 34: 0.975609756097561,\n",
       " 35: 0.5609756097560976,\n",
       " 36: 0.3902439024390244,\n",
       " 37: 0.9512195121951219,\n",
       " 38: 1.0,\n",
       " 39: 0.625,\n",
       " 40: 0.975,\n",
       " 41: 0.975609756097561,\n",
       " 42: 1.0,\n",
       " 43: 0.575,\n",
       " 44: 0.9523809523809523,\n",
       " 45: 0.8,\n",
       " 46: 0.9285714285714286,\n",
       " 47: 0.6829268292682927,\n",
       " 48: 0.35802469135802467,\n",
       " 49: 0.6428571428571429,\n",
       " 50: 0.8,\n",
       " 51: 0.24390243902439024,\n",
       " 52: 0.475,\n",
       " 53: 0.3170731707317073,\n",
       " 54: 0.9259259259259259,\n",
       " 55: 0.6341463414634146,\n",
       " 56: 0.0975609756097561,\n",
       " 57: 0.3,\n",
       " 58: 0.275,\n",
       " 59: 0.925,\n",
       " 60: 0.3170731707317073,\n",
       " 61: 0.8809523809523809,\n",
       " 62: 0.8571428571428571,\n",
       " 63: 0.5238095238095238,\n",
       " 64: 1.0,\n",
       " 65: 0.55,\n",
       " 66: 0.17073170731707318,\n",
       " 67: 0.43902439024390244,\n",
       " 68: 0.8095238095238095,\n",
       " 69: 0.8780487804878049,\n",
       " 70: 0.7,\n",
       " 71: 0.575,\n",
       " 72: 0.9285714285714286,\n",
       " 73: 0.4878048780487805,\n",
       " 74: 0.6428571428571429,\n",
       " 75: 0.5375,\n",
       " 76: 0.95,\n",
       " 77: 0.625,\n",
       " 78: 0.7619047619047619,\n",
       " 79: 0.9024390243902439,\n",
       " 80: 0.9512195121951219,\n",
       " 81: 0.21951219512195122,\n",
       " 82: 0.17073170731707318,\n",
       " 83: 0.9761904761904762,\n",
       " 84: 0.2682926829268293,\n",
       " 85: 0.35,\n",
       " 86: 0.2,\n",
       " 87: 0.775,\n",
       " 88: 0.7857142857142857,\n",
       " 89: 0.4878048780487805,\n",
       " 90: 0.925,\n",
       " 91: 0.95,\n",
       " 92: 0.9512195121951219,\n",
       " 93: 1.0,\n",
       " 94: 0.9512195121951219,\n",
       " 95: 0.9512195121951219,\n",
       " 96: 0.9761904761904762,\n",
       " 97: 1.0,\n",
       " 98: 0.975,\n",
       " 99: 1.0}"
      ]
     },
     "execution_count": 11,
     "metadata": {},
     "output_type": "execute_result"
    }
   ],
   "source": [
    "pair"
   ]
  },
  {
   "cell_type": "code",
   "execution_count": 12,
   "metadata": {
    "collapsed": true
   },
   "outputs": [],
   "source": [
    "user=set()\n",
    "for d in dict_list:\n",
    "    user.add(d[\"worker_id\"])\n"
   ]
  },
  {
   "cell_type": "code",
   "execution_count": 13,
   "metadata": {
    "collapsed": true
   },
   "outputs": [],
   "source": [
    "dict_user={}\n",
    "for u in user:\n",
    "    t=0\n",
    "    f=0\n",
    "    for d in dict_list:\n",
    "        if d[\"worker_id\"]==u:\n",
    "            if d[\"hit\"]==True:\n",
    "                t=t+1\n",
    "            else:\n",
    "                f=f+1\n",
    "    dict_user[u]=t/(t+f)\n",
    "        "
   ]
  },
  {
   "cell_type": "markdown",
   "metadata": {},
   "source": [
    "Consistency of each users for all pairs"
   ]
  },
  {
   "cell_type": "code",
   "execution_count": 14,
   "metadata": {},
   "outputs": [
    {
     "data": {
      "text/plain": [
       "{'A010889934657SC4PNL1O': 0.7785714285714286,\n",
       " 'A10M0S7FH5FZQ8': 0.7071428571428572,\n",
       " 'A118DDPN3L1FBJ': 0.85,\n",
       " 'A140YQGGW69QK0': 0.8071428571428572,\n",
       " 'A14WQX002G4GNI': 0.8428571428571429,\n",
       " 'A167SYXGXFU7C8': 0.75,\n",
       " 'A1B84JJ7ATWVJA': 0.7785714285714286,\n",
       " 'A1EGD98S2MCHV6': 0.7642857142857142,\n",
       " 'A1EOPEG6RHXO1V': 0.8333333333333334,\n",
       " 'A1TSD3O3C3ZUT6': 0.6428571428571429,\n",
       " 'A1X2NKYJNHB1A5': 0.7571428571428571,\n",
       " 'A1YSYI926BBOHW': 0.7857142857142857,\n",
       " 'A1ZH2P24IXR29F': 0.8071428571428572,\n",
       " 'A20P30E4PEFR1L': 0.8357142857142857,\n",
       " 'A255YXKBL4SRKR': 0.8071428571428572,\n",
       " 'A26HH5XUH214F7': 0.8071428571428572,\n",
       " 'A27JOAEPKH5PJF': 0.8536585365853658,\n",
       " 'A27NBGO9FXJS8Q': 0.7714285714285715,\n",
       " 'A29MNBUGZXT8AO': 0.7,\n",
       " 'A2A4DJKCY4T6N5': 0.5142857142857142,\n",
       " 'A2BRRE6BSJ6F7N': 0.7928571428571428,\n",
       " 'A2C27YTQSQ1GXS': 0.7357142857142858,\n",
       " 'A2ES419GAJ003R': 0.8,\n",
       " 'A2IY2RXNZ4UEPJ': 0.7857142857142857,\n",
       " 'A2MKXI4KCRRI7Y': 0.625,\n",
       " 'A2OPNZHXKHMDIB': 0.8357142857142857,\n",
       " 'A2PB0R5AI1BB1L': 0.8214285714285714,\n",
       " 'A2PCQNGK9C62J5': 0.7,\n",
       " 'A2YSF2OASBV1R2': 0.8642857142857143,\n",
       " 'A2Z3VYYYAIOGHC': 0.7785714285714286,\n",
       " 'A31681CCEVDIH3': 0.7,\n",
       " 'A31N1DL3PH6RMJ': 0.7857142857142857,\n",
       " 'A31Z5TPD8QKE26': 0.7857142857142857,\n",
       " 'A321YWMP74ULKH': 0.8571428571428571,\n",
       " 'A37P99M7Q997H0': 0.7071428571428572,\n",
       " 'A6UFJ075UVPVS': 0.6296296296296297,\n",
       " 'AAXL58HG7MRYY': 0.8571428571428571,\n",
       " 'AIFNYG43ANHUU': 0.75,\n",
       " 'AM6LICX2RIQ1Q': 0.8285714285714286,\n",
       " 'AO3LX5H2LFXV0': 0.7857142857142857,\n",
       " 'AONJLTBODD2WN': 0.8214285714285714,\n",
       " 'ASDOYPL3T2CFL': 0.7785714285714286,\n",
       " 'ASPWHNX0SOMO3': 0.8357142857142857,\n",
       " 'AWAW665TQQP2F': 0.8}"
      ]
     },
     "execution_count": 14,
     "metadata": {},
     "output_type": "execute_result"
    }
   ],
   "source": [
    "dict_user"
   ]
  },
  {
   "cell_type": "code",
   "execution_count": 15,
   "metadata": {
    "collapsed": true
   },
   "outputs": [],
   "source": [
    "gt=[]\n",
    "same=[]\n",
    "dif=[]\n",
    "for i in dict_list:\n",
    "    if i[\"tasktype\"]==\"ground_truth\":\n",
    "        gt.append(i[\"pair_ind\"])\n",
    "    elif i[\"tasktype\"]==\"Same\":\n",
    "        same.append(i[\"pair_ind\"])\n",
    "    elif i[\"tasktype\"]==\"Different\":\n",
    "        dif.append(i[\"pair_ind\"])"
   ]
  },
  {
   "cell_type": "code",
   "execution_count": 16,
   "metadata": {
    "collapsed": true
   },
   "outputs": [],
   "source": [
    "gt=0\n",
    "sa=0\n",
    "dif=0\n",
    "gt_t=0\n",
    "sa_t=0\n",
    "dif_t=0\n",
    "\n",
    "for i in dict_list:\n",
    "    if i[\"tasktype\"]==\"ground_truth\":\n",
    "        gt=gt+1\n",
    "        if i[\"hit\"]==True:\n",
    "            gt_t=gt_t+1\n",
    "    elif i[\"tasktype\"]==\"Same\":\n",
    "        dif=dif+1\n",
    "        if i[\"hit\"]==True:\n",
    "            dif_t=dif_t+1\n",
    "    elif i[\"tasktype\"]==\"Different\":\n",
    "        sa=sa+1\n",
    "        if i[\"hit\"]==True:\n",
    "            sa_t=sa_t+1\n",
    "    "
   ]
  },
  {
   "cell_type": "code",
   "execution_count": 17,
   "metadata": {},
   "outputs": [
    {
     "name": "stdout",
     "output_type": "stream",
     "text": [
      "\n",
      "Same true ratio: 0.5915768854064642 \n",
      "GT true ratio: 0.9546290619251993 \n",
      "Diff true ratio: 0.8202742409402547\n"
     ]
    }
   ],
   "source": [
    "print(\"\\nSame true ratio:\", sa_t/sa, \"\\nGT true ratio:\", gt_t/gt,\"\\nDiff true ratio:\", dif_t/dif)"
   ]
  },
  {
   "cell_type": "code",
   "execution_count": 1,
   "metadata": {
    "collapsed": true
   },
   "outputs": [],
   "source": [
    "#     Trustworthy \n",
    "#     \t\t\t& Same Face & 0.5956 & 0.5228  \\\\\n",
    "#                 & Different Faces & 0.7962 & 0.3898\\\\\n",
    "#                 & Average & 0.8382 & 0.8203 \\\\"
   ]
  },
  {
   "cell_type": "code",
   "execution_count": 3,
   "metadata": {},
   "outputs": [
    {
     "data": {
      "text/plain": [
       "0.74845"
      ]
     },
     "execution_count": 3,
     "metadata": {},
     "output_type": "execute_result"
    }
   ],
   "source": [
    "ave_modifae = (0.6587+0.8382)/2.\n",
    "ave_modifae"
   ]
  },
  {
   "cell_type": "code",
   "execution_count": 4,
   "metadata": {},
   "outputs": [
    {
     "data": {
      "text/plain": [
       "0.7059500000000001"
      ]
     },
     "execution_count": 4,
     "metadata": {},
     "output_type": "execute_result"
    }
   ],
   "source": [
    "ave_star = (0.5916+0.8203)/2.\n",
    "ave_star"
   ]
  },
  {
   "cell_type": "code",
   "execution_count": 5,
   "metadata": {},
   "outputs": [
    {
     "data": {
      "text/plain": [
       "0.6959"
      ]
     },
     "execution_count": 5,
     "metadata": {},
     "output_type": "execute_result"
    }
   ],
   "source": [
    "ave_modifae = (0.5956+0.7962)/2.\n",
    "ave_modifae"
   ]
  },
  {
   "cell_type": "code",
   "execution_count": 6,
   "metadata": {},
   "outputs": [
    {
     "data": {
      "text/plain": [
       "0.45630000000000004"
      ]
     },
     "execution_count": 6,
     "metadata": {},
     "output_type": "execute_result"
    }
   ],
   "source": [
    "ave_star = (0.5228+0.3898)/2.\n",
    "ave_star"
   ]
  },
  {
   "cell_type": "code",
   "execution_count": null,
   "metadata": {
    "collapsed": true
   },
   "outputs": [],
   "source": [
    "0.4563"
   ]
  }
 ],
 "metadata": {
  "kernelspec": {
   "display_name": "Python 2",
   "language": "python",
   "name": "python2"
  },
  "language_info": {
   "codemirror_mode": {
    "name": "ipython",
    "version": 2
   },
   "file_extension": ".py",
   "mimetype": "text/x-python",
   "name": "python",
   "nbconvert_exporter": "python",
   "pygments_lexer": "ipython2",
   "version": "2.7.13"
  }
 },
 "nbformat": 4,
 "nbformat_minor": 2
}
