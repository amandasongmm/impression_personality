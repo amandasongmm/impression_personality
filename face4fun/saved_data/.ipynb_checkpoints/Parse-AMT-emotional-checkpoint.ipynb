{
 "cells": [
  {
   "cell_type": "code",
   "execution_count": 1,
   "metadata": {
    "collapsed": true
   },
   "outputs": [],
   "source": [
    "import csv\n",
    "import json\n",
    "response=[]\n",
    "with open('trialdata-emotional.csv') as f:\n",
    "    rows = csv.reader(f)\n",
    "    for row in rows:\n",
    "        response.append(row[0]+row[3])\n",
    "        \n",
    "        "
   ]
  },
  {
   "cell_type": "code",
   "execution_count": 2,
   "metadata": {
    "collapsed": true
   },
   "outputs": [],
   "source": [
    "l=[]\n",
    "dict_list=[]\n",
    "high=0\n",
    "low=0\n",
    "\n",
    "l.append([\"worker_id\",\"assignmend id\",\"img1\",\"img2\",\"response\",\"task_type\",\"im1\",\"im2\",\"rt\",\"rep\",\"pair_ind\"])\n",
    "\n",
    "\n",
    "for r in response:\n",
    "    row=[]\n",
    "    d = {}\n",
    "    worker_id=r[0:r.find(\":\")]\n",
    "    assign_id=r[r.find(\":\")+1:r.find(\"{\")]\n",
    "    r=r[r.find(\"{\"):]\n",
    "    parsed=json.loads(r)\n",
    "    if(parsed[\"phase\"]==\"TEST\"):\n",
    "        row.append(worker_id)\n",
    "        row.append(assign_id)\n",
    "        row.append(parsed[\"im1\"])\n",
    "        row.append(parsed[\"im2\"])\n",
    "        row.append(parsed[\"hit\"])\n",
    "        row.append(parsed[\"tasktype\"])\n",
    "        row.append(parsed[\"im1relation\"])\n",
    "        row.append(parsed[\"im2relation\"])\n",
    "        row.append(parsed[\"rt\"])\n",
    "        row.append(parsed[\"rep\"])\n",
    "        row.append(parsed[\"pair_ind\"])\n",
    "        \n",
    "        \n",
    "        d[\"assign_id\"]=assign_id\n",
    "        d[\"worker_id\"]=worker_id\n",
    "        d[\"im1\"]=parsed[\"im1\"]\n",
    "        d[\"im2\"]=parsed[\"im2\"]\n",
    "        d[\"hit\"]=parsed[\"hit\"]\n",
    "        d[\"tasktype\"]=parsed[\"tasktype\"]\n",
    "        d[\"im1relation\"]=parsed[\"im1relation\"]\n",
    "        d[\"im2relation\"]=parsed[\"im2relation\"]\n",
    "        d[\"rt\"]=parsed[\"rt\"]\n",
    "        d[\"rep\"]=parsed[\"rep\"]\n",
    "        d[\"pair_ind\"]=parsed[\"pair_ind\"]\n",
    "\n",
    "        \n",
    "        if(parsed[\"hit\"]==True):\n",
    "            high=high+1\n",
    "        else:\n",
    "            low=low+1\n",
    "            \n",
    "    total=high+low\n",
    "        \n",
    "        \n",
    "    l.append(row)\n",
    "    if d:\n",
    "        dict_list.append(d)\n",
    "    "
   ]
  },
  {
   "cell_type": "code",
   "execution_count": 3,
   "metadata": {
    "collapsed": true
   },
   "outputs": [],
   "source": [
    "csvfile=\"n.csv\"\n",
    "with open(csvfile, \"w\") as output:\n",
    "    writer = csv.writer(output, lineterminator='\\n')\n",
    "    writer.writerows(l)"
   ]
  },
  {
   "cell_type": "code",
   "execution_count": 4,
   "metadata": {},
   "outputs": [
    {
     "name": "stdout",
     "output_type": "stream",
     "text": [
      "Likelihood of a high rated image 0.9234256926952141\n"
     ]
    }
   ],
   "source": [
    "print(\"Likelihood of a high rated image\",high/total)"
   ]
  },
  {
   "cell_type": "code",
   "execution_count": 5,
   "metadata": {},
   "outputs": [
    {
     "name": "stdout",
     "output_type": "stream",
     "text": [
      "Likelihood of a low rated image 0.0765743073047859\n"
     ]
    }
   ],
   "source": [
    "print(\"Likelihood of a low rated image\",low/total)"
   ]
  },
  {
   "cell_type": "code",
   "execution_count": 6,
   "metadata": {},
   "outputs": [
    {
     "name": "stdout",
     "output_type": "stream",
     "text": [
      "total responses 1985\n"
     ]
    }
   ],
   "source": [
    "print(\"total responses\", total)"
   ]
  },
  {
   "cell_type": "code",
   "execution_count": 7,
   "metadata": {
    "collapsed": true
   },
   "outputs": [],
   "source": [
    "rep=[]\n",
    "for i in dict_list:\n",
    "    if i[\"rep\"]==1:\n",
    "        rep.append(i) "
   ]
  },
  {
   "cell_type": "code",
   "execution_count": 8,
   "metadata": {
    "collapsed": true
   },
   "outputs": [],
   "source": [
    "user={}\n",
    "\n",
    "for r in rep:\n",
    "    user[r[\"worker_id\"]]=0\n",
    "\n",
    "\n",
    "for r in rep:\n",
    "    for x in rep:\n",
    "        if r[\"im1\"]==x[\"im1\"] and r[\"im2\"]==x[\"im2\"] and r[\"worker_id\"]==x[\"worker_id\"]:\n",
    "            if r[\"hit\"]==x[\"hit\"]:\n",
    "                user[x[\"worker_id\"]]=user[x[\"worker_id\"]]+1\n",
    "                "
   ]
  },
  {
   "cell_type": "code",
   "execution_count": 9,
   "metadata": {},
   "outputs": [
    {
     "name": "stdout",
     "output_type": "stream",
     "text": [
      "Average consistency for 35 users :  18.914285714285715\n"
     ]
    }
   ],
   "source": [
    "print(\"Average consistency for\",len(user), \"users : \", sum(user.values())/len(user))"
   ]
  },
  {
   "cell_type": "code",
   "execution_count": 10,
   "metadata": {
    "collapsed": true
   },
   "outputs": [],
   "source": [
    "pair={}\n",
    "for i in range(0,100):\n",
    "    t=0\n",
    "    f=0\n",
    "    for d in dict_list:\n",
    "        if d[\"pair_ind\"]==i:\n",
    "            if d[\"hit\"]==True:\n",
    "                t=t+1\n",
    "            else:\n",
    "                f=f+1\n",
    "            pair[d[\"pair_ind\"]]=t/(t+f)\n",
    "    "
   ]
  },
  {
   "cell_type": "markdown",
   "metadata": {},
   "source": [
    "Consistency of each pair across users"
   ]
  },
  {
   "cell_type": "code",
   "execution_count": 11,
   "metadata": {},
   "outputs": [
    {
     "data": {
      "text/plain": [
       "{0: 0.8484848484848485,\n",
       " 1: 0.8484848484848485,\n",
       " 2: 0.9242424242424242,\n",
       " 3: 0.9696969696969697,\n",
       " 4: 0.8787878787878788,\n",
       " 5: 0.9117647058823529,\n",
       " 6: 0.9411764705882353,\n",
       " 7: 0.9545454545454546,\n",
       " 8: 0.9393939393939394,\n",
       " 9: 0.9393939393939394,\n",
       " 10: 0.9090909090909091,\n",
       " 11: 0.9545454545454546,\n",
       " 12: 0.8787878787878788,\n",
       " 13: 0.9242424242424242,\n",
       " 14: 0.9090909090909091,\n",
       " 15: 0.9545454545454546,\n",
       " 16: 0.9090909090909091,\n",
       " 17: 0.9393939393939394,\n",
       " 18: 0.9090909090909091,\n",
       " 19: 0.9090909090909091,\n",
       " 20: 0.9393939393939394,\n",
       " 21: 0.9253731343283582,\n",
       " 22: 0.8955223880597015,\n",
       " 23: 0.9696969696969697,\n",
       " 24: 0.9393939393939394,\n",
       " 25: 0.9696969696969697,\n",
       " 26: 0.9090909090909091,\n",
       " 27: 0.9393939393939394,\n",
       " 28: 0.9090909090909091,\n",
       " 29: 0.9253731343283582,\n",
       " 30: 0.9090909090909091,\n",
       " 31: 0.9696969696969697,\n",
       " 32: 0.9393939393939394,\n",
       " 33: 0.9393939393939394,\n",
       " 34: 0.9393939393939394,\n",
       " 35: 0.9090909090909091,\n",
       " 36: 0.8787878787878788,\n",
       " 37: 0.8484848484848485,\n",
       " 38: 0.9696969696969697,\n",
       " 39: 0.9393939393939394}"
      ]
     },
     "execution_count": 11,
     "metadata": {},
     "output_type": "execute_result"
    }
   ],
   "source": [
    "pair"
   ]
  },
  {
   "cell_type": "code",
   "execution_count": 12,
   "metadata": {
    "collapsed": true
   },
   "outputs": [],
   "source": [
    "user=set()\n",
    "for d in dict_list:\n",
    "    user.add(d[\"worker_id\"])\n"
   ]
  },
  {
   "cell_type": "code",
   "execution_count": 13,
   "metadata": {
    "collapsed": true
   },
   "outputs": [],
   "source": [
    "dict_user={}\n",
    "for u in user:\n",
    "    t=0\n",
    "    f=0\n",
    "    for d in dict_list:\n",
    "        if d[\"worker_id\"]==u:\n",
    "            if d[\"hit\"]==True:\n",
    "                t=t+1\n",
    "            else:\n",
    "                f=f+1\n",
    "    dict_user[u]=t/(t+f)\n",
    "        "
   ]
  },
  {
   "cell_type": "markdown",
   "metadata": {},
   "source": [
    "Consistency of each users for all pairs"
   ]
  },
  {
   "cell_type": "code",
   "execution_count": 14,
   "metadata": {},
   "outputs": [
    {
     "data": {
      "text/plain": [
       "{'A133QG754CGS3I': 0.9833333333333333,\n",
       " 'A184EIWAV7P9EH': 1.0,\n",
       " 'A18Z8DWD46ICP8': 1.0,\n",
       " 'A1AYFPD1RFW8P5': 0.9833333333333333,\n",
       " 'A1DBPM1UHEP4MU': 0.9833333333333333,\n",
       " 'A1NITMHYG5YL3H': 1.0,\n",
       " 'A1S6C6EN8MPKC3': 0.9833333333333333,\n",
       " 'A1SYD7ZZXEXKD6': 0.5833333333333334,\n",
       " 'A20NITCOBY4775': 1.0,\n",
       " 'A28WSBB0DSV47X': 0.8666666666666667,\n",
       " 'A2B1YSMEHN1G2K': 0.9333333333333333,\n",
       " 'A2CHDWKAYZ3P3E': 1.0,\n",
       " 'A2M47ONTL35B3A': 0.9833333333333333,\n",
       " 'A2MKXI4KCRRI7Y': 1.0,\n",
       " 'A2QIZ31TMHU0GD': 0.8666666666666667,\n",
       " 'A2TKHXY755FAM': 1.0,\n",
       " 'A2UO3QJZNC2VOE': 0.9,\n",
       " 'A2UUKFTD0VUX2S': 1.0,\n",
       " 'A30J4IZCMCR31F': 1.0,\n",
       " 'A321YWMP74ULKH': 0.13333333333333333,\n",
       " 'A38UWXYHVHZTXE': 1.0,\n",
       " 'A3ADP5EDYSB9HD': 1.0,\n",
       " 'A3ECJAL8MQKP4G': 0.9666666666666667,\n",
       " 'A3EIVR2LS7CCWB': 1.0,\n",
       " 'A3EN00AT0T6QC4': 1.0,\n",
       " 'A3O6JXQB8K11X6': 0.9166666666666666,\n",
       " 'A3SOJWB6AZWZV9': 0.95,\n",
       " 'A3UCAJPHZLEO30': 0.5,\n",
       " 'AEWT71858NL5V': 0.9833333333333333,\n",
       " 'AG430TVZD4313': 0.0,\n",
       " 'AIFNYG43ANHUU': 1.0,\n",
       " 'ANN162CY5IAGN': 1.0,\n",
       " 'AS2WTWYVRW9BV': 1.0,\n",
       " 'AUCH5GZGSSF8E': 1.0,\n",
       " 'AZ57C58RDAMJF': 1.0}"
      ]
     },
     "execution_count": 14,
     "metadata": {},
     "output_type": "execute_result"
    }
   ],
   "source": [
    "dict_user"
   ]
  },
  {
   "cell_type": "code",
   "execution_count": 15,
   "metadata": {
    "collapsed": true
   },
   "outputs": [],
   "source": [
    "gt=[]\n",
    "same=[]\n",
    "dif=[]\n",
    "for i in dict_list:\n",
    "    if i[\"tasktype\"]==\"ground_truth\":\n",
    "        gt.append(i[\"pair_ind\"])\n",
    "    elif i[\"tasktype\"]==\"Same\":\n",
    "        same.append(i[\"pair_ind\"])\n",
    "    elif i[\"tasktype\"]==\"Different\":\n",
    "        dif.append(i[\"pair_ind\"])"
   ]
  },
  {
   "cell_type": "code",
   "execution_count": 16,
   "metadata": {
    "collapsed": true
   },
   "outputs": [],
   "source": [
    "gt=0\n",
    "sa=0\n",
    "dif=0\n",
    "gt_t=0\n",
    "sa_t=0\n",
    "dif_t=0\n",
    "\n",
    "for i in dict_list:\n",
    "    if i[\"tasktype\"]==\"ground_truth\":\n",
    "        gt=gt+1\n",
    "        if i[\"hit\"]==True:\n",
    "            gt_t=gt_t+1\n",
    "    elif i[\"tasktype\"]==\"Same\":\n",
    "        dif=dif+1\n",
    "        if i[\"hit\"]==True:\n",
    "            dif_t=dif_t+1\n",
    "    elif i[\"tasktype\"]==\"Different\":\n",
    "        sa=sa+1\n",
    "        if i[\"hit\"]==True:\n",
    "            sa_t=sa_t+1\n",
    "    "
   ]
  },
  {
   "cell_type": "code",
   "execution_count": 17,
   "metadata": {},
   "outputs": [
    {
     "name": "stdout",
     "output_type": "stream",
     "text": [
      "GT true ratio: 0.9234256926952141\n"
     ]
    }
   ],
   "source": [
    "print( \"GT true ratio:\", gt_t/gt)"
   ]
  },
  {
   "cell_type": "code",
   "execution_count": null,
   "metadata": {
    "collapsed": true
   },
   "outputs": [],
   "source": []
  }
 ],
 "metadata": {
  "kernelspec": {
   "display_name": "Python 2",
   "language": "python",
   "name": "python2"
  },
  "language_info": {
   "codemirror_mode": {
    "name": "ipython",
    "version": 2
   },
   "file_extension": ".py",
   "mimetype": "text/x-python",
   "name": "python",
   "nbconvert_exporter": "python",
   "pygments_lexer": "ipython2",
   "version": "2.7.13"
  }
 },
 "nbformat": 4,
 "nbformat_minor": 2
}
