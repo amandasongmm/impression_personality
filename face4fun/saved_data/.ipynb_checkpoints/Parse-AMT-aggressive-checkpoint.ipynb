{
 "cells": [
  {
   "cell_type": "code",
   "execution_count": 1,
   "metadata": {
    "collapsed": true
   },
   "outputs": [],
   "source": [
    "import csv\n",
    "import json\n",
    "response=[]\n",
    "with open('trialdata-aggress.csv') as f:\n",
    "    rows = csv.reader(f)\n",
    "    for row in rows:\n",
    "        response.append(row[0]+row[3])\n",
    "        \n",
    "        "
   ]
  },
  {
   "cell_type": "code",
   "execution_count": 2,
   "metadata": {
    "collapsed": true
   },
   "outputs": [],
   "source": [
    "l=[]\n",
    "dict_list=[]\n",
    "high=0\n",
    "low=0\n",
    "\n",
    "l.append([\"worker_id\",\"assignmend id\",\"img1\",\"img2\",\"response\",\"task_type\",\"im1\",\"im2\",\"rt\",\"rep\",\"pair_ind\"])\n",
    "\n",
    "\n",
    "for r in response:\n",
    "    row=[]\n",
    "    d = {}\n",
    "    worker_id=r[0:r.find(\":\")]\n",
    "    assign_id=r[r.find(\":\")+1:r.find(\"{\")]\n",
    "    r=r[r.find(\"{\"):]\n",
    "    parsed=json.loads(r)\n",
    "    if(parsed[\"phase\"]==\"TEST\"):\n",
    "        row.append(worker_id)\n",
    "        row.append(assign_id)\n",
    "        row.append(parsed[\"im1\"])\n",
    "        row.append(parsed[\"im2\"])\n",
    "        row.append(parsed[\"hit\"])\n",
    "        row.append(parsed[\"tasktype\"])\n",
    "        row.append(parsed[\"im1relation\"])\n",
    "        row.append(parsed[\"im2relation\"])\n",
    "        row.append(parsed[\"rt\"])\n",
    "        row.append(parsed[\"rep\"])\n",
    "        row.append(parsed[\"pair_ind\"])\n",
    "        \n",
    "        \n",
    "        d[\"assign_id\"]=assign_id\n",
    "        d[\"worker_id\"]=worker_id\n",
    "        d[\"im1\"]=parsed[\"im1\"]\n",
    "        d[\"im2\"]=parsed[\"im2\"]\n",
    "        d[\"hit\"]=parsed[\"hit\"]\n",
    "        d[\"tasktype\"]=parsed[\"tasktype\"]\n",
    "        d[\"im1relation\"]=parsed[\"im1relation\"]\n",
    "        d[\"im2relation\"]=parsed[\"im2relation\"]\n",
    "        d[\"rt\"]=parsed[\"rt\"]\n",
    "        d[\"rep\"]=parsed[\"rep\"]\n",
    "        d[\"pair_ind\"]=parsed[\"pair_ind\"]\n",
    "\n",
    "        \n",
    "        if(parsed[\"hit\"]==True):\n",
    "            high=high+1\n",
    "        else:\n",
    "            low=low+1\n",
    "            \n",
    "    total=high+low\n",
    "        \n",
    "        \n",
    "    l.append(row)\n",
    "    if d:\n",
    "        dict_list.append(d)\n",
    "    "
   ]
  },
  {
   "cell_type": "code",
   "execution_count": 3,
   "metadata": {
    "collapsed": true
   },
   "outputs": [],
   "source": [
    "csvfile=\"n.csv\"\n",
    "with open(csvfile, \"w\") as output:\n",
    "    writer = csv.writer(output, lineterminator='\\n')\n",
    "    writer.writerows(l)"
   ]
  },
  {
   "cell_type": "code",
   "execution_count": 4,
   "metadata": {},
   "outputs": [
    {
     "name": "stdout",
     "output_type": "stream",
     "text": [
      "Likelihood of a high rated image 0.7611228813559322\n"
     ]
    }
   ],
   "source": [
    "print(\"Likelihood of a high rated image\",high/total)"
   ]
  },
  {
   "cell_type": "code",
   "execution_count": 5,
   "metadata": {},
   "outputs": [
    {
     "name": "stdout",
     "output_type": "stream",
     "text": [
      "Likelihood of a low rated image 0.2388771186440678\n"
     ]
    }
   ],
   "source": [
    "print(\"Likelihood of a low rated image\",low/total)"
   ]
  },
  {
   "cell_type": "code",
   "execution_count": 6,
   "metadata": {},
   "outputs": [
    {
     "name": "stdout",
     "output_type": "stream",
     "text": [
      "total responses 3776\n"
     ]
    }
   ],
   "source": [
    "print(\"total responses\", total)"
   ]
  },
  {
   "cell_type": "code",
   "execution_count": 7,
   "metadata": {
    "collapsed": true
   },
   "outputs": [],
   "source": [
    "rep=[]\n",
    "for i in dict_list:\n",
    "    if i[\"rep\"]==1:\n",
    "        rep.append(i) "
   ]
  },
  {
   "cell_type": "code",
   "execution_count": 8,
   "metadata": {
    "collapsed": true
   },
   "outputs": [],
   "source": [
    "user={}\n",
    "\n",
    "for r in rep:\n",
    "    user[r[\"worker_id\"]]=0\n",
    "\n",
    "\n",
    "for r in rep:\n",
    "    for x in rep:\n",
    "        if r[\"im1\"]==x[\"im1\"] and r[\"im2\"]==x[\"im2\"] and r[\"worker_id\"]==x[\"worker_id\"]:\n",
    "            if r[\"hit\"]==x[\"hit\"]:\n",
    "                user[x[\"worker_id\"]]=user[x[\"worker_id\"]]+1\n",
    "                "
   ]
  },
  {
   "cell_type": "code",
   "execution_count": 9,
   "metadata": {},
   "outputs": [
    {
     "name": "stdout",
     "output_type": "stream",
     "text": [
      "Average consistency for 34 users :  18.529411764705884\n"
     ]
    }
   ],
   "source": [
    "print(\"Average consistency for\",len(user), \"users : \", sum(user.values())/len(user))"
   ]
  },
  {
   "cell_type": "code",
   "execution_count": 10,
   "metadata": {
    "collapsed": true
   },
   "outputs": [],
   "source": [
    "pair={}\n",
    "for i in range(0,100):\n",
    "    t=0\n",
    "    f=0\n",
    "    for d in dict_list:\n",
    "        if d[\"pair_ind\"]==i:\n",
    "            if d[\"hit\"]==True:\n",
    "                t=t+1\n",
    "            else:\n",
    "                f=f+1\n",
    "            pair[d[\"pair_ind\"]]=t/(t+f)\n",
    "    "
   ]
  },
  {
   "cell_type": "markdown",
   "metadata": {},
   "source": [
    "Consistency of each pair across users"
   ]
  },
  {
   "cell_type": "code",
   "execution_count": 11,
   "metadata": {},
   "outputs": [
    {
     "data": {
      "text/plain": [
       "{0: 0.9375,\n",
       " 1: 0.8870967741935484,\n",
       " 2: 0.9354838709677419,\n",
       " 3: 0.9032258064516129,\n",
       " 4: 0.8709677419354839,\n",
       " 5: 0.9032258064516129,\n",
       " 6: 0.8064516129032258,\n",
       " 7: 0.9354838709677419,\n",
       " 8: 0.8064516129032258,\n",
       " 9: 0.6774193548387096,\n",
       " 10: 0.875,\n",
       " 11: 0.84375,\n",
       " 12: 0.75,\n",
       " 13: 0.9523809523809523,\n",
       " 14: 0.84375,\n",
       " 15: 0.8709677419354839,\n",
       " 16: 0.8787878787878788,\n",
       " 17: 0.8387096774193549,\n",
       " 18: 0.875,\n",
       " 19: 0.8823529411764706,\n",
       " 20: 0.96875,\n",
       " 21: 0.8412698412698413,\n",
       " 22: 0.8125,\n",
       " 23: 0.7936507936507936,\n",
       " 24: 0.8064516129032258,\n",
       " 25: 0.6129032258064516,\n",
       " 26: 0.8064516129032258,\n",
       " 27: 0.890625,\n",
       " 28: 0.5483870967741935,\n",
       " 29: 0.6451612903225806,\n",
       " 30: 0.875,\n",
       " 31: 0.8387096774193549,\n",
       " 32: 0.9375,\n",
       " 33: 0.8064516129032258,\n",
       " 34: 0.9354838709677419,\n",
       " 35: 0.9032258064516129,\n",
       " 36: 0.8484848484848485,\n",
       " 37: 0.84375,\n",
       " 38: 0.9032258064516129,\n",
       " 39: 0.75,\n",
       " 40: 0.90625,\n",
       " 41: 0.9375,\n",
       " 42: 0.5967741935483871,\n",
       " 43: 0.8333333333333334,\n",
       " 44: 0.8125,\n",
       " 45: 0.4,\n",
       " 46: 0.40625,\n",
       " 47: 0.90625,\n",
       " 48: 0.9193548387096774,\n",
       " 49: 0.9354838709677419,\n",
       " 50: 0.9393939393939394,\n",
       " 51: 0.967741935483871,\n",
       " 52: 0.34375,\n",
       " 53: 0.46774193548387094,\n",
       " 54: 0.873015873015873,\n",
       " 55: 0.2,\n",
       " 56: 0.2698412698412698,\n",
       " 57: 0.4918032786885246,\n",
       " 58: 0.9696969696969697,\n",
       " 59: 0.41935483870967744,\n",
       " 60: 0.859375,\n",
       " 61: 0.65625,\n",
       " 62: 0.16129032258064516,\n",
       " 63: 0.0625,\n",
       " 64: 0.875,\n",
       " 65: 0.7096774193548387,\n",
       " 66: 0.9375,\n",
       " 67: 0.2903225806451613,\n",
       " 68: 0.9032258064516129,\n",
       " 69: 0.6666666666666666,\n",
       " 70: 0.06451612903225806,\n",
       " 71: 0.15625,\n",
       " 72: 0.84375,\n",
       " 73: 0.59375,\n",
       " 74: 0.3870967741935484,\n",
       " 75: 0.8709677419354839,\n",
       " 76: 0.9032258064516129,\n",
       " 77: 0.3548387096774194,\n",
       " 78: 0.4126984126984127,\n",
       " 79: 0.3548387096774194,\n",
       " 80: 0.8709677419354839,\n",
       " 81: 0.6129032258064516,\n",
       " 82: 0.5,\n",
       " 83: 0.967741935483871,\n",
       " 84: 0.625,\n",
       " 85: 0.8709677419354839,\n",
       " 86: 0.9375,\n",
       " 87: 0.71875,\n",
       " 88: 0.90625,\n",
       " 89: 0.9841269841269841,\n",
       " 90: 0.9333333333333333,\n",
       " 91: 0.9090909090909091,\n",
       " 92: 0.90625,\n",
       " 93: 0.967741935483871,\n",
       " 94: 1.0,\n",
       " 95: 0.8709677419354839,\n",
       " 96: 0.967741935483871,\n",
       " 97: 0.967741935483871,\n",
       " 98: 0.9375,\n",
       " 99: 0.9032258064516129}"
      ]
     },
     "execution_count": 11,
     "metadata": {},
     "output_type": "execute_result"
    }
   ],
   "source": [
    "pair"
   ]
  },
  {
   "cell_type": "code",
   "execution_count": 12,
   "metadata": {
    "collapsed": true
   },
   "outputs": [],
   "source": [
    "user=set()\n",
    "for d in dict_list:\n",
    "    user.add(d[\"worker_id\"])\n"
   ]
  },
  {
   "cell_type": "code",
   "execution_count": 13,
   "metadata": {
    "collapsed": true
   },
   "outputs": [],
   "source": [
    "dict_user={}\n",
    "for u in user:\n",
    "    t=0\n",
    "    f=0\n",
    "    for d in dict_list:\n",
    "        if d[\"worker_id\"]==u:\n",
    "            if d[\"hit\"]==True:\n",
    "                t=t+1\n",
    "            else:\n",
    "                f=f+1\n",
    "    dict_user[u]=t/(t+f)\n",
    "        "
   ]
  },
  {
   "cell_type": "markdown",
   "metadata": {},
   "source": [
    "Consistency of each users for all pairs"
   ]
  },
  {
   "cell_type": "code",
   "execution_count": 14,
   "metadata": {},
   "outputs": [
    {
     "data": {
      "text/plain": [
       "{'A14WLAP6TCEKO0': 0.49166666666666664,\n",
       " 'A15PHL4MXNUMJ5': 0.9354838709677419,\n",
       " 'A1EBQ9X6IN5OZC': 0.8416666666666667,\n",
       " 'A1ELSQD3B8GFGP': 0.7583333333333333,\n",
       " 'A1FI50UYJVX3OF': 0.7833333333333333,\n",
       " 'A1HIQZEC2ER7GS': 0.5083333333333333,\n",
       " 'A1O0BGHFTMPQM0': 0.8,\n",
       " 'A1U6A617Q95MTZ': 0.7666666666666667,\n",
       " 'A1UXQFP23OVEVQ': 0.8583333333333333,\n",
       " 'A1ZDR2UN7M92LI': 0.5714285714285714,\n",
       " 'A20NITCOBY4775': 0.7666666666666667,\n",
       " 'A2140Q2RMRJSBT': 0.725,\n",
       " 'A2749DC85C9H0F': 0.7916666666666666,\n",
       " 'A2A14Q1JLWW6R1': 0.8,\n",
       " 'A2AYD8G2NV0RNQ': 0.5666666666666667,\n",
       " 'A2CF2BD4Q0ZDJN': 0.8,\n",
       " 'A2EKR2ZFO10VMV': 0.8166666666666667,\n",
       " 'A2LC2DS8OH7NCA': 0.8,\n",
       " 'A2LMJ9PGUL962L': 0.8,\n",
       " 'A2M47XOMZJNOQF': 0.8416666666666667,\n",
       " 'A2S5JE15ITRV7N': 0.875,\n",
       " 'A2SY2N44N1RWVA': 0.825,\n",
       " 'A30GJ0HHLO16E8': 0.8333333333333334,\n",
       " 'A30J4IZCMCR31F': 0.7416666666666667,\n",
       " 'A37BBKFZU9BINN': 0.875,\n",
       " 'A3EDDSTPCED8I9': 0.8383838383838383,\n",
       " 'A3GEHH49HNJM57': 0.775,\n",
       " 'A3KCZB9IL6CVH': 0.48333333333333334,\n",
       " 'A3L4JI1S352HB8': 0.8333333333333334,\n",
       " 'A3QC57KUVJP5EW': 0.8166666666666667,\n",
       " 'AAKL8L5X64LWD': 0.8166666666666667,\n",
       " 'ACA6KEYX1WRUZ': 0.8416666666666667,\n",
       " 'AFQKLIYNCVZTL': 0.6583333333333333,\n",
       " 'AKTQD9Y44G495': 0.8416666666666667,\n",
       " 'APUPF3D94XYUQ': 0.7}"
      ]
     },
     "execution_count": 14,
     "metadata": {},
     "output_type": "execute_result"
    }
   ],
   "source": [
    "dict_user"
   ]
  },
  {
   "cell_type": "code",
   "execution_count": 15,
   "metadata": {
    "collapsed": true
   },
   "outputs": [],
   "source": [
    "gt=[]\n",
    "same=[]\n",
    "dif=[]\n",
    "for i in dict_list:\n",
    "    if i[\"tasktype\"]==\"ground_truth\":\n",
    "        gt.append(i[\"pair_ind\"])\n",
    "    elif i[\"tasktype\"]==\"Same\":\n",
    "        same.append(i[\"pair_ind\"])\n",
    "    elif i[\"tasktype\"]==\"Different\":\n",
    "        dif.append(i[\"pair_ind\"])"
   ]
  },
  {
   "cell_type": "code",
   "execution_count": 16,
   "metadata": {
    "collapsed": true
   },
   "outputs": [],
   "source": [
    "gt=0\n",
    "sa=0\n",
    "dif=0\n",
    "gt_t=0\n",
    "sa_t=0\n",
    "dif_t=0\n",
    "\n",
    "for i in dict_list:\n",
    "    if i[\"tasktype\"]==\"ground_truth\":\n",
    "        gt=gt+1\n",
    "        if i[\"hit\"]==True:\n",
    "            gt_t=gt_t+1\n",
    "    elif i[\"tasktype\"]==\"Same\":\n",
    "        dif=dif+1\n",
    "        if i[\"hit\"]==True:\n",
    "            dif_t=dif_t+1\n",
    "    elif i[\"tasktype\"]==\"Different\":\n",
    "        sa=sa+1\n",
    "        if i[\"hit\"]==True:\n",
    "            sa_t=sa_t+1\n",
    "    "
   ]
  },
  {
   "cell_type": "code",
   "execution_count": 19,
   "metadata": {},
   "outputs": [
    {
     "name": "stdout",
     "output_type": "stream",
     "text": [
      "\n",
      "Same true ratio: 0.6586726157278304 \n",
      "GT true ratio: 0.9363057324840764 \n",
      "Diff true ratio: 0.8382264829239066\n"
     ]
    }
   ],
   "source": [
    "print(\"\\nSame true ratio:\", sa_t/sa, \"\\nGT true ratio:\", gt_t/gt,\"\\nDiff true ratio:\", dif_t/dif)"
   ]
  },
  {
   "cell_type": "code",
   "execution_count": null,
   "metadata": {
    "collapsed": true
   },
   "outputs": [],
   "source": []
  }
 ],
 "metadata": {
  "kernelspec": {
   "display_name": "Python 2",
   "language": "python",
   "name": "python2"
  },
  "language_info": {
   "codemirror_mode": {
    "name": "ipython",
    "version": 2
   },
   "file_extension": ".py",
   "mimetype": "text/x-python",
   "name": "python",
   "nbconvert_exporter": "python",
   "pygments_lexer": "ipython2",
   "version": "2.7.13"
  }
 },
 "nbformat": 4,
 "nbformat_minor": 2
}
