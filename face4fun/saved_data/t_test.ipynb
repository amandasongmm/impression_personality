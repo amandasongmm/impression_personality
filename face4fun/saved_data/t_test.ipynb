{
 "cells": [
  {
   "cell_type": "code",
   "execution_count": 1,
   "metadata": {
    "collapsed": true
   },
   "outputs": [],
   "source": [
    "import csv\n",
    "import json\n",
    "\n",
    "response=[]\n",
    "modify_path = './SAGAN_trustworthy/trialdata.csv'\n",
    "\n",
    "with open(modify_path) as f:\n",
    "    rows = csv.reader(f)\n",
    "    for row in rows:\n",
    "        response.append(row[0]+row[3])"
   ]
  },
  {
   "cell_type": "code",
   "execution_count": 3,
   "metadata": {},
   "outputs": [],
   "source": [
    "l=[]\n",
    "dict_list=[]\n",
    "high=0\n",
    "low=0\n",
    "\n",
    "l.append([\"worker_id\",\"assignmend id\",\"img1\",\"img2\",\"response\",\"task_type\",\"im1\",\"im2\",\"rt\",\"rep\",\"pair_ind\"])\n",
    "\n",
    "\n",
    "for r in response:\n",
    "    row=[]\n",
    "    d = {}\n",
    "    worker_id=r[0:r.find(\":\")]\n",
    "    assign_id=r[r.find(\":\")+1:r.find(\"{\")]\n",
    "    r=r[r.find(\"{\"):]\n",
    "    parsed=json.loads(r)\n",
    "    if(parsed[\"phase\"]==\"TEST\"):\n",
    "        row.append(worker_id)\n",
    "        row.append(assign_id)\n",
    "        row.append(parsed[\"im1\"])\n",
    "        row.append(parsed[\"im2\"])\n",
    "        row.append(parsed[\"hit\"])\n",
    "        row.append(parsed[\"tasktype\"])\n",
    "        row.append(parsed[\"im1relation\"])\n",
    "        row.append(parsed[\"im2relation\"])\n",
    "        row.append(parsed[\"rt\"])\n",
    "        row.append(parsed[\"rep\"])\n",
    "        row.append(parsed[\"pair_ind\"])\n",
    "        \n",
    "        \n",
    "        d[\"assign_id\"]=assign_id\n",
    "        d[\"worker_id\"]=worker_id\n",
    "        d[\"im1\"]=parsed[\"im1\"]\n",
    "        d[\"im2\"]=parsed[\"im2\"]\n",
    "        d[\"hit\"]=parsed[\"hit\"]\n",
    "        d[\"tasktype\"]=parsed[\"tasktype\"]\n",
    "        d[\"im1relation\"]=parsed[\"im1relation\"]\n",
    "        d[\"im2relation\"]=parsed[\"im2relation\"]\n",
    "        d[\"rt\"]=parsed[\"rt\"]\n",
    "        d[\"rep\"]=parsed[\"rep\"]\n",
    "        d[\"pair_ind\"]=parsed[\"pair_ind\"]\n",
    "\n",
    "        \n",
    "        if(parsed[\"hit\"]==True):\n",
    "            high=high+1\n",
    "        else:\n",
    "            low=low+1\n",
    "            \n",
    "    total=high+low\n",
    "        \n",
    "        \n",
    "    l.append(row)\n",
    "    if d:\n",
    "        dict_list.append(d)\n",
    "    "
   ]
  },
  {
   "cell_type": "code",
   "execution_count": 5,
   "metadata": {},
   "outputs": [],
   "source": [
    "rep=[]\n",
    "for i in dict_list:\n",
    "    if i[\"rep\"]==1:\n",
    "        rep.append(i) \n",
    "\n",
    "user={}\n",
    "\n",
    "for r in rep:\n",
    "    user[r[\"worker_id\"]]=0\n",
    "\n",
    "\n",
    "for r in rep:\n",
    "    for x in rep:\n",
    "        if r[\"im1\"]==x[\"im1\"] and r[\"im2\"]==x[\"im2\"] and r[\"worker_id\"]==x[\"worker_id\"]:\n",
    "            if r[\"hit\"]==x[\"hit\"]:\n",
    "                user[x[\"worker_id\"]]=user[x[\"worker_id\"]]+1\n"
   ]
  },
  {
   "cell_type": "code",
   "execution_count": 6,
   "metadata": {},
   "outputs": [
    {
     "name": "stdout",
     "output_type": "stream",
     "text": [
      "('Average consistency for', 37, 'users : ', 18)\n"
     ]
    }
   ],
   "source": [
    "print(\"Average consistency for\",len(user), \"users : \", sum(user.values())/len(user))"
   ]
  },
  {
   "cell_type": "code",
   "execution_count": 7,
   "metadata": {
    "collapsed": true
   },
   "outputs": [],
   "source": [
    "# Consistency of each pair across users\n",
    "import pandas as pd\n",
    "\n"
   ]
  },
  {
   "cell_type": "code",
   "execution_count": null,
   "metadata": {
    "collapsed": true
   },
   "outputs": [],
   "source": [
    "pair= pd.DataFrame(columns=['ratio', 'task type'])\n",
    "\n",
    "for i in range(0,100):\n",
    "    t=0\n",
    "    f=0\n",
    "    for d in dict_list:\n",
    "        task_type = d[\"tasktype\"]\n",
    "        if d[\"pair_ind\"]==i:\n",
    "            if d[\"hit\"]==True:\n",
    "                t=t+1\n",
    "            else:\n",
    "                f=f+1\n",
    "            ratio = t/(t+f)\n",
    "        pair[d[\"pair_ind\"]]=t/(t+f)"
   ]
  },
  {
   "cell_type": "code",
   "execution_count": 9,
   "metadata": {},
   "outputs": [
    {
     "data": {
      "text/plain": [
       "{'assign_id': '3ND9UOO81M9ALHNC6FQF2BSVS10LWX',\n",
       " 'hit': True,\n",
       " 'im1': u'https://raw.githubusercontent.com/amandasongmm/impression_personality/master/static/amt_trustworthy/183037.jpg',\n",
       " 'im1relation': u'0',\n",
       " 'im2': u'https://raw.githubusercontent.com/amandasongmm/impression_personality/master/static/amt_trustworthy/105842.jpg',\n",
       " 'im2relation': u'1',\n",
       " 'pair_ind': 98,\n",
       " 'rep': 0,\n",
       " 'rt': 2923,\n",
       " 'tasktype': u'ground_truth',\n",
       " 'worker_id': 'A3LECJA9RVQQKZ'}"
      ]
     },
     "execution_count": 9,
     "metadata": {},
     "output_type": "execute_result"
    }
   ],
   "source": [
    "dict_list[0]"
   ]
  },
  {
   "cell_type": "code",
   "execution_count": null,
   "metadata": {
    "collapsed": true
   },
   "outputs": [],
   "source": []
  }
 ],
 "metadata": {
  "kernelspec": {
   "display_name": "Python 2",
   "language": "python",
   "name": "python2"
  },
  "language_info": {
   "codemirror_mode": {
    "name": "ipython",
    "version": 2
   },
   "file_extension": ".py",
   "mimetype": "text/x-python",
   "name": "python",
   "nbconvert_exporter": "python",
   "pygments_lexer": "ipython2",
   "version": "2.7.13"
  }
 },
 "nbformat": 4,
 "nbformat_minor": 2
}
