{
 "cells": [
  {
   "cell_type": "code",
   "execution_count": 12,
   "metadata": {},
   "outputs": [],
   "source": [
    "import pandas as pd\n",
    "import numpy as np\n",
    "from sklearn.decomposition import PCA"
   ]
  },
  {
   "cell_type": "code",
   "execution_count": 43,
   "metadata": {},
   "outputs": [],
   "source": [
    "e_data_df = pd.read_pickle('tmp_data/e_df.pkl')"
   ]
  },
  {
   "cell_type": "code",
   "execution_count": 47,
   "metadata": {},
   "outputs": [
    {
     "data": {
      "text/html": [
       "<div>\n",
       "<style scoped>\n",
       "    .dataframe tbody tr th:only-of-type {\n",
       "        vertical-align: middle;\n",
       "    }\n",
       "\n",
       "    .dataframe tbody tr th {\n",
       "        vertical-align: top;\n",
       "    }\n",
       "\n",
       "    .dataframe thead th {\n",
       "        text-align: right;\n",
       "    }\n",
       "</style>\n",
       "<table border=\"1\" class=\"dataframe\">\n",
       "  <thead>\n",
       "    <tr style=\"text-align: right;\">\n",
       "      <th></th>\n",
       "      <th>uuid</th>\n",
       "      <th>short_id</th>\n",
       "      <th>directory</th>\n",
       "      <th>tw_img_path</th>\n",
       "      <th>cb_img_path</th>\n",
       "      <th>E - Employees (Log)</th>\n",
       "      <th>E - VC Raised (log)</th>\n",
       "      <th>E - VC Rds</th>\n",
       "      <th>E - Total Raised (log)</th>\n",
       "      <th>E - Total Rds</th>\n",
       "      <th>E - IPO</th>\n",
       "    </tr>\n",
       "  </thead>\n",
       "  <tbody>\n",
       "    <tr>\n",
       "      <th>13163</th>\n",
       "      <td>d4d908d3-5738-c583-9ecc-78fa4a7d977e</td>\n",
       "      <td>e1</td>\n",
       "      <td>e0</td>\n",
       "      <td>e0/e1_tw.jpeg</td>\n",
       "      <td>e0/e1_cb.jpeg</td>\n",
       "      <td>NaN</td>\n",
       "      <td>0.0</td>\n",
       "      <td>0.0</td>\n",
       "      <td>0.000000</td>\n",
       "      <td>0.0</td>\n",
       "      <td>0.0</td>\n",
       "    </tr>\n",
       "    <tr>\n",
       "      <th>13164</th>\n",
       "      <td>fa1afbe2-9995-20ee-0c41-3886ee3fdfc4</td>\n",
       "      <td>e2</td>\n",
       "      <td>e0</td>\n",
       "      <td>e0/e2_tw.jpeg</td>\n",
       "      <td>e0/e2_cb.jpeg</td>\n",
       "      <td>0.477121</td>\n",
       "      <td>0.0</td>\n",
       "      <td>0.0</td>\n",
       "      <td>6.235641</td>\n",
       "      <td>3.0</td>\n",
       "      <td>0.0</td>\n",
       "    </tr>\n",
       "    <tr>\n",
       "      <th>13165</th>\n",
       "      <td>ce695f82-fa7b-b0f9-2e6a-f6a66dc4dbc2</td>\n",
       "      <td>e3</td>\n",
       "      <td>e0</td>\n",
       "      <td>e0/e3_tw.jpeg</td>\n",
       "      <td>e0/e3_cb.jpeg</td>\n",
       "      <td>2.549003</td>\n",
       "      <td>0.0</td>\n",
       "      <td>0.0</td>\n",
       "      <td>0.000000</td>\n",
       "      <td>0.0</td>\n",
       "      <td>0.0</td>\n",
       "    </tr>\n",
       "    <tr>\n",
       "      <th>13166</th>\n",
       "      <td>437e2d92-da93-6dab-4324-39721fcc59e7</td>\n",
       "      <td>e4</td>\n",
       "      <td>e0</td>\n",
       "      <td>e0/e4_tw.jpeg</td>\n",
       "      <td>e0/e4_cb.jpeg</td>\n",
       "      <td>0.477121</td>\n",
       "      <td>0.0</td>\n",
       "      <td>0.0</td>\n",
       "      <td>0.000000</td>\n",
       "      <td>0.0</td>\n",
       "      <td>0.0</td>\n",
       "    </tr>\n",
       "    <tr>\n",
       "      <th>13167</th>\n",
       "      <td>57854bf4-5cc2-6689-d2ff-41f8961c26ec</td>\n",
       "      <td>e5</td>\n",
       "      <td>e0</td>\n",
       "      <td>e0/e5_tw.jpeg</td>\n",
       "      <td>e0/e5_cb.jpeg</td>\n",
       "      <td>NaN</td>\n",
       "      <td>0.0</td>\n",
       "      <td>0.0</td>\n",
       "      <td>0.000000</td>\n",
       "      <td>0.0</td>\n",
       "      <td>0.0</td>\n",
       "    </tr>\n",
       "  </tbody>\n",
       "</table>\n",
       "</div>"
      ],
      "text/plain": [
       "                                       uuid short_id directory    tw_img_path  \\\n",
       "13163  d4d908d3-5738-c583-9ecc-78fa4a7d977e       e1        e0  e0/e1_tw.jpeg   \n",
       "13164  fa1afbe2-9995-20ee-0c41-3886ee3fdfc4       e2        e0  e0/e2_tw.jpeg   \n",
       "13165  ce695f82-fa7b-b0f9-2e6a-f6a66dc4dbc2       e3        e0  e0/e3_tw.jpeg   \n",
       "13166  437e2d92-da93-6dab-4324-39721fcc59e7       e4        e0  e0/e4_tw.jpeg   \n",
       "13167  57854bf4-5cc2-6689-d2ff-41f8961c26ec       e5        e0  e0/e5_tw.jpeg   \n",
       "\n",
       "         cb_img_path  E - Employees (Log)  E - VC Raised (log)  E - VC Rds  \\\n",
       "13163  e0/e1_cb.jpeg                  NaN                  0.0         0.0   \n",
       "13164  e0/e2_cb.jpeg             0.477121                  0.0         0.0   \n",
       "13165  e0/e3_cb.jpeg             2.549003                  0.0         0.0   \n",
       "13166  e0/e4_cb.jpeg             0.477121                  0.0         0.0   \n",
       "13167  e0/e5_cb.jpeg                  NaN                  0.0         0.0   \n",
       "\n",
       "       E - Total Raised (log)  E - Total Rds  E - IPO  \n",
       "13163                0.000000            0.0      0.0  \n",
       "13164                6.235641            3.0      0.0  \n",
       "13165                0.000000            0.0      0.0  \n",
       "13166                0.000000            0.0      0.0  \n",
       "13167                0.000000            0.0      0.0  "
      ]
     },
     "execution_count": 47,
     "metadata": {},
     "output_type": "execute_result"
    }
   ],
   "source": [
    "e_data_df.head()"
   ]
  },
  {
   "cell_type": "code",
   "execution_count": 57,
   "metadata": {},
   "outputs": [],
   "source": [
    "df['e_id'] = pd.Series([s[:-7] for s in df['img_lst'].values], index=df.index)\n"
   ]
  },
  {
   "cell_type": "code",
   "execution_count": 58,
   "metadata": {},
   "outputs": [
    {
     "data": {
      "text/html": [
       "<div>\n",
       "<style scoped>\n",
       "    .dataframe tbody tr th:only-of-type {\n",
       "        vertical-align: middle;\n",
       "    }\n",
       "\n",
       "    .dataframe tbody tr th {\n",
       "        vertical-align: top;\n",
       "    }\n",
       "\n",
       "    .dataframe thead th {\n",
       "        text-align: right;\n",
       "    }\n",
       "</style>\n",
       "<table border=\"1\" class=\"dataframe\">\n",
       "  <thead>\n",
       "    <tr style=\"text-align: right;\">\n",
       "      <th></th>\n",
       "      <th>img_lst</th>\n",
       "      <th>trustworthy</th>\n",
       "      <th>intelligent</th>\n",
       "      <th>attractive</th>\n",
       "      <th>aggressive</th>\n",
       "      <th>responsible</th>\n",
       "      <th>sociable</th>\n",
       "      <th>e_id</th>\n",
       "    </tr>\n",
       "  </thead>\n",
       "  <tbody>\n",
       "    <tr>\n",
       "      <th>0</th>\n",
       "      <td>e4447_cb.jpg</td>\n",
       "      <td>5.448390</td>\n",
       "      <td>5.040924</td>\n",
       "      <td>4.938795</td>\n",
       "      <td>2.354114</td>\n",
       "      <td>5.391973</td>\n",
       "      <td>6.652265</td>\n",
       "      <td>e4447</td>\n",
       "    </tr>\n",
       "    <tr>\n",
       "      <th>1</th>\n",
       "      <td>e11543_cb.jpg</td>\n",
       "      <td>5.717575</td>\n",
       "      <td>5.103132</td>\n",
       "      <td>3.898923</td>\n",
       "      <td>3.402180</td>\n",
       "      <td>5.656913</td>\n",
       "      <td>5.672017</td>\n",
       "      <td>e11543</td>\n",
       "    </tr>\n",
       "    <tr>\n",
       "      <th>2</th>\n",
       "      <td>e11547_cb.jpg</td>\n",
       "      <td>4.904439</td>\n",
       "      <td>5.252395</td>\n",
       "      <td>4.142537</td>\n",
       "      <td>4.143762</td>\n",
       "      <td>5.053437</td>\n",
       "      <td>5.144416</td>\n",
       "      <td>e11547</td>\n",
       "    </tr>\n",
       "    <tr>\n",
       "      <th>3</th>\n",
       "      <td>e11545_cb.jpg</td>\n",
       "      <td>5.537255</td>\n",
       "      <td>5.127421</td>\n",
       "      <td>4.747706</td>\n",
       "      <td>3.171088</td>\n",
       "      <td>5.531161</td>\n",
       "      <td>6.173637</td>\n",
       "      <td>e11545</td>\n",
       "    </tr>\n",
       "    <tr>\n",
       "      <th>4</th>\n",
       "      <td>e11548_cb.jpg</td>\n",
       "      <td>4.838200</td>\n",
       "      <td>5.022482</td>\n",
       "      <td>4.530700</td>\n",
       "      <td>4.067746</td>\n",
       "      <td>4.922415</td>\n",
       "      <td>5.363950</td>\n",
       "      <td>e11548</td>\n",
       "    </tr>\n",
       "  </tbody>\n",
       "</table>\n",
       "</div>"
      ],
      "text/plain": [
       "         img_lst  trustworthy  intelligent  attractive  aggressive  \\\n",
       "0   e4447_cb.jpg     5.448390     5.040924    4.938795    2.354114   \n",
       "1  e11543_cb.jpg     5.717575     5.103132    3.898923    3.402180   \n",
       "2  e11547_cb.jpg     4.904439     5.252395    4.142537    4.143762   \n",
       "3  e11545_cb.jpg     5.537255     5.127421    4.747706    3.171088   \n",
       "4  e11548_cb.jpg     4.838200     5.022482    4.530700    4.067746   \n",
       "\n",
       "   responsible  sociable    e_id  \n",
       "0     5.391973  6.652265   e4447  \n",
       "1     5.656913  5.672017  e11543  \n",
       "2     5.053437  5.144416  e11547  \n",
       "3     5.531161  6.173637  e11545  \n",
       "4     4.922415  5.363950  e11548  "
      ]
     },
     "execution_count": 58,
     "metadata": {},
     "output_type": "execute_result"
    }
   ],
   "source": [
    "df.head()"
   ]
  },
  {
   "cell_type": "code",
   "execution_count": 59,
   "metadata": {},
   "outputs": [],
   "source": [
    "short_e_data_df = e_data_df[e_data_df['short_id'].isin(df['e_id'])]\n",
    "short_e_data_df = short_e_data_df.set_index('short_id')\n",
    "short_e_data_df = short_e_data_df.loc[df['e_id']]\n",
    "short_e_data_df['binary'] = (short_e_data_df['E - VC Raised (log)']!=0).astype(int)\n",
    "sum(short_e_data_df['binary']==0)\n",
    "sum(short_e_data_df['binary']==1)"
   ]
  },
  {
   "cell_type": "code",
   "execution_count": 73,
   "metadata": {},
   "outputs": [
    {
     "data": {
      "text/html": [
       "<div>\n",
       "<style scoped>\n",
       "    .dataframe tbody tr th:only-of-type {\n",
       "        vertical-align: middle;\n",
       "    }\n",
       "\n",
       "    .dataframe tbody tr th {\n",
       "        vertical-align: top;\n",
       "    }\n",
       "\n",
       "    .dataframe thead th {\n",
       "        text-align: right;\n",
       "    }\n",
       "</style>\n",
       "<table border=\"1\" class=\"dataframe\">\n",
       "  <thead>\n",
       "    <tr style=\"text-align: right;\">\n",
       "      <th></th>\n",
       "      <th>img_lst</th>\n",
       "      <th>trustworthy</th>\n",
       "      <th>intelligent</th>\n",
       "      <th>attractive</th>\n",
       "      <th>aggressive</th>\n",
       "      <th>responsible</th>\n",
       "      <th>sociable</th>\n",
       "      <th>e_id</th>\n",
       "      <th>binary</th>\n",
       "    </tr>\n",
       "  </thead>\n",
       "  <tbody>\n",
       "    <tr>\n",
       "      <th>0</th>\n",
       "      <td>e4447_cb.jpg</td>\n",
       "      <td>5.448390</td>\n",
       "      <td>5.040924</td>\n",
       "      <td>4.938795</td>\n",
       "      <td>2.354114</td>\n",
       "      <td>5.391973</td>\n",
       "      <td>6.652265</td>\n",
       "      <td>e4447</td>\n",
       "      <td>0</td>\n",
       "    </tr>\n",
       "    <tr>\n",
       "      <th>1</th>\n",
       "      <td>e11543_cb.jpg</td>\n",
       "      <td>5.717575</td>\n",
       "      <td>5.103132</td>\n",
       "      <td>3.898923</td>\n",
       "      <td>3.402180</td>\n",
       "      <td>5.656913</td>\n",
       "      <td>5.672017</td>\n",
       "      <td>e11543</td>\n",
       "      <td>0</td>\n",
       "    </tr>\n",
       "    <tr>\n",
       "      <th>2</th>\n",
       "      <td>e11547_cb.jpg</td>\n",
       "      <td>4.904439</td>\n",
       "      <td>5.252395</td>\n",
       "      <td>4.142537</td>\n",
       "      <td>4.143762</td>\n",
       "      <td>5.053437</td>\n",
       "      <td>5.144416</td>\n",
       "      <td>e11547</td>\n",
       "      <td>0</td>\n",
       "    </tr>\n",
       "    <tr>\n",
       "      <th>3</th>\n",
       "      <td>e11545_cb.jpg</td>\n",
       "      <td>5.537255</td>\n",
       "      <td>5.127421</td>\n",
       "      <td>4.747706</td>\n",
       "      <td>3.171088</td>\n",
       "      <td>5.531161</td>\n",
       "      <td>6.173637</td>\n",
       "      <td>e11545</td>\n",
       "      <td>0</td>\n",
       "    </tr>\n",
       "    <tr>\n",
       "      <th>4</th>\n",
       "      <td>e11548_cb.jpg</td>\n",
       "      <td>4.838200</td>\n",
       "      <td>5.022482</td>\n",
       "      <td>4.530700</td>\n",
       "      <td>4.067746</td>\n",
       "      <td>4.922415</td>\n",
       "      <td>5.363950</td>\n",
       "      <td>e11548</td>\n",
       "      <td>0</td>\n",
       "    </tr>\n",
       "  </tbody>\n",
       "</table>\n",
       "</div>"
      ],
      "text/plain": [
       "         img_lst  trustworthy  intelligent  attractive  aggressive  \\\n",
       "0   e4447_cb.jpg     5.448390     5.040924    4.938795    2.354114   \n",
       "1  e11543_cb.jpg     5.717575     5.103132    3.898923    3.402180   \n",
       "2  e11547_cb.jpg     4.904439     5.252395    4.142537    4.143762   \n",
       "3  e11545_cb.jpg     5.537255     5.127421    4.747706    3.171088   \n",
       "4  e11548_cb.jpg     4.838200     5.022482    4.530700    4.067746   \n",
       "\n",
       "   responsible  sociable    e_id  binary  \n",
       "0     5.391973  6.652265   e4447       0  \n",
       "1     5.656913  5.672017  e11543       0  \n",
       "2     5.053437  5.144416  e11547       0  \n",
       "3     5.531161  6.173637  e11545       0  \n",
       "4     4.922415  5.363950  e11548       0  "
      ]
     },
     "execution_count": 73,
     "metadata": {},
     "output_type": "execute_result"
    }
   ],
   "source": [
    "df.head()"
   ]
  },
  {
   "cell_type": "code",
   "execution_count": 72,
   "metadata": {},
   "outputs": [],
   "source": [
    "df['binary'] = short_e_data_df['binary'].values"
   ]
  },
  {
   "cell_type": "code",
   "execution_count": 74,
   "metadata": {},
   "outputs": [],
   "source": [
    "from scipy.stats import ttest_ind\n"
   ]
  },
  {
   "cell_type": "code",
   "execution_count": 75,
   "metadata": {},
   "outputs": [],
   "source": [
    "success = df['binary'] == 1\n",
    "fail = df['binary'] == 0\n",
    "cat_success = df[success]\n",
    "cat_fail = df[fail]\n"
   ]
  },
  {
   "cell_type": "code",
   "execution_count": 76,
   "metadata": {},
   "outputs": [],
   "source": [
    "rating_names = ['trustworthy', 'intelligent', 'attractive', 'aggressive', 'responsible', 'sociable']"
   ]
  },
  {
   "cell_type": "code",
   "execution_count": 81,
   "metadata": {},
   "outputs": [],
   "source": [
    "cur_feat = 'trustworthy'\n",
    "def print_fun(cur_feat):\n",
    "    print cur_feat\n",
    "    print ttest_ind(cat_success[cur_feat], cat_fail[cur_feat])\n",
    "    print df[cur_feat][success].mean(), df[cur_feat][fail].mean()\n",
    "    print df[cur_feat][success].std(), df[cur_feat][fail].std()"
   ]
  },
  {
   "cell_type": "code",
   "execution_count": 82,
   "metadata": {},
   "outputs": [
    {
     "name": "stdout",
     "output_type": "stream",
     "text": [
      "trustworthy\n",
      "Ttest_indResult(statistic=3.096796155500767, pvalue=0.001962960695459129)\n",
      "5.3900833 5.3401427\n",
      "0.5397521 0.5700506\n"
     ]
    }
   ],
   "source": [
    "cur_feat = 'trustworthy'\n",
    "print_fun(cur_feat)"
   ]
  },
  {
   "cell_type": "code",
   "execution_count": 83,
   "metadata": {},
   "outputs": [
    {
     "name": "stdout",
     "output_type": "stream",
     "text": [
      "intelligent\n",
      "Ttest_indResult(statistic=4.566031283255054, pvalue=5.044176236951285e-06)\n",
      "5.388978 5.325652\n",
      "0.44321886 0.494685\n"
     ]
    }
   ],
   "source": [
    "cur_feat = 'intelligent'\n",
    "print_fun(cur_feat)"
   ]
  },
  {
   "cell_type": "code",
   "execution_count": 84,
   "metadata": {},
   "outputs": [
    {
     "name": "stdout",
     "output_type": "stream",
     "text": [
      "attractive\n",
      "Ttest_indResult(statistic=-7.531075029360769, pvalue=5.577092859844467e-14)\n",
      "4.8910804 5.0534196\n",
      "0.69577885 0.7674411\n"
     ]
    }
   ],
   "source": [
    "cur_feat = 'attractive'\n",
    "print_fun(cur_feat)"
   ]
  },
  {
   "cell_type": "code",
   "execution_count": 85,
   "metadata": {},
   "outputs": [
    {
     "name": "stdout",
     "output_type": "stream",
     "text": [
      "aggressive\n",
      "Ttest_indResult(statistic=-0.30251572783867303, pvalue=0.7622667500316294)\n",
      "3.2055748 3.2119465\n",
      "0.69916904 0.745783\n"
     ]
    }
   ],
   "source": [
    "cur_feat = 'aggressive'\n",
    "print_fun(cur_feat)"
   ]
  },
  {
   "cell_type": "code",
   "execution_count": 86,
   "metadata": {},
   "outputs": [
    {
     "name": "stdout",
     "output_type": "stream",
     "text": [
      "responsible\n",
      "Ttest_indResult(statistic=5.4274385180658244, pvalue=5.882962357113979e-08)\n",
      "5.5304804 5.4504204\n",
      "0.48927763 0.5223859\n"
     ]
    }
   ],
   "source": [
    "cur_feat = 'responsible'\n",
    "print_fun(cur_feat)"
   ]
  },
  {
   "cell_type": "code",
   "execution_count": 87,
   "metadata": {},
   "outputs": [
    {
     "name": "stdout",
     "output_type": "stream",
     "text": [
      "sociable\n",
      "Ttest_indResult(statistic=-1.832056860949001, pvalue=0.06697981971035154)\n",
      "5.980653 6.021364\n",
      "0.74682164 0.7848376\n"
     ]
    }
   ],
   "source": [
    "cur_feat = 'sociable'\n",
    "print_fun(cur_feat)"
   ]
  },
  {
   "cell_type": "code",
   "execution_count": null,
   "metadata": {},
   "outputs": [],
   "source": []
  }
 ],
 "metadata": {
  "kernelspec": {
   "display_name": "Python 2",
   "language": "python",
   "name": "python2"
  },
  "language_info": {
   "codemirror_mode": {
    "name": "ipython",
    "version": 2
   },
   "file_extension": ".py",
   "mimetype": "text/x-python",
   "name": "python",
   "nbconvert_exporter": "python",
   "pygments_lexer": "ipython2",
   "version": "2.7.12"
  }
 },
 "nbformat": 4,
 "nbformat_minor": 2
}
