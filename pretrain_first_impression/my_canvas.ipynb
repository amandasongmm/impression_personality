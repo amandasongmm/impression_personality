{
 "cells": [
  {
   "cell_type": "code",
   "execution_count": 28,
   "metadata": {},
   "outputs": [],
   "source": [
    "df = pd.read_pickle('../pretrain_first_impression/tmp_data/vc_df.pkl')"
   ]
  },
  {
   "cell_type": "code",
   "execution_count": 30,
   "metadata": {},
   "outputs": [],
   "source": [
    "import glob\n"
   ]
  },
  {
   "cell_type": "code",
   "execution_count": 40,
   "metadata": {},
   "outputs": [],
   "source": [
    "def fetch_file(path_to_folder, flag, key_word):\n",
    "    '''\n",
    "    fetchFiles() requires three arguments: pathToFolder, flag and keyWord\n",
    "\n",
    "    flag must be 'start_with' or 'end_with'\n",
    "    keyWord is a string to search the file's name\n",
    "\n",
    "    Be careful, the keyWord is case sensitive and must be exact\n",
    "\n",
    "    Example: fetchFiles('/Documents/Photos/','ENDS_WITH','.jpg')\n",
    "\n",
    "    returns: _pathToFiles and _fileNames\n",
    "    '''\n",
    "\n",
    "    _path_to_files = []\n",
    "    _file_names = []\n",
    "\n",
    "    for dir_path, dir_names, file_names in os.walk(path_to_folder):\n",
    "        if flag == 'end_with':\n",
    "            selected_path = [os.path.join(dir_path, item) for item in file_names if item.endswith(key_word)]\n",
    "            _path_to_files.extend(selected_path)\n",
    "\n",
    "            selected_file = [item for item in file_names if item.endswith(key_word)]\n",
    "            _file_names.extend(selected_file)\n",
    "\n",
    "        elif flag == 'start_with':\n",
    "            selected_path = [os.path.join(dir_path, item) for item in file_names if item.startswith(key_word)]\n",
    "            _path_to_files.extend(selected_path)\n",
    "\n",
    "            selected_file = [item for item in file_names if item.startswith(key_word)]\n",
    "            _file_names.extend(selected_file)\n",
    "\n",
    "        else:\n",
    "            print fetch_file.__doc__\n",
    "            break\n",
    "\n",
    "        # try to remove empty entries if none of the required files are in the directory\n",
    "        try:\n",
    "            _path_to_files.remove('')\n",
    "            _file_names.remove('')\n",
    "        except ValueError:\n",
    "            pass\n",
    "\n",
    "        # warn if nothing was found in the given path\n",
    "        if selected_file == []:\n",
    "            print('No files with given parameters were found in {}\\n'.format(dir_path))\n",
    "            \n",
    "    print('{} files are found in searched folders.'.format(len(_file_names)))\n",
    "\n",
    "    return _path_to_files, _file_names"
   ]
  },
  {
   "cell_type": "code",
   "execution_count": 41,
   "metadata": {},
   "outputs": [
    {
     "name": "stdout",
     "output_type": "stream",
     "text": [
      "No files with given parameters were found in /home/amanda/Documents/VC and Entrepreneur Faces Project/Extracted Faces/vc/\n",
      "\n",
      "26450 files are found in searched folders.\n"
     ]
    }
   ],
   "source": [
    "path_to_files, file_names = fetch_file('/home/amanda/Documents/VC and Entrepreneur Faces Project/Extracted Faces/vc/', 'end_with', 'jpeg')"
   ]
  },
  {
   "cell_type": "code",
   "execution_count": 52,
   "metadata": {},
   "outputs": [
    {
     "data": {
      "text/plain": [
       "'vc12445_tw.jpeg'"
      ]
     },
     "execution_count": 52,
     "metadata": {},
     "output_type": "execute_result"
    }
   ],
   "source": [
    "file_names[0][2:]"
   ]
  },
  {
   "cell_type": "code",
   "execution_count": 47,
   "metadata": {},
   "outputs": [],
   "source": [
    "im_path = '/home/amanda/Documents/VC and Entrepreneur Faces Project/Extracted Faces/vc/vc12/vc12827_cb.jpeg'\n",
    "img = cv2.imread(im_path)"
   ]
  },
  {
   "cell_type": "code",
   "execution_count": 48,
   "metadata": {},
   "outputs": [
    {
     "data": {
      "text/plain": [
       "(347, 250, 3)"
      ]
     },
     "execution_count": 48,
     "metadata": {},
     "output_type": "execute_result"
    }
   ],
   "source": [
    "img.shape"
   ]
  },
  {
   "cell_type": "code",
   "execution_count": null,
   "metadata": {},
   "outputs": [],
   "source": []
  }
 ],
 "metadata": {
  "kernelspec": {
   "display_name": "Python 2",
   "language": "python",
   "name": "python2"
  },
  "language_info": {
   "codemirror_mode": {
    "name": "ipython",
    "version": 2
   },
   "file_extension": ".py",
   "mimetype": "text/x-python",
   "name": "python",
   "nbconvert_exporter": "python",
   "pygments_lexer": "ipython2",
   "version": "2.7.12"
  }
 },
 "nbformat": 4,
 "nbformat_minor": 2
}
