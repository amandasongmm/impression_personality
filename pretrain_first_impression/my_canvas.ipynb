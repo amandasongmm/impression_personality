{
 "cells": [
  {
   "cell_type": "code",
   "execution_count": 1,
   "metadata": {},
   "outputs": [],
   "source": [
    "import numpy as np"
   ]
  },
  {
   "cell_type": "code",
   "execution_count": 2,
   "metadata": {},
   "outputs": [],
   "source": [
    "weights_path = '/home/amanda/Github/vgg_models/vgg16_weights.npz'"
   ]
  },
  {
   "cell_type": "code",
   "execution_count": 3,
   "metadata": {},
   "outputs": [],
   "source": [
    "we = np.load(weights_path)"
   ]
  },
  {
   "cell_type": "code",
   "execution_count": 6,
   "metadata": {},
   "outputs": [
    {
     "data": {
      "text/plain": [
       "['conv4_3_W',\n",
       " 'conv5_1_b',\n",
       " 'conv1_2_b',\n",
       " 'conv5_2_b',\n",
       " 'conv1_1_W',\n",
       " 'conv5_3_b',\n",
       " 'conv5_2_W',\n",
       " 'conv5_3_W',\n",
       " 'conv1_1_b',\n",
       " 'fc7_b',\n",
       " 'conv5_1_W',\n",
       " 'conv1_2_W',\n",
       " 'conv3_2_W',\n",
       " 'conv4_2_b',\n",
       " 'conv4_1_b',\n",
       " 'conv3_3_W',\n",
       " 'conv2_1_b',\n",
       " 'conv3_1_b',\n",
       " 'conv2_2_W',\n",
       " 'fc6_b',\n",
       " 'fc8_b',\n",
       " 'conv4_3_b',\n",
       " 'conv2_2_b',\n",
       " 'fc6_W',\n",
       " 'fc8_W',\n",
       " 'fc7_W',\n",
       " 'conv3_2_b',\n",
       " 'conv4_2_W',\n",
       " 'conv3_3_b',\n",
       " 'conv3_1_W',\n",
       " 'conv2_1_W',\n",
       " 'conv4_1_W']"
      ]
     },
     "execution_count": 6,
     "metadata": {},
     "output_type": "execute_result"
    }
   ],
   "source": [
    "we.keys()"
   ]
  },
  {
   "cell_type": "code",
   "execution_count": 7,
   "metadata": {},
   "outputs": [],
   "source": [
    "test_1 = we['fc7_b']"
   ]
  },
  {
   "cell_type": "code",
   "execution_count": 8,
   "metadata": {},
   "outputs": [
    {
     "data": {
      "text/plain": [
       "(4096,)"
      ]
     },
     "execution_count": 8,
     "metadata": {},
     "output_type": "execute_result"
    }
   ],
   "source": [
    "test_1.shape"
   ]
  },
  {
   "cell_type": "code",
   "execution_count": null,
   "metadata": {},
   "outputs": [],
   "source": []
  }
 ],
 "metadata": {
  "kernelspec": {
   "display_name": "Python 2",
   "language": "python",
   "name": "python2"
  },
  "language_info": {
   "codemirror_mode": {
    "name": "ipython",
    "version": 2
   },
   "file_extension": ".py",
   "mimetype": "text/x-python",
   "name": "python",
   "nbconvert_exporter": "python",
   "pygments_lexer": "ipython2",
   "version": "2.7.12"
  }
 },
 "nbformat": 4,
 "nbformat_minor": 2
}
