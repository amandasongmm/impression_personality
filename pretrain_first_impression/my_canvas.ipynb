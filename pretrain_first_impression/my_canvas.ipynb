{
 "cells": [
  {
   "cell_type": "code",
   "execution_count": 1,
   "metadata": {},
   "outputs": [],
   "source": [
    "import numpy as np"
   ]
  },
  {
   "cell_type": "code",
   "execution_count": 16,
   "metadata": {},
   "outputs": [],
   "source": [
    "%matplotlib inline\n",
    "\n",
    "import matplotlib\n",
    "import numpy as np\n",
    "import matplotlib.pyplot as plt"
   ]
  },
  {
   "cell_type": "code",
   "execution_count": 64,
   "metadata": {},
   "outputs": [],
   "source": [
    "# # Display results\n",
    "\n",
    "# ax = plt.gca()\n",
    "\n",
    "# ax.plot(alphas, coefs)\n",
    "# ax.set_xscale('log')\n",
    "# ax.set_xlim(ax.get_xlim()[::-1])  # reverse axis\n",
    "# plt.xlabel('alpha')\n",
    "# plt.ylabel('weights')\n",
    "# plt.title('Ridge coefficients as a function of the regularization')\n",
    "# plt.axis('tight')\n",
    "# plt.show()"
   ]
  },
  {
   "cell_type": "code",
   "execution_count": 65,
   "metadata": {},
   "outputs": [],
   "source": [
    "x_train_pca, x_val_pca, x_test_pca = data['x_train_pca'], data['x_val_pca'], data['x_test_pca']\n",
    "y_train, y_val, y_test = data['y_train'], data['y_val'], data['y_test']"
   ]
  },
  {
   "cell_type": "code",
   "execution_count": 69,
   "metadata": {},
   "outputs": [
    {
     "name": "stdout",
     "output_type": "stream",
     "text": [
      "\n",
      "pca number = 300\n",
      "Train, val, test cor = 0.774646767525, 0.537407942975, 0.626626317231\n"
     ]
    }
   ],
   "source": [
    "from scipy.stats.stats import pearsonr\n",
    "from sklearn.linear_model import LinearRegression, Ridge\n",
    "\n",
    "pca_num = 300\n",
    "feat_dim = 2\n",
    "x_train, x_val, x_test = x_train_pca[:, :pca_num], x_val_pca[:, :pca_num], x_test_pca[:, :pca_num]\n",
    "ridge = Ridge(alpha=1e-8)\n",
    "ridge.fit(x_train, y_train[:, feat_dim])\n",
    "y_train_predict = ridge.predict(x_train)\n",
    "y_val_predict = ridge.predict(x_val)\n",
    "y_test_predict = ridge.predict(x_test)\n",
    "\n",
    "print('\\npca number = {0:3}'.format(pca_num))\n",
    "[train_cor, p] = pearsonr(y_train[:, feat_dim], y_train_predict)\n",
    "[val_cor, p] = pearsonr(y_val[:, feat_dim], y_val_predict)\n",
    "[test_cor, p] = pearsonr(y_test[:, feat_dim], y_test_predict)\n",
    "print('Train, val, test cor = {}, {}, {}'.format(train_cor, val_cor, test_cor))\n"
   ]
  },
  {
   "cell_type": "code",
   "execution_count": null,
   "metadata": {},
   "outputs": [],
   "source": []
  }
 ],
 "metadata": {
  "kernelspec": {
   "display_name": "Python 2",
   "language": "python",
   "name": "python2"
  },
  "language_info": {
   "codemirror_mode": {
    "name": "ipython",
    "version": 2
   },
   "file_extension": ".py",
   "mimetype": "text/x-python",
   "name": "python",
   "nbconvert_exporter": "python",
   "pygments_lexer": "ipython2",
   "version": "2.7.12"
  }
 },
 "nbformat": 4,
 "nbformat_minor": 2
}
