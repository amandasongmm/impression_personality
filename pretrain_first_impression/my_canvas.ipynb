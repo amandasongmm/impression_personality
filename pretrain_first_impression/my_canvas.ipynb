{
 "cells": [
  {
   "cell_type": "code",
   "execution_count": 1,
   "metadata": {},
   "outputs": [],
   "source": [
    "import pandas as pd"
   ]
  },
  {
   "cell_type": "code",
   "execution_count": 2,
   "metadata": {},
   "outputs": [],
   "source": [
    "api_data = pd.read_csv('/home/amanda/Github/impression_personality/ent-labels.txt', sep=\"\\t\", header=None)"
   ]
  },
  {
   "cell_type": "code",
   "execution_count": 5,
   "metadata": {},
   "outputs": [],
   "source": [
    "    api_data.columns = [\"faceId\", \"faceTopDimension\", \"faceLeftDimension\", \"faceWidthDimension\", \"faceHeightDimension\",\n",
    "                    \"smile\", \"pitch\", \"roll\", \"yaw\", \"gender\", \"age\", \"moustache\", \"beard\", \"sideburns\", \"glasses\",\n",
    "                    \"anger\", \"contempt\", \"disgust\", \"fear\", \"happiness\", \"neutral\", \"sadness\", \"surprise\", \"blurlevel\",\n",
    "                    \"blurvalue\", \"exposurelevel\", \"exposurevalue\", \"noiselevel\", \"noisevalue\", \"eymakeup\", \"lipmakeup\",\n",
    "                    \"foreheadoccluded\", \"eyeoccluded\", \"mouthoccluded\", \"hair-bald\", \"hair-invisible\", \"img_name\", \"nan\"]\n",
    "\n",
    "    api_data = api_data.drop(api_data.index[0])\n",
    "    api_data = api_data[['img_name', 'smile', 'gender', 'age', 'glasses', 'anger', 'contempt', 'disgust', 'fear', 'happiness',\n",
    "                 'neutral', 'sadness', 'surprise']]"
   ]
  },
  {
   "cell_type": "code",
   "execution_count": 6,
   "metadata": {},
   "outputs": [
    {
     "data": {
      "text/html": [
       "<div>\n",
       "<style scoped>\n",
       "    .dataframe tbody tr th:only-of-type {\n",
       "        vertical-align: middle;\n",
       "    }\n",
       "\n",
       "    .dataframe tbody tr th {\n",
       "        vertical-align: top;\n",
       "    }\n",
       "\n",
       "    .dataframe thead th {\n",
       "        text-align: right;\n",
       "    }\n",
       "</style>\n",
       "<table border=\"1\" class=\"dataframe\">\n",
       "  <thead>\n",
       "    <tr style=\"text-align: right;\">\n",
       "      <th></th>\n",
       "      <th>img_name</th>\n",
       "      <th>smile</th>\n",
       "      <th>gender</th>\n",
       "      <th>age</th>\n",
       "      <th>glasses</th>\n",
       "      <th>anger</th>\n",
       "      <th>contempt</th>\n",
       "      <th>disgust</th>\n",
       "      <th>fear</th>\n",
       "      <th>happiness</th>\n",
       "      <th>neutral</th>\n",
       "      <th>sadness</th>\n",
       "      <th>surprise</th>\n",
       "    </tr>\n",
       "  </thead>\n",
       "  <tbody>\n",
       "    <tr>\n",
       "      <th>1</th>\n",
       "      <td>e5937_cb.jpg</td>\n",
       "      <td>0.547</td>\n",
       "      <td>female</td>\n",
       "      <td>42.8</td>\n",
       "      <td>NoGlasses</td>\n",
       "      <td>0.0</td>\n",
       "      <td>0.004</td>\n",
       "      <td>0.0</td>\n",
       "      <td>0.0</td>\n",
       "      <td>0.547</td>\n",
       "      <td>0.447</td>\n",
       "      <td>0.001</td>\n",
       "      <td>0.0</td>\n",
       "    </tr>\n",
       "    <tr>\n",
       "      <th>2</th>\n",
       "      <td>e7408_cb.jpg</td>\n",
       "      <td>0.0</td>\n",
       "      <td>male</td>\n",
       "      <td>26.2</td>\n",
       "      <td>NoGlasses</td>\n",
       "      <td>0.0</td>\n",
       "      <td>0.0</td>\n",
       "      <td>0.0</td>\n",
       "      <td>0.0</td>\n",
       "      <td>0.0</td>\n",
       "      <td>1.0</td>\n",
       "      <td>0.0</td>\n",
       "      <td>0.0</td>\n",
       "    </tr>\n",
       "    <tr>\n",
       "      <th>3</th>\n",
       "      <td>e2745_cb.jpg</td>\n",
       "      <td>0.46</td>\n",
       "      <td>male</td>\n",
       "      <td>41.4</td>\n",
       "      <td>ReadingGlasses</td>\n",
       "      <td>0.0</td>\n",
       "      <td>0.124</td>\n",
       "      <td>0.0</td>\n",
       "      <td>0.0</td>\n",
       "      <td>0.46</td>\n",
       "      <td>0.415</td>\n",
       "      <td>0.0</td>\n",
       "      <td>0.0</td>\n",
       "    </tr>\n",
       "    <tr>\n",
       "      <th>4</th>\n",
       "      <td>e3272_cb.jpg</td>\n",
       "      <td>0.502</td>\n",
       "      <td>male</td>\n",
       "      <td>45.1</td>\n",
       "      <td>NoGlasses</td>\n",
       "      <td>0.0</td>\n",
       "      <td>0.0</td>\n",
       "      <td>0.0</td>\n",
       "      <td>0.0</td>\n",
       "      <td>0.502</td>\n",
       "      <td>0.497</td>\n",
       "      <td>0.0</td>\n",
       "      <td>0.0</td>\n",
       "    </tr>\n",
       "    <tr>\n",
       "      <th>5</th>\n",
       "      <td>e3523_cb.jpg</td>\n",
       "      <td>0.002</td>\n",
       "      <td>male</td>\n",
       "      <td>40.2</td>\n",
       "      <td>ReadingGlasses</td>\n",
       "      <td>0.002</td>\n",
       "      <td>0.006</td>\n",
       "      <td>0.001</td>\n",
       "      <td>0.0</td>\n",
       "      <td>0.002</td>\n",
       "      <td>0.974</td>\n",
       "      <td>0.014</td>\n",
       "      <td>0.002</td>\n",
       "    </tr>\n",
       "  </tbody>\n",
       "</table>\n",
       "</div>"
      ],
      "text/plain": [
       "       img_name  smile  gender   age         glasses  anger contempt disgust  \\\n",
       "1  e5937_cb.jpg  0.547  female  42.8       NoGlasses    0.0    0.004     0.0   \n",
       "2  e7408_cb.jpg    0.0    male  26.2       NoGlasses    0.0      0.0     0.0   \n",
       "3  e2745_cb.jpg   0.46    male  41.4  ReadingGlasses    0.0    0.124     0.0   \n",
       "4  e3272_cb.jpg  0.502    male  45.1       NoGlasses    0.0      0.0     0.0   \n",
       "5  e3523_cb.jpg  0.002    male  40.2  ReadingGlasses  0.002    0.006   0.001   \n",
       "\n",
       "  fear happiness neutral sadness surprise  \n",
       "1  0.0     0.547   0.447   0.001      0.0  \n",
       "2  0.0       0.0     1.0     0.0      0.0  \n",
       "3  0.0      0.46   0.415     0.0      0.0  \n",
       "4  0.0     0.502   0.497     0.0      0.0  \n",
       "5  0.0     0.002   0.974   0.014    0.002  "
      ]
     },
     "execution_count": 6,
     "metadata": {},
     "output_type": "execute_result"
    }
   ],
   "source": [
    "api_data.head()"
   ]
  },
  {
   "cell_type": "code",
   "execution_count": 7,
   "metadata": {},
   "outputs": [
    {
     "data": {
      "text/plain": [
       "9732"
      ]
     },
     "execution_count": 7,
     "metadata": {},
     "output_type": "execute_result"
    }
   ],
   "source": [
    "len(api_data)"
   ]
  },
  {
   "cell_type": "code",
   "execution_count": 8,
   "metadata": {},
   "outputs": [],
   "source": [
    "# Now choose a unique set of cb or tw data. \n",
    "im_name_lst = api_data['img_name'].values"
   ]
  },
  {
   "cell_type": "code",
   "execution_count": 14,
   "metadata": {},
   "outputs": [],
   "source": [
    "id_lst = [f[:-7] for f in im_name_lst]\n",
    "unique_id_lst = set(id_lst) # 7905"
   ]
  },
  {
   "cell_type": "code",
   "execution_count": 15,
   "metadata": {},
   "outputs": [
    {
     "data": {
      "text/plain": [
       "7905"
      ]
     },
     "execution_count": 15,
     "metadata": {},
     "output_type": "execute_result"
    }
   ],
   "source": [
    "len(unique_id_lst)"
   ]
  },
  {
   "cell_type": "code",
   "execution_count": 12,
   "metadata": {},
   "outputs": [],
   "source": [
    "e_im_lst = [im_id+'_cb.jpg' if im_id+'_cb.jpg' in im_name_lst else im_id+'_tw.jpg' for im_id in unique_id_lst]"
   ]
  },
  {
   "cell_type": "code",
   "execution_count": 18,
   "metadata": {},
   "outputs": [],
   "source": [
    "e_pred = pd.read_csv('./tmp_data/e_impression_predict.csv')"
   ]
  },
  {
   "cell_type": "code",
   "execution_count": 21,
   "metadata": {},
   "outputs": [
    {
     "data": {
      "text/html": [
       "<div>\n",
       "<style scoped>\n",
       "    .dataframe tbody tr th:only-of-type {\n",
       "        vertical-align: middle;\n",
       "    }\n",
       "\n",
       "    .dataframe tbody tr th {\n",
       "        vertical-align: top;\n",
       "    }\n",
       "\n",
       "    .dataframe thead th {\n",
       "        text-align: right;\n",
       "    }\n",
       "</style>\n",
       "<table border=\"1\" class=\"dataframe\">\n",
       "  <thead>\n",
       "    <tr style=\"text-align: right;\">\n",
       "      <th></th>\n",
       "      <th>Unnamed: 0</th>\n",
       "      <th>img_name</th>\n",
       "      <th>trustworthy</th>\n",
       "      <th>intelligent</th>\n",
       "      <th>attractive</th>\n",
       "      <th>aggressive</th>\n",
       "      <th>responsible</th>\n",
       "      <th>sociable</th>\n",
       "      <th>e_id</th>\n",
       "      <th>binary</th>\n",
       "      <th>fund</th>\n",
       "    </tr>\n",
       "  </thead>\n",
       "  <tbody>\n",
       "    <tr>\n",
       "      <th>0</th>\n",
       "      <td>0</td>\n",
       "      <td>e4447_cb.jpg</td>\n",
       "      <td>5.448389</td>\n",
       "      <td>5.040924</td>\n",
       "      <td>4.938795</td>\n",
       "      <td>2.354114</td>\n",
       "      <td>5.391972</td>\n",
       "      <td>6.652265</td>\n",
       "      <td>e4447</td>\n",
       "      <td>0</td>\n",
       "      <td>0.0</td>\n",
       "    </tr>\n",
       "    <tr>\n",
       "      <th>1</th>\n",
       "      <td>1</td>\n",
       "      <td>e11543_cb.jpg</td>\n",
       "      <td>5.717575</td>\n",
       "      <td>5.103132</td>\n",
       "      <td>3.898923</td>\n",
       "      <td>3.402180</td>\n",
       "      <td>5.656913</td>\n",
       "      <td>5.672017</td>\n",
       "      <td>e11543</td>\n",
       "      <td>0</td>\n",
       "      <td>0.0</td>\n",
       "    </tr>\n",
       "    <tr>\n",
       "      <th>2</th>\n",
       "      <td>2</td>\n",
       "      <td>e11547_cb.jpg</td>\n",
       "      <td>4.904439</td>\n",
       "      <td>5.252395</td>\n",
       "      <td>4.142537</td>\n",
       "      <td>4.143762</td>\n",
       "      <td>5.053437</td>\n",
       "      <td>5.144416</td>\n",
       "      <td>e11547</td>\n",
       "      <td>0</td>\n",
       "      <td>0.0</td>\n",
       "    </tr>\n",
       "    <tr>\n",
       "      <th>3</th>\n",
       "      <td>3</td>\n",
       "      <td>e11545_cb.jpg</td>\n",
       "      <td>5.537255</td>\n",
       "      <td>5.127421</td>\n",
       "      <td>4.747706</td>\n",
       "      <td>3.171088</td>\n",
       "      <td>5.531161</td>\n",
       "      <td>6.173637</td>\n",
       "      <td>e11545</td>\n",
       "      <td>0</td>\n",
       "      <td>0.0</td>\n",
       "    </tr>\n",
       "    <tr>\n",
       "      <th>4</th>\n",
       "      <td>4</td>\n",
       "      <td>e11548_cb.jpg</td>\n",
       "      <td>4.838200</td>\n",
       "      <td>5.022482</td>\n",
       "      <td>4.530700</td>\n",
       "      <td>4.067746</td>\n",
       "      <td>4.922415</td>\n",
       "      <td>5.363950</td>\n",
       "      <td>e11548</td>\n",
       "      <td>0</td>\n",
       "      <td>0.0</td>\n",
       "    </tr>\n",
       "  </tbody>\n",
       "</table>\n",
       "</div>"
      ],
      "text/plain": [
       "   Unnamed: 0       img_name  trustworthy  intelligent  attractive  \\\n",
       "0           0   e4447_cb.jpg     5.448389     5.040924    4.938795   \n",
       "1           1  e11543_cb.jpg     5.717575     5.103132    3.898923   \n",
       "2           2  e11547_cb.jpg     4.904439     5.252395    4.142537   \n",
       "3           3  e11545_cb.jpg     5.537255     5.127421    4.747706   \n",
       "4           4  e11548_cb.jpg     4.838200     5.022482    4.530700   \n",
       "\n",
       "   aggressive  responsible  sociable    e_id  binary  fund  \n",
       "0    2.354114     5.391972  6.652265   e4447       0   0.0  \n",
       "1    3.402180     5.656913  5.672017  e11543       0   0.0  \n",
       "2    4.143762     5.053437  5.144416  e11547       0   0.0  \n",
       "3    3.171088     5.531161  6.173637  e11545       0   0.0  \n",
       "4    4.067746     4.922415  5.363950  e11548       0   0.0  "
      ]
     },
     "execution_count": 21,
     "metadata": {},
     "output_type": "execute_result"
    }
   ],
   "source": [
    "e_pred.head()"
   ]
  },
  {
   "cell_type": "code",
   "execution_count": 22,
   "metadata": {},
   "outputs": [
    {
     "data": {
      "text/plain": [
       "8064"
      ]
     },
     "execution_count": 22,
     "metadata": {},
     "output_type": "execute_result"
    }
   ],
   "source": [
    "len(e_pred)"
   ]
  },
  {
   "cell_type": "code",
   "execution_count": 23,
   "metadata": {},
   "outputs": [],
   "source": [
    "my_im_lst = e_pred['img_name'].values"
   ]
  },
  {
   "cell_type": "code",
   "execution_count": 24,
   "metadata": {},
   "outputs": [],
   "source": [
    "common_lst = set(e_im_lst) & set(my_im_lst)"
   ]
  },
  {
   "cell_type": "code",
   "execution_count": 25,
   "metadata": {},
   "outputs": [
    {
     "data": {
      "text/plain": [
       "7800"
      ]
     },
     "execution_count": 25,
     "metadata": {},
     "output_type": "execute_result"
    }
   ],
   "source": [
    "len(common_lst)"
   ]
  },
  {
   "cell_type": "code",
   "execution_count": 46,
   "metadata": {},
   "outputs": [],
   "source": [
    "dif_set_1 = set(my_im_lst) - common_lst"
   ]
  },
  {
   "cell_type": "code",
   "execution_count": 50,
   "metadata": {},
   "outputs": [
    {
     "name": "stdout",
     "output_type": "stream",
     "text": [
      "87\n"
     ]
    }
   ],
   "source": [
    "import os\n",
    "from shutil import copyfile\n",
    "\n",
    "img_src_dir = '/home/amanda/Documents/cropped_face/e_with_mask'\n",
    "dst_dir = '/home/amanda/Documents/cropped_face/problematic_faces'\n",
    "counter = 0\n",
    "for i in dif_set_1:\n",
    "    src_path = os.path.join(img_src_dir, i)\n",
    "    dst_path = os.path.join(dst_dir, i)\n",
    "    if not os.path.isfile(src_path):\n",
    "#         copyfile(src_path, dst_path)\n",
    "        counter+=1\n",
    "print(counter)"
   ]
  },
  {
   "cell_type": "code",
   "execution_count": 33,
   "metadata": {},
   "outputs": [
    {
     "data": {
      "text/plain": [
       "False"
      ]
     },
     "execution_count": 33,
     "metadata": {},
     "output_type": "execute_result"
    }
   ],
   "source": [
    "'e185_tw.jpg' in my_im_lst"
   ]
  },
  {
   "cell_type": "code",
   "execution_count": 34,
   "metadata": {},
   "outputs": [
    {
     "data": {
      "text/plain": [
       "105"
      ]
     },
     "execution_count": 34,
     "metadata": {},
     "output_type": "execute_result"
    }
   ],
   "source": [
    "len(dif_set_1)"
   ]
  },
  {
   "cell_type": "code",
   "execution_count": 35,
   "metadata": {},
   "outputs": [],
   "source": [
    "    e_dir = '/home/amanda/Documents/cropped_face/e_with_mask'\n",
    "    model_save_dir = '/home/amanda/Documents/vgg_model/e_with_mask_feat'\n",
    "\n",
    "    im_name_lst = [f for f in os.listdir(e_dir) if os.path.isfile(os.path.join(e_dir, f))]\n",
    "    id_lst = [f[:-7] for f in im_name_lst]\n",
    "    unique_id_lst = set(id_lst)\n",
    "\n",
    "    e_im_lst = [im_id + '_cb.jpg' if im_id + '_cb.jpg' in im_name_lst else im_id + '_tw.jpg' for im_id in unique_id_lst]"
   ]
  },
  {
   "cell_type": "code",
   "execution_count": 36,
   "metadata": {},
   "outputs": [
    {
     "data": {
      "text/plain": [
       "8064"
      ]
     },
     "execution_count": 36,
     "metadata": {},
     "output_type": "execute_result"
    }
   ],
   "source": [
    "len(e_im_lst)"
   ]
  },
  {
   "cell_type": "code",
   "execution_count": 37,
   "metadata": {},
   "outputs": [
    {
     "data": {
      "text/plain": [
       "8064"
      ]
     },
     "execution_count": 37,
     "metadata": {},
     "output_type": "execute_result"
    }
   ],
   "source": [
    "len(unique_id_lst)"
   ]
  },
  {
   "cell_type": "code",
   "execution_count": 38,
   "metadata": {},
   "outputs": [
    {
     "data": {
      "text/plain": [
       "True"
      ]
     },
     "execution_count": 38,
     "metadata": {},
     "output_type": "execute_result"
    }
   ],
   "source": [
    "'e185' in unique_id_lst"
   ]
  },
  {
   "cell_type": "code",
   "execution_count": 40,
   "metadata": {},
   "outputs": [
    {
     "data": {
      "text/plain": [
       "True"
      ]
     },
     "execution_count": 40,
     "metadata": {},
     "output_type": "execute_result"
    }
   ],
   "source": [
    "'e185_cb.jpg' in e_im_lst"
   ]
  },
  {
   "cell_type": "code",
   "execution_count": 44,
   "metadata": {},
   "outputs": [
    {
     "data": {
      "text/plain": [
       "False"
      ]
     },
     "execution_count": 44,
     "metadata": {},
     "output_type": "execute_result"
    }
   ],
   "source": [
    "'e185' in e_pred['e_id'].values"
   ]
  },
  {
   "cell_type": "code",
   "execution_count": 42,
   "metadata": {},
   "outputs": [
    {
     "data": {
      "text/plain": [
       "8064"
      ]
     },
     "execution_count": 42,
     "metadata": {},
     "output_type": "execute_result"
    }
   ],
   "source": [
    "len(e_pred)"
   ]
  },
  {
   "cell_type": "code",
   "execution_count": null,
   "metadata": {},
   "outputs": [],
   "source": []
  }
 ],
 "metadata": {
  "kernelspec": {
   "display_name": "Python 2",
   "language": "python",
   "name": "python2"
  },
  "language_info": {
   "codemirror_mode": {
    "name": "ipython",
    "version": 2
   },
   "file_extension": ".py",
   "mimetype": "text/x-python",
   "name": "python",
   "nbconvert_exporter": "python",
   "pygments_lexer": "ipython2",
   "version": "2.7.12"
  }
 },
 "nbformat": 4,
 "nbformat_minor": 2
}
