{
 "cells": [
  {
   "cell_type": "code",
   "execution_count": 2,
   "metadata": {},
   "outputs": [],
   "source": [
    "%matplotlib inline\n",
    "import matplotlib\n",
    "import numpy as np\n",
    "import matplotlib.pyplot as plt\n",
    "import pandas as pd"
   ]
  },
  {
   "cell_type": "code",
   "execution_count": 37,
   "metadata": {},
   "outputs": [],
   "source": [
    "def visualize_performance(layer_name, file_name, feat_num):\n",
    "    df = pd.read_csv(file_name, index_col=0)\n",
    "    att = df[['rand_num', 'pca_num', 'imp' + str(feat_num), 'train' + str(feat_num), 'test' + str(feat_num)]]\n",
    "    feat_name = att.loc[0]['imp' + str(feat_num)]\n",
    "    y_train, y_train_err, y_test, y_test_err = [], [], [], []\n",
    "    x = np.linspace(150, 300, 16)\n",
    "    for i in x:\n",
    "        y_train.append(att[att['pca_num'] == i]['train' + str(feat_num)].mean())\n",
    "        y_train_err.append(att[att['pca_num'] == i]['train' + str(feat_num)].std())\n",
    "        y_test.append(att[att['pca_num'] == i]['test' + str(feat_num)].mean())\n",
    "        y_test_err.append(att[att['pca_num'] == i]['test' + str(feat_num)].std())\n",
    "    \n",
    "    max_y_test = round(max(y_test), 2)\n",
    "    max_y_correspond_x = x[np.argmax(y_test)]\n",
    "    \n",
    "    fig_title = '{}-{}-pca{}-test-{}'.format(layer_name, feat_name, max_y_correspond_x, max_y_test)\n",
    "    \n",
    "    plt.errorbar(x, y_train, y_train_err, label='train')\n",
    "    plt.errorbar(x, y_test, y_test_err, label='test')\n",
    "    plt.grid()\n",
    "    plt.title(fig_title)\n",
    "    plt.show()\n",
    "    plt.savefig('tmp_data/'+fig_title+'.jpg')\n",
    "    "
   ]
  },
  {
   "cell_type": "code",
   "execution_count": 38,
   "metadata": {
    "scrolled": true
   },
   "outputs": [
    {
     "data": {
      "image/png": "[encoded data removed]",
      "text/plain": [
       "<Figure size 432x288 with 1 Axes>"
      ]
     },
     "metadata": {},
     "output_type": "display_data"
    },
    {
     "data": {
      "text/plain": [
       "<Figure size 432x288 with 0 Axes>"
      ]
     },
     "metadata": {},
     "output_type": "display_data"
    }
   ],
   "source": [
    "visualize_performance('conv51', 'tmp_data/conv51_2k_performance_150-300.csv', 1)"
   ]
  },
  {
   "cell_type": "code",
   "execution_count": 142,
   "metadata": {},
   "outputs": [
    {
     "data": {
      "text/plain": [
       "u'vc1'"
      ]
     },
     "execution_count": 142,
     "metadata": {},
     "output_type": "execute_result"
    }
   ],
   "source": [
    "vc_funding_data['short_id'].loc[0]"
   ]
  },
  {
   "cell_type": "code",
   "execution_count": 147,
   "metadata": {},
   "outputs": [
    {
     "data": {
      "text/plain": [
       "vc_id    vc10001\n",
       "Name: vc10001_cb.jpeg, dtype: object"
      ]
     },
     "execution_count": 147,
     "metadata": {},
     "output_type": "execute_result"
    }
   ],
   "source": [
    "vc_impression_data['vc_id'].iloc[1]"
   ]
  },
  {
   "cell_type": "code",
   "execution_count": null,
   "metadata": {},
   "outputs": [],
   "source": []
  }
 ],
 "metadata": {
  "kernelspec": {
   "display_name": "Python 2",
   "language": "python",
   "name": "python2"
  },
  "language_info": {
   "codemirror_mode": {
    "name": "ipython",
    "version": 2
   },
   "file_extension": ".py",
   "mimetype": "text/x-python",
   "name": "python",
   "nbconvert_exporter": "python",
   "pygments_lexer": "ipython2",
   "version": "2.7.12"
  }
 },
 "nbformat": 4,
 "nbformat_minor": 2
}
