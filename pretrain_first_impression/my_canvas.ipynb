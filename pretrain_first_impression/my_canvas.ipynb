{
 "cells": [
  {
   "cell_type": "code",
   "execution_count": 200,
   "metadata": {},
   "outputs": [],
   "source": [
    "df_name = './tmp_data/merged_api_impression.csv'"
   ]
  },
  {
   "cell_type": "code",
   "execution_count": 201,
   "metadata": {},
   "outputs": [],
   "source": [
    "df = pd.read_csv(df_name)"
   ]
  },
  {
   "cell_type": "code",
   "execution_count": 186,
   "metadata": {
    "scrolled": true
   },
   "outputs": [
    {
     "data": {
      "text/html": [
       "<div>\n",
       "<style scoped>\n",
       "    .dataframe tbody tr th:only-of-type {\n",
       "        vertical-align: middle;\n",
       "    }\n",
       "\n",
       "    .dataframe tbody tr th {\n",
       "        vertical-align: top;\n",
       "    }\n",
       "\n",
       "    .dataframe thead th {\n",
       "        text-align: right;\n",
       "    }\n",
       "</style>\n",
       "<table border=\"1\" class=\"dataframe\">\n",
       "  <thead>\n",
       "    <tr style=\"text-align: right;\">\n",
       "      <th></th>\n",
       "      <th>img_name</th>\n",
       "      <th>smile</th>\n",
       "      <th>gender</th>\n",
       "      <th>age</th>\n",
       "      <th>glasses</th>\n",
       "      <th>anger</th>\n",
       "      <th>contempt</th>\n",
       "      <th>disgust</th>\n",
       "      <th>fear</th>\n",
       "      <th>happiness</th>\n",
       "      <th>...</th>\n",
       "      <th>aggressive</th>\n",
       "      <th>responsible</th>\n",
       "      <th>sociable</th>\n",
       "      <th>e_id</th>\n",
       "      <th>vc binary</th>\n",
       "      <th>vc fund</th>\n",
       "      <th>total binary</th>\n",
       "      <th>total fund</th>\n",
       "      <th>IPO</th>\n",
       "      <th>success</th>\n",
       "    </tr>\n",
       "  </thead>\n",
       "  <tbody>\n",
       "    <tr>\n",
       "      <th>0</th>\n",
       "      <td>e9585_cb.jpg</td>\n",
       "      <td>1.000</td>\n",
       "      <td>male</td>\n",
       "      <td>38.4</td>\n",
       "      <td>NoGlasses</td>\n",
       "      <td>0.000</td>\n",
       "      <td>0.000</td>\n",
       "      <td>0.000</td>\n",
       "      <td>0.0</td>\n",
       "      <td>1.000</td>\n",
       "      <td>...</td>\n",
       "      <td>2.867631</td>\n",
       "      <td>5.379671</td>\n",
       "      <td>6.794107</td>\n",
       "      <td>e9585</td>\n",
       "      <td>1</td>\n",
       "      <td>6.812913</td>\n",
       "      <td>1</td>\n",
       "      <td>6.812913</td>\n",
       "      <td>0.0</td>\n",
       "      <td>1</td>\n",
       "    </tr>\n",
       "    <tr>\n",
       "      <th>1</th>\n",
       "      <td>e13481_cb.jpg</td>\n",
       "      <td>0.915</td>\n",
       "      <td>male</td>\n",
       "      <td>28.0</td>\n",
       "      <td>NoGlasses</td>\n",
       "      <td>0.000</td>\n",
       "      <td>0.018</td>\n",
       "      <td>0.000</td>\n",
       "      <td>0.0</td>\n",
       "      <td>0.915</td>\n",
       "      <td>...</td>\n",
       "      <td>3.021806</td>\n",
       "      <td>5.616705</td>\n",
       "      <td>5.831418</td>\n",
       "      <td>e13481</td>\n",
       "      <td>0</td>\n",
       "      <td>0.000000</td>\n",
       "      <td>0</td>\n",
       "      <td>0.000000</td>\n",
       "      <td>0.0</td>\n",
       "      <td>0</td>\n",
       "    </tr>\n",
       "    <tr>\n",
       "      <th>2</th>\n",
       "      <td>e12682_cb.jpg</td>\n",
       "      <td>0.998</td>\n",
       "      <td>male</td>\n",
       "      <td>34.9</td>\n",
       "      <td>NoGlasses</td>\n",
       "      <td>0.000</td>\n",
       "      <td>0.000</td>\n",
       "      <td>0.000</td>\n",
       "      <td>0.0</td>\n",
       "      <td>0.998</td>\n",
       "      <td>...</td>\n",
       "      <td>4.004849</td>\n",
       "      <td>4.885920</td>\n",
       "      <td>5.338368</td>\n",
       "      <td>e12682</td>\n",
       "      <td>0</td>\n",
       "      <td>0.000000</td>\n",
       "      <td>0</td>\n",
       "      <td>0.000000</td>\n",
       "      <td>0.0</td>\n",
       "      <td>0</td>\n",
       "    </tr>\n",
       "    <tr>\n",
       "      <th>3</th>\n",
       "      <td>e1710_cb.jpg</td>\n",
       "      <td>0.460</td>\n",
       "      <td>male</td>\n",
       "      <td>45.8</td>\n",
       "      <td>ReadingGlasses</td>\n",
       "      <td>0.001</td>\n",
       "      <td>0.019</td>\n",
       "      <td>0.001</td>\n",
       "      <td>0.0</td>\n",
       "      <td>0.460</td>\n",
       "      <td>...</td>\n",
       "      <td>3.790722</td>\n",
       "      <td>5.279909</td>\n",
       "      <td>5.433563</td>\n",
       "      <td>e1710</td>\n",
       "      <td>1</td>\n",
       "      <td>6.806180</td>\n",
       "      <td>1</td>\n",
       "      <td>6.806180</td>\n",
       "      <td>0.0</td>\n",
       "      <td>1</td>\n",
       "    </tr>\n",
       "    <tr>\n",
       "      <th>4</th>\n",
       "      <td>e5894_cb.jpg</td>\n",
       "      <td>0.023</td>\n",
       "      <td>male</td>\n",
       "      <td>18.2</td>\n",
       "      <td>NoGlasses</td>\n",
       "      <td>0.002</td>\n",
       "      <td>0.015</td>\n",
       "      <td>0.000</td>\n",
       "      <td>0.0</td>\n",
       "      <td>0.023</td>\n",
       "      <td>...</td>\n",
       "      <td>3.401689</td>\n",
       "      <td>4.827846</td>\n",
       "      <td>5.999139</td>\n",
       "      <td>e5894</td>\n",
       "      <td>0</td>\n",
       "      <td>0.000000</td>\n",
       "      <td>0</td>\n",
       "      <td>0.000000</td>\n",
       "      <td>0.0</td>\n",
       "      <td>0</td>\n",
       "    </tr>\n",
       "  </tbody>\n",
       "</table>\n",
       "<p>5 rows × 26 columns</p>\n",
       "</div>"
      ],
      "text/plain": [
       "        img_name  smile gender   age         glasses  anger  contempt  \\\n",
       "0   e9585_cb.jpg  1.000   male  38.4       NoGlasses  0.000     0.000   \n",
       "1  e13481_cb.jpg  0.915   male  28.0       NoGlasses  0.000     0.018   \n",
       "2  e12682_cb.jpg  0.998   male  34.9       NoGlasses  0.000     0.000   \n",
       "3   e1710_cb.jpg  0.460   male  45.8  ReadingGlasses  0.001     0.019   \n",
       "4   e5894_cb.jpg  0.023   male  18.2       NoGlasses  0.002     0.015   \n",
       "\n",
       "   disgust  fear  happiness   ...    aggressive  responsible  sociable  \\\n",
       "0    0.000   0.0      1.000   ...      2.867631     5.379671  6.794107   \n",
       "1    0.000   0.0      0.915   ...      3.021806     5.616705  5.831418   \n",
       "2    0.000   0.0      0.998   ...      4.004849     4.885920  5.338368   \n",
       "3    0.001   0.0      0.460   ...      3.790722     5.279909  5.433563   \n",
       "4    0.000   0.0      0.023   ...      3.401689     4.827846  5.999139   \n",
       "\n",
       "     e_id  vc binary   vc fund  total binary  total fund  IPO success  \n",
       "0   e9585          1  6.812913             1    6.812913  0.0       1  \n",
       "1  e13481          0  0.000000             0    0.000000  0.0       0  \n",
       "2  e12682          0  0.000000             0    0.000000  0.0       0  \n",
       "3   e1710          1  6.806180             1    6.806180  0.0       1  \n",
       "4   e5894          0  0.000000             0    0.000000  0.0       0  \n",
       "\n",
       "[5 rows x 26 columns]"
      ]
     },
     "execution_count": 186,
     "metadata": {},
     "output_type": "execute_result"
    }
   ],
   "source": [
    "df.head()"
   ]
  },
  {
   "cell_type": "code",
   "execution_count": 202,
   "metadata": {
    "scrolled": true
   },
   "outputs": [],
   "source": [
    "df_impression_only = df[feature_lst]"
   ]
  },
  {
   "cell_type": "code",
   "execution_count": 203,
   "metadata": {},
   "outputs": [
    {
     "data": {
      "image/png": "[encoded data removed]",
      "text/plain": [
       "<Figure size 720x576 with 2 Axes>"
      ]
     },
     "metadata": {},
     "output_type": "display_data"
    }
   ],
   "source": [
    "f, ax = plt.subplots(figsize=(10, 8))\n",
    "corr = df_impression_only.corr()\n",
    "# sns.heatmap(corr, mask=np.zeros_like(corr, dtype=np.bool), cmap=sns.diverging_palette(220, 10, as_cmap=True),\n",
    "#             square=True, ax=ax)\n",
    "mask = np.zeros_like(corr)\n",
    "mask[np.triu_indices_from(mask)] = True\n",
    "sns.heatmap(corr, mask=mask, cmap=sns.diverging_palette(220, 10, as_cmap=True),\n",
    "            square=True, ax=ax, vmin=-1, vmax=1, annot=True)\n",
    "plt.savefig('/home/amanda/Documents/vgg_model/2k_feat/may_7/heat_map_of_impression_E_old.jpg')"
   ]
  },
  {
   "cell_type": "code",
   "execution_count": 206,
   "metadata": {},
   "outputs": [
    {
     "data": {
      "text/plain": [
       "<Figure size 432x288 with 0 Axes>"
      ]
     },
     "metadata": {},
     "output_type": "display_data"
    },
    {
     "data": {
      "image/png": "[encoded data removed]",
      "text/plain": [
       "<Figure size 720x576 with 2 Axes>"
      ]
     },
     "metadata": {},
     "output_type": "display_data"
    }
   ],
   "source": [
    "female_only = df[df['gender']=='female']\n",
    "female_impression = female_only[feature_lst]\n",
    "\n",
    "\n",
    "fig = plt.figure()\n",
    "\n",
    "title_str = 'Female'\n",
    "fig.suptitle(title_str, fontsize=20)\n",
    "f, ax = plt.subplots(figsize=(10, 8))\n",
    "corr = female_impression.corr()\n",
    "# sns.heatmap(corr, mask=np.zeros_like(corr, dtype=np.bool), cmap=sns.diverging_palette(220, 10, as_cmap=True),\n",
    "#             square=True, ax=ax)\n",
    "mask = np.zeros_like(corr)\n",
    "mask[np.triu_indices_from(mask)] = True\n",
    "sns.heatmap(corr, mask=mask, cmap=sns.diverging_palette(220, 10, as_cmap=True),\n",
    "            square=True, ax=ax, vmin=-1, vmax=1, annot=True)\n",
    "plt.savefig('/home/amanda/Documents/vgg_model/2k_feat/may_7/visualization/impression_female_E.jpg')"
   ]
  },
  {
   "cell_type": "code",
   "execution_count": 208,
   "metadata": {},
   "outputs": [
    {
     "data": {
      "text/plain": [
       "<Figure size 432x288 with 0 Axes>"
      ]
     },
     "metadata": {},
     "output_type": "display_data"
    },
    {
     "data": {
      "image/png": "[encoded data removed]",
      "text/plain": [
       "<Figure size 720x576 with 2 Axes>"
      ]
     },
     "metadata": {},
     "output_type": "display_data"
    }
   ],
   "source": [
    "male_only = df[df['gender']=='male']\n",
    "male_impression = male_only[feature_lst]\n",
    "\n",
    "\n",
    "fig = plt.figure()\n",
    "\n",
    "f, ax = plt.subplots(figsize=(10, 8))\n",
    "corr = male_impression.corr()\n",
    "\n",
    "mask = np.zeros_like(corr)\n",
    "mask[np.triu_indices_from(mask)] = True\n",
    "sns.heatmap(corr, mask=mask, cmap=sns.diverging_palette(220, 10, as_cmap=True),\n",
    "            square=True, ax=ax, vmin=-1, vmax=1, annot=True)\n",
    "plt.savefig('/home/amanda/Documents/vgg_model/2k_feat/may_7/visualization/impression_male_E.jpg')"
   ]
  },
  {
   "cell_type": "code",
   "execution_count": 210,
   "metadata": {},
   "outputs": [
    {
     "data": {
      "text/plain": [
       "899"
      ]
     },
     "execution_count": 210,
     "metadata": {},
     "output_type": "execute_result"
    }
   ],
   "source": [
    "# experiment with gender. \n",
    "sum(df['gender']=='female')"
   ]
  },
  {
   "cell_type": "code",
   "execution_count": 213,
   "metadata": {},
   "outputs": [
    {
     "ename": "TypeError",
     "evalue": "cannot compare a dtyped [int64] array with a scalar of type [bool]",
     "output_type": "error",
     "traceback": [
      "\u001b[0;31m---------------------------------------------------------------------------\u001b[0m",
      "\u001b[0;31mTypeError\u001b[0m                                 Traceback (most recent call last)",
      "\u001b[0;32m<ipython-input-213-dd8024493b72>\u001b[0m in \u001b[0;36m<module>\u001b[0;34m()\u001b[0m\n\u001b[0;32m----> 1\u001b[0;31m \u001b[0msum\u001b[0m\u001b[0;34m(\u001b[0m\u001b[0mdf\u001b[0m\u001b[0;34m[\u001b[0m\u001b[0mdf\u001b[0m\u001b[0;34m[\u001b[0m\u001b[0;34m'gender'\u001b[0m\u001b[0;34m]\u001b[0m\u001b[0;34m==\u001b[0m\u001b[0;34m'female'\u001b[0m \u001b[0;34m&\u001b[0m \u001b[0mdf\u001b[0m\u001b[0;34m[\u001b[0m\u001b[0;34m'success'\u001b[0m\u001b[0;34m]\u001b[0m\u001b[0;34m==\u001b[0m\u001b[0;36m1\u001b[0m\u001b[0;34m]\u001b[0m\u001b[0;34m)\u001b[0m\u001b[0;34m\u001b[0m\u001b[0m\n\u001b[0m",
      "\u001b[0;32m/home/amanda/.local/lib/python2.7/site-packages/pandas/core/ops.pyc\u001b[0m in \u001b[0;36mwrapper\u001b[0;34m(self, other)\u001b[0m\n\u001b[1;32m    952\u001b[0m                       is_integer_dtype(np.asarray(other)) else fill_bool)\n\u001b[1;32m    953\u001b[0m             return filler(self._constructor(\n\u001b[0;32m--> 954\u001b[0;31m                 \u001b[0mna_op\u001b[0m\u001b[0;34m(\u001b[0m\u001b[0mself\u001b[0m\u001b[0;34m.\u001b[0m\u001b[0mvalues\u001b[0m\u001b[0;34m,\u001b[0m \u001b[0mother\u001b[0m\u001b[0;34m)\u001b[0m\u001b[0;34m,\u001b[0m\u001b[0;34m\u001b[0m\u001b[0m\n\u001b[0m\u001b[1;32m    955\u001b[0m                 index=self.index)).__finalize__(self)\n\u001b[1;32m    956\u001b[0m \u001b[0;34m\u001b[0m\u001b[0m\n",
      "\u001b[0;32m/home/amanda/.local/lib/python2.7/site-packages/pandas/core/ops.pyc\u001b[0m in \u001b[0;36mna_op\u001b[0;34m(x, y)\u001b[0m\n\u001b[1;32m    922\u001b[0m                            \u001b[0;34m\"with a scalar of type [{type}]\"\u001b[0m\u001b[0;34m\u001b[0m\u001b[0m\n\u001b[1;32m    923\u001b[0m                            ).format(dtype=x.dtype, type=type(y).__name__)\n\u001b[0;32m--> 924\u001b[0;31m                     \u001b[0;32mraise\u001b[0m \u001b[0mTypeError\u001b[0m\u001b[0;34m(\u001b[0m\u001b[0mmsg\u001b[0m\u001b[0;34m)\u001b[0m\u001b[0;34m\u001b[0m\u001b[0m\n\u001b[0m\u001b[1;32m    925\u001b[0m \u001b[0;34m\u001b[0m\u001b[0m\n\u001b[1;32m    926\u001b[0m         \u001b[0;32mreturn\u001b[0m \u001b[0mresult\u001b[0m\u001b[0;34m\u001b[0m\u001b[0m\n",
      "\u001b[0;31mTypeError\u001b[0m: cannot compare a dtyped [int64] array with a scalar of type [bool]"
     ]
    }
   ],
   "source": [
    "sum(df[df['gender']=='female' & df['success']==1])"
   ]
  },
  {
   "cell_type": "code",
   "execution_count": 221,
   "metadata": {},
   "outputs": [
    {
     "data": {
      "text/plain": [
       "203"
      ]
     },
     "execution_count": 221,
     "metadata": {},
     "output_type": "execute_result"
    }
   ],
   "source": [
    "sum(df['IPO']==1)"
   ]
  },
  {
   "cell_type": "code",
   "execution_count": 222,
   "metadata": {},
   "outputs": [
    {
     "data": {
      "text/plain": [
       "0.026025641025641026"
      ]
     },
     "execution_count": 222,
     "metadata": {},
     "output_type": "execute_result"
    }
   ],
   "source": [
    "(203/7800.)"
   ]
  },
  {
   "cell_type": "code",
   "execution_count": 216,
   "metadata": {},
   "outputs": [
    {
     "data": {
      "text/plain": [
       "0.11525641025641026"
      ]
     },
     "execution_count": 216,
     "metadata": {},
     "output_type": "execute_result"
    }
   ],
   "source": [
    "899/7800."
   ]
  },
  {
   "cell_type": "code",
   "execution_count": 224,
   "metadata": {},
   "outputs": [
    {
     "data": {
      "text/plain": [
       "194"
      ]
     },
     "execution_count": 224,
     "metadata": {},
     "output_type": "execute_result"
    }
   ],
   "source": [
    "ind1 = df['gender']=='male'\n",
    "ind2 = df['IPO']==1\n",
    "sum(ind1 & ind2)"
   ]
  },
  {
   "cell_type": "code",
   "execution_count": 226,
   "metadata": {},
   "outputs": [
    {
     "data": {
      "text/plain": [
       "0.010011123470522803"
      ]
     },
     "execution_count": 226,
     "metadata": {},
     "output_type": "execute_result"
    }
   ],
   "source": [
    "9/899."
   ]
  },
  {
   "cell_type": "code",
   "execution_count": 225,
   "metadata": {},
   "outputs": [
    {
     "data": {
      "text/plain": [
       "0.02811186784523982"
      ]
     },
     "execution_count": 225,
     "metadata": {},
     "output_type": "execute_result"
    }
   ],
   "source": [
    "194/6901."
   ]
  },
  {
   "cell_type": "code",
   "execution_count": 232,
   "metadata": {},
   "outputs": [
    {
     "name": "stdout",
     "output_type": "stream",
     "text": [
      "\n",
      "\n",
      "\n",
      "trustworthy\n",
      "3.4257577383831945 0.0006409161925710544\n",
      "\n",
      "\n",
      "5.744375762251656 5.6101122000000005\n",
      "0.5426838209850087 0.5611541202726019\n",
      "\n",
      "\n",
      "\n",
      "intelligent\n",
      "0.2050996273716553 0.8375408194514458\n",
      "\n",
      "\n",
      "5.490810815562914 5.48430235443886\n",
      "0.4286357366864923 0.4595167560403539\n",
      "\n",
      "\n",
      "\n",
      "attractive\n",
      "0.6703535012935462 0.5028050140081646\n",
      "\n",
      "\n",
      "5.770490503973511 5.733286153433836\n",
      "0.7216847146004216 0.8165009904705031\n",
      "\n",
      "\n",
      "\n",
      "aggressive\n",
      "-2.7006709775308724 0.007050393327775544\n",
      "\n",
      "\n",
      "2.6837575629139074 2.8204939579564487\n",
      "0.7045756587195927 0.7232036544995859\n",
      "\n",
      "\n",
      "\n",
      "responsible\n",
      "2.7353629784779523 0.006354129051031331\n",
      "\n",
      "\n",
      "5.682237259271523 5.588738553768844\n",
      "0.46139702668277077 0.4951151271079815\n",
      "\n",
      "\n",
      "\n",
      "sociable\n",
      "2.0927063764489917 0.03665585194344716\n",
      "\n",
      "\n",
      "6.541054056622516 6.429619813065327\n",
      "0.7098884355777911 0.7754511992417532\n"
     ]
    }
   ],
   "source": [
    "# female success, female fail\n",
    "from scipy.stats import ttest_ind\n",
    "\n",
    "female_df = df[df['gender']=='female']\n",
    "fe_su = female_df[female_df['success'] == 1]\n",
    "fe_fa = female_df[female_df['success'] == 0]\n",
    "\n",
    "for cur_attri in feature_lst:\n",
    "    print('\\n\\n')\n",
    "    print cur_attri\n",
    "    t, p = ttest_ind(fe_su[cur_attri], fe_fa[cur_attri])\n",
    "    print t, p \n",
    "    print('\\n')\n",
    "    print fe_su[cur_attri].mean(), fe_fa[cur_attri].mean()\n",
    "    print fe_su[cur_attri].std(), fe_fa[cur_attri].std()\n"
   ]
  },
  {
   "cell_type": "code",
   "execution_count": null,
   "metadata": {},
   "outputs": [],
   "source": []
  }
 ],
 "metadata": {
  "kernelspec": {
   "display_name": "Python 2",
   "language": "python",
   "name": "python2"
  },
  "language_info": {
   "codemirror_mode": {
    "name": "ipython",
    "version": 2
   },
   "file_extension": ".py",
   "mimetype": "text/x-python",
   "name": "python",
   "nbconvert_exporter": "python",
   "pygments_lexer": "ipython2",
   "version": "2.7.12"
  }
 },
 "nbformat": 4,
 "nbformat_minor": 2
}
