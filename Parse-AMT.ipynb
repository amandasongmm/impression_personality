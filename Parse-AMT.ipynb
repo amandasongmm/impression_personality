{
 "cells": [
  {
   "cell_type": "code",
   "execution_count": 70,
   "metadata": {},
   "outputs": [],
   "source": [
    "import csv\n",
    "import json\n",
    "response=[]\n",
    "with open('trialdata.csv') as f:\n",
    "    rows = csv.reader(f)\n",
    "    for row in rows:\n",
    "        response.append(row[0]+row[3])\n",
    "        \n",
    "        "
   ]
  },
  {
   "cell_type": "code",
   "execution_count": 71,
   "metadata": {},
   "outputs": [
    {
     "ename": "KeyError",
     "evalue": "'img1'",
     "output_type": "error",
     "traceback": [
      "\u001b[0;31m---------------------------------------------------------------------------\u001b[0m",
      "\u001b[0;31mKeyError\u001b[0m                                  Traceback (most recent call last)",
      "\u001b[0;32m<ipython-input-71-2c13eb203e66>\u001b[0m in \u001b[0;36m<module>\u001b[0;34m()\u001b[0m\n\u001b[1;32m     16\u001b[0m         \u001b[0mrow\u001b[0m\u001b[0;34m.\u001b[0m\u001b[0mappend\u001b[0m\u001b[0;34m(\u001b[0m\u001b[0mworker_id\u001b[0m\u001b[0;34m)\u001b[0m\u001b[0;34m\u001b[0m\u001b[0m\n\u001b[1;32m     17\u001b[0m         \u001b[0mrow\u001b[0m\u001b[0;34m.\u001b[0m\u001b[0mappend\u001b[0m\u001b[0;34m(\u001b[0m\u001b[0massign_id\u001b[0m\u001b[0;34m)\u001b[0m\u001b[0;34m\u001b[0m\u001b[0m\n\u001b[0;32m---> 18\u001b[0;31m         \u001b[0mrow\u001b[0m\u001b[0;34m.\u001b[0m\u001b[0mappend\u001b[0m\u001b[0;34m(\u001b[0m\u001b[0mparsed\u001b[0m\u001b[0;34m[\u001b[0m\u001b[0;34m\"img1\"\u001b[0m\u001b[0;34m]\u001b[0m\u001b[0;34m)\u001b[0m\u001b[0;34m\u001b[0m\u001b[0m\n\u001b[0m\u001b[1;32m     19\u001b[0m         \u001b[0mrow\u001b[0m\u001b[0;34m.\u001b[0m\u001b[0mappend\u001b[0m\u001b[0;34m(\u001b[0m\u001b[0mparsed\u001b[0m\u001b[0;34m[\u001b[0m\u001b[0;34m\"img2\"\u001b[0m\u001b[0;34m]\u001b[0m\u001b[0;34m)\u001b[0m\u001b[0;34m\u001b[0m\u001b[0m\n\u001b[1;32m     20\u001b[0m         \u001b[0mrow\u001b[0m\u001b[0;34m.\u001b[0m\u001b[0mappend\u001b[0m\u001b[0;34m(\u001b[0m\u001b[0mparsed\u001b[0m\u001b[0;34m[\u001b[0m\u001b[0;34m\"response\"\u001b[0m\u001b[0;34m]\u001b[0m\u001b[0;34m)\u001b[0m\u001b[0;34m\u001b[0m\u001b[0m\n",
      "\u001b[0;31mKeyError\u001b[0m: 'img1'"
     ]
    }
   ],
   "source": [
    "l=[]\n",
    "\n",
    "high=0\n",
    "low=0\n",
    "\n",
    "l.append([\"worker_id\",\"assignmend id\",\"img1\",\"img2\",\"response\",\"task_type\",\"im1\",\"im2\",\"rt\",\"rep\",\"pair_ind\"])\n",
    "\n",
    "\n",
    "for r in response:\n",
    "    row=[]\n",
    "    worker_id=r[0:r.find(\":\")]\n",
    "    assign_id=r[r.find(\":\")+1:r.find(\"{\")]\n",
    "    r=r[r.find(\"{\"):]\n",
    "    parsed=json.loads(r)\n",
    "    if(parsed[\"phase\"]==\"TEST\"):\n",
    "        row.append(worker_id)\n",
    "        row.append(assign_id)\n",
    "        row.append(parsed[\"img1\"])\n",
    "        row.append(parsed[\"img2\"])\n",
    "        row.append(parsed[\"response\"])\n",
    "        row.append(parsed[\"task_type\"])\n",
    "        row.append(parsed[\"im1\"])\n",
    "        row.append(parsed[\"im2\"])\n",
    "        row.append(parsed[\"rt\"])\n",
    "        row.append(parsed[\"rep\"])\n",
    "        row.append(parsed[\"pair_ind\"])\n",
    "        \n",
    "        if((parsed[\"response\"]==\"left\" and parsed[\"im1\"]==1) or (parsed[\"response\"]==\"right\" and parsed[\"im2\"]==1)):\n",
    "            high=high+1\n",
    "        else:\n",
    "            low=low+1\n",
    "            \n",
    "    total=high+low\n",
    "        \n",
    "        \n",
    "    l.append(row)\n",
    "        \n",
    "    "
   ]
  },
  {
   "cell_type": "code",
   "execution_count": 72,
   "metadata": {},
   "outputs": [],
   "source": [
    "csvfile=\"n.csv\"\n",
    "with open(csvfile, \"w\") as output:\n",
    "    writer = csv.writer(output, lineterminator='\\n')\n",
    "    writer.writerows(l)"
   ]
  },
  {
   "cell_type": "code",
   "execution_count": 73,
   "metadata": {},
   "outputs": [
    {
     "name": "stdout",
     "output_type": "stream",
     "text": [
      "Likelihood of a high rated image 0.5652173913043478\n"
     ]
    }
   ],
   "source": [
    "print(\"Likelihood of a high rated image\",high/total)"
   ]
  },
  {
   "cell_type": "code",
   "execution_count": 74,
   "metadata": {},
   "outputs": [
    {
     "name": "stdout",
     "output_type": "stream",
     "text": [
      "Likelihood of a low rated image 0.43478260869565216\n"
     ]
    }
   ],
   "source": [
    "print(\"Likelihood of a low rated image\",low/total)"
   ]
  },
  {
   "cell_type": "code",
   "execution_count": 62,
   "metadata": {},
   "outputs": [
    {
     "data": {
      "text/plain": [
       "11"
      ]
     },
     "execution_count": 62,
     "metadata": {},
     "output_type": "execute_result"
    }
   ],
   "source": [
    "response[0].find(\":\")"
   ]
  },
  {
   "cell_type": "code",
   "execution_count": null,
   "metadata": {},
   "outputs": [],
   "source": []
  }
 ],
 "metadata": {
  "kernelspec": {
   "display_name": "Python 3",
   "language": "python",
   "name": "python3"
  },
  "language_info": {
   "codemirror_mode": {
    "name": "ipython",
    "version": 3
   },
   "file_extension": ".py",
   "mimetype": "text/x-python",
   "name": "python",
   "nbconvert_exporter": "python",
   "pygments_lexer": "ipython3",
   "version": "3.6.2"
  }
 },
 "nbformat": 4,
 "nbformat_minor": 2
}
